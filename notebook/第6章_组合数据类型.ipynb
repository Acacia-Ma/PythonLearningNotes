{
 "cells": [
  {
   "cell_type": "markdown",
   "metadata": {},
   "source": [
    "# 第6章 组合数据类型\n",
    "## 6.1 组合数据类型概述\n",
    "* 从**对单个变量表示的数据进行处理**到**对一组数据进行批量处理**\n",
    "    * 给定一组单词{python, data, function, list, loop}，计算出输出每个单词的长度。\n",
    "    * 给定一个学院的学生信息，统计男女生比例。\n",
    "    * 一次实验产生了很多组数据，对这些大量数据进行分析。\n",
    "\n",
    "* 组合数据类型能够将多个同类型或不同类型的数据组织起来，通过单一的表示使数据操作更有序、更容易。\n",
    "    * **序列类型**：是一个元素向量，元素之间存在先后关系，通过序号访问，元素之间不排他。\n",
    "    * **集合类型**：是一个元素集合，元素之间无序，相同元素在集合中唯一存在。\n",
    "    * **映射类型**：“键-值”数据项的组合，每个元素是一个键值对，表示为`(key, value)`。\n",
    "    \n",
    "### 6.1.1 序列类型\n",
    "* 序列是具有先后关系的一组元素。\n",
    "    * 序列是一维元素向量，元素类型可以不同。\n",
    "    * 类似数学元素序列：$s_{0}, s_{1}, \\dots , s_{n-1}$。\n",
    "    * 元素间由序号引导，通过下标访问序列的特定元素。\n",
    "* 序列类型是一个基类类型\n",
    "\n",
    "![xuliejilei](../picture/xuliejilei.png)\n",
    "\n",
    "* 当需要访问序列中某个特定值时，只需要通过下表标出即可。\n",
    "\n",
    "![xuliexuhao](../picture/xuliexuhao.png)\n",
    "\n",
    "* 序列类型通用操作符\n",
    "\n",
    "|操作符|描述|\n",
    "|:-:|:-:|\n",
    "|`x in s`|如果`x`是`s`的元素，返回`True`，否则返回`False`|\n",
    "|`x not in s`|如果`x`是`s`的元素，返回`False`，否则返回`True`|\n",
    "|`s + t`|连接`s`和`t`|\n",
    "|`s * n`或`n * s`|将`s`复制`n`次|\n",
    "|`s[i]`|索引，返回`s`中的第`i`个元素，`i`是序列的序号|\n",
    "|`s[i:j]`|切片，返回包含序列`s`第`i`到`j`个元素的子序列（不包含第`j`个元素）|\n",
    "|`s[i:j:k]`|步骤切片，返回包含序列`s`第`i`到`j`个元素以`k`为步数的子序列|"
   ]
  },
  {
   "cell_type": "code",
   "execution_count": 1,
   "metadata": {},
   "outputs": [
    {
     "data": {
      "text/plain": [
       "['.io', 123, 'python']"
      ]
     },
     "execution_count": 1,
     "metadata": {},
     "output_type": "execute_result"
    }
   ],
   "source": [
    "ls = [\"python\", 123, \".io\"]\n",
    "ls[::-1]"
   ]
  },
  {
   "cell_type": "code",
   "execution_count": 2,
   "metadata": {},
   "outputs": [
    {
     "data": {
      "text/plain": [
       "'oi.321nohtyp'"
      ]
     },
     "execution_count": 2,
     "metadata": {},
     "output_type": "execute_result"
    }
   ],
   "source": [
    "s = \"python123.io\"\n",
    "s[::-1]"
   ]
  },
  {
   "cell_type": "markdown",
   "metadata": {},
   "source": [
    "* 序列类型的通用函数和方法\n",
    "\n",
    "|函数|描述|\n",
    "|:-:|:-:|\n",
    "|`len(s)`|序列`s`的元素个数（长度）|\n",
    "|`min(s)`|序列`s`中的最小元素|\n",
    "|`max(s)`|序列`s`中的最大元素|\n",
    "|`s.index(x)`或`s.index(x, i, j)`|序列`s`中从`i`开始到`j`位置中第一次出现元素`x`的位置|\n",
    "|`s.count(x)`|序列`s`中出现`x`的总次数|"
   ]
  },
  {
   "cell_type": "code",
   "execution_count": 3,
   "metadata": {},
   "outputs": [
    {
     "data": {
      "text/plain": [
       "3"
      ]
     },
     "execution_count": 3,
     "metadata": {},
     "output_type": "execute_result"
    }
   ],
   "source": [
    "ls = [\"python\", 123, \".io\"]\n",
    "len(ls)"
   ]
  },
  {
   "cell_type": "code",
   "execution_count": 4,
   "metadata": {},
   "outputs": [
    {
     "data": {
      "text/plain": [
       "'y'"
      ]
     },
     "execution_count": 4,
     "metadata": {},
     "output_type": "execute_result"
    }
   ],
   "source": [
    "s = \"python123.io\"\n",
    "max(s)"
   ]
  },
  {
   "cell_type": "markdown",
   "metadata": {},
   "source": [
    "* 元组类型：是序列类型的一种扩展。\n",
    "    * 一旦创建就不能被修改。\n",
    "    * 使用小括号`()`或`tuple()`创建，元素间用逗号分隔。\n",
    "    * 可以使用或不适用小括号\n",
    "* 元组类型的使用场景：\n",
    "    * 固定数据项\n",
    "    * 函数多返回值\n",
    "    * 多变量同步赋值\n",
    "    * 循环遍历"
   ]
  },
  {
   "cell_type": "code",
   "execution_count": 8,
   "metadata": {},
   "outputs": [
    {
     "name": "stdout",
     "output_type": "stream",
     "text": [
      "('cat', 'dog', 'tiger', 'human')\n",
      "('red', 4352, 'blue', ('cat', 'dog', 'tiger', 'human'))\n",
      "blue\n",
      "tiger\n"
     ]
    }
   ],
   "source": [
    "creature = \"cat\", \"dog\", \"tiger\", \"human\"\n",
    "print(creature)\n",
    "color = (\"red\", 0x001100, \"blue\", creature)\n",
    "print(color)\n",
    "print(color[2])\n",
    "print(color[-1][2])"
   ]
  },
  {
   "cell_type": "markdown",
   "metadata": {},
   "source": [
    "* 函数多返回值"
   ]
  },
  {
   "cell_type": "code",
   "execution_count": 9,
   "metadata": {},
   "outputs": [
    {
     "name": "stdout",
     "output_type": "stream",
     "text": [
      "(3, 27)\n"
     ]
    }
   ],
   "source": [
    "def func(x):\n",
    "    return x, x ** 3\n",
    "print(func(3))"
   ]
  },
  {
   "cell_type": "markdown",
   "metadata": {},
   "source": [
    "* 多变量同步赋值"
   ]
  },
  {
   "cell_type": "code",
   "execution_count": 11,
   "metadata": {},
   "outputs": [
    {
     "name": "stdout",
     "output_type": "stream",
     "text": [
      "tiger dog\n"
     ]
    }
   ],
   "source": [
    "a, b = \"dog\", \"tiger\"\n",
    "a, b = (b, a)\n",
    "print(a, b)"
   ]
  },
  {
   "cell_type": "markdown",
   "metadata": {},
   "source": [
    "* 循环遍历"
   ]
  },
  {
   "cell_type": "code",
   "execution_count": 12,
   "metadata": {},
   "outputs": [
    {
     "name": "stdout",
     "output_type": "stream",
     "text": [
      "1.0\n",
      "5.385164807134504\n",
      "8.54400374531753\n"
     ]
    }
   ],
   "source": [
    "import math\n",
    "for x, y in ((1, 0), (2, 5), (3, 8)):\n",
    "    print(math.hypot(x, y))"
   ]
  },
  {
   "cell_type": "markdown",
   "metadata": {},
   "source": [
    "### 6.1.2 集合类型\n",
    "* **集合类型**：与数学中集合的概念一致，即包含0个或多个数据项的无序组合。\n",
    "    * 集合中的元素不可重复\n",
    "    * 元素类型只能是固定数据类型：整数、浮点数、字符串和元组等。\n",
    "    * 列表、字典和集合类型本身都是可变数据类型，不能作为集合的元素出现。**Python编译器中判断是否为固定数据类型，主要考察该类型是否能够进行哈希运算**。\n",
    "    * 集合用大括号`{}`表示，元素间用逗号分隔。\n",
    "    * 建立集合类型用`{}`或`set()`。\n",
    "    * 建立空集合类型，必须使用`set()`。"
   ]
  },
  {
   "cell_type": "code",
   "execution_count": 16,
   "metadata": {},
   "outputs": [
    {
     "name": "stdout",
     "output_type": "stream",
     "text": [
      "{123, 'python', ('python', 123)}\n"
     ]
    }
   ],
   "source": [
    "A = {\"python\", 123, (\"python\",123)}\n",
    "print(A)"
   ]
  },
  {
   "cell_type": "code",
   "execution_count": 17,
   "metadata": {},
   "outputs": [
    {
     "name": "stdout",
     "output_type": "stream",
     "text": [
      "{'y', '1', '2', '3', 'p'}\n"
     ]
    }
   ],
   "source": [
    "B = set(\"pypy123\")\n",
    "print(B)"
   ]
  },
  {
   "cell_type": "code",
   "execution_count": 19,
   "metadata": {},
   "outputs": [
    {
     "name": "stdout",
     "output_type": "stream",
     "text": [
      "{'dog', 'cata', 'tiger', 'human'}\n"
     ]
    }
   ],
   "source": [
    "C = set((\"cata\", \"dog\", \"tiger\", \"human\"))\n",
    "print(C)"
   ]
  },
  {
   "cell_type": "code",
   "execution_count": 20,
   "metadata": {},
   "outputs": [
    {
     "name": "stdout",
     "output_type": "stream",
     "text": [
      "{123, 'python'}\n"
     ]
    }
   ],
   "source": [
    "D = {\"python\", 123, \"python\",123}\n",
    "print(D)"
   ]
  },
  {
   "cell_type": "markdown",
   "metadata": {},
   "source": [
    "* 集合类型的操作符\n",
    "\n",
    "|操作符|描述|\n",
    "|:-:|:-:|\n",
    "|`S\\|T`|返回一个新集合，包括在集合`S`和`T`中的所有元素|\n",
    "|`S - T`|返回一个新集合，包括在集合`S`但不在`T`中的元素|\n",
    "|`S & T`|返回一个新集合，包括同时在集合`S`和`T`中的元素|\n",
    "|`S^T`|返回一个新集合，包括集合`S`和`T`中的非相同元素|\n",
    "|`S <= T` 或 `S < T`|返回`True`/`False`，判断`S`和`T`的子集关系|\n",
    "|`S >= T` 或 `S > T`|返回`True`/`False`，判断`S`和`T`的包含关系|\n",
    "|`S \\|= T`|更新集合`S`，包括在集合`S`和`T`中的所有元素|\n",
    "|`S -= T`|更新集合`S`，包括在集合`S`但不在`T`中的元素|\n",
    "|`S &= T`|更新集合`S`，包括同时在集合`S`和`T`中的元素|\n",
    "|`S ^= T`|更新集合`S`，包括集合`S`和`T`中的非相同元素|\n",
    "\n",
    "![jihecaozuo](../picture/jihecaozuo.png)"
   ]
  },
  {
   "cell_type": "code",
   "execution_count": 21,
   "metadata": {},
   "outputs": [
    {
     "name": "stdout",
     "output_type": "stream",
     "text": [
      "{123}\n",
      "{'p', 'y'}\n",
      "{'2', '3', 123, '1'}\n",
      "{'2', '3', '1'}\n",
      "{'y', '1', '2', '3', 'p', 123}\n"
     ]
    }
   ],
   "source": [
    "A = {\"p\", \"y\", 123}\n",
    "B = set(\"pypy123\")\n",
    "print(A - B)\n",
    "print(A & B)\n",
    "print(A ^ B)\n",
    "print(B - A)\n",
    "print(A | B)"
   ]
  },
  {
   "cell_type": "markdown",
   "metadata": {},
   "source": [
    "* 集合类型的操作函数\n",
    "\n",
    "|操作函数|描述|\n",
    "|:-:|:-:|\n",
    "|`S.add(x)`|如果数据项`x`不在集合`S`中，将`x`增加到`s`|\n",
    "|`S.clear()`|移除`S`中的所有数据项|\n",
    "|`S.copy()`|返回集合`S`的一个副本|\n",
    "|`S.pop()`|随机返回集合`S`中的一个元素，如果`S`为空，产生`KeyError`异常|\n",
    "|`S.discard(x)`|如果`x`在集合`S`中，移除该元素；如果`x`不在集合`S`中，不报错|\n",
    "|`S.remove(x)`|如果`x`在集合`S`中，移除该元素；不在则产生`KeyError`异常|\n",
    "|`S.isdisjoint(T)`|如果集合`S`和`T`没有相同元素，返回`True`|\n",
    "|`len(S)`|返回集合`S`的元素个数|\n",
    "|`x in S`|如果`x`是`S`的元素，返回`True`，否则返回`False`|\n",
    "|`x not in S`|如果`x`不是`S`的元素，返回`True`，否则返回`False`|\n",
    "|`set(x)`|将其他类型变量`x`转变为集合类型|"
   ]
  },
  {
   "cell_type": "code",
   "execution_count": 25,
   "metadata": {},
   "outputs": [
    {
     "name": "stdout",
     "output_type": "stream",
     "text": [
      "123yp"
     ]
    }
   ],
   "source": [
    "A = {\"p\", \"y\", 123}\n",
    "for item in A:\n",
    "    print(item, end=\"\")"
   ]
  },
  {
   "cell_type": "code",
   "execution_count": 29,
   "metadata": {},
   "outputs": [
    {
     "name": "stdout",
     "output_type": "stream",
     "text": [
      "123yp\n",
      "set()\n"
     ]
    }
   ],
   "source": [
    "A = {\"p\", \"y\", 123}    \n",
    "try:\n",
    "    while True:\n",
    "        print(A.pop(), end=\"\")\n",
    "except:\n",
    "    pass\n",
    "print(\"\")\n",
    "print(A)"
   ]
  },
  {
   "cell_type": "markdown",
   "metadata": {},
   "source": [
    "* 集合的使用场景：\n",
    "    * 成员关系测试\n",
    "    * 元素去重\n",
    "    * 删除数据项"
   ]
  },
  {
   "cell_type": "code",
   "execution_count": 30,
   "metadata": {},
   "outputs": [
    {
     "name": "stdout",
     "output_type": "stream",
     "text": [
      "True\n"
     ]
    }
   ],
   "source": [
    "print(\"BIT\" in {\"PYTHON\", \"BIT\", 123, \"GOOD\"})"
   ]
  },
  {
   "cell_type": "code",
   "execution_count": 31,
   "metadata": {},
   "outputs": [
    {
     "name": "stdout",
     "output_type": "stream",
     "text": [
      "{'PYTHON', 123, 'BIT', 'GOOD'}\n"
     ]
    }
   ],
   "source": [
    "tup = {\"PYTHON\", \"BIT\", 123, \"GOOD\", 123}\n",
    "print(set(tup))"
   ]
  },
  {
   "cell_type": "code",
   "execution_count": 32,
   "metadata": {},
   "outputs": [
    {
     "name": "stdout",
     "output_type": "stream",
     "text": [
      "(123, 'BIT', 'GOOD')\n"
     ]
    }
   ],
   "source": [
    "newtup = tuple(set(tup) - {\"PYTHON\"})\n",
    "print(newtup)"
   ]
  },
  {
   "cell_type": "markdown",
   "metadata": {},
   "source": [
    "### 6.1.3 映射类型\n",
    "* 映射类型是“键-值”数据项的组合，每个元素是一个键值对`(key, value)`，元素之间是无序的。\n",
    "    * 键值对是一种二元关系，表达属性和值的映射。\n",
    "    * 键（key）表示一个属性，值（value）是属性的内容，键值对刻画了一个属性和它的值。\n",
    "    * 键值对将映射关系结构化，用于存储和表达。\n",
    "\n",
    "![yingsheduiying](../picture/yingsheduiying.png)\n",
    "\n",
    "![ysdylizi](../picture/ysdylizi.png)\n",
    "\n",
    "![xulieyingshe](../picture/xulieyingshe.png)\n",
    "\n",
    "## 6.2 列表类型和操作\n",
    "### 6.2.1 列表类型的概念\n",
    "**列表（list）是包含0个或多个对象引用的有序序列，属于序列类型。**\n",
    "* 列表的长度和内容都是可变的，可以自由对列表中的数据项进行增加、删除或替换。\n",
    "* 列表没有长度限制，元素类型可以不同，使用非常灵活。\n",
    "* 列表属于序列类型，支持成员关系操作符`in`，产犊计算函数`len()`，分片`()`。\n",
    "* 列表可以同时使用正向递增序号和反向递减序号。\n",
    "* 列表可以采用标准的比较运算符`<`、`<=`、`==`、`!=`、`>=`、`>`进行比较，且比较实际上是单个数据项的逐个比较。\n",
    "* 列表用中括号`[]`表示，也可以通过`list()`函数将元组和字符串转化成列表，直接使用`list()`函数返回一个空列表。\n",
    "\n"
   ]
  },
  {
   "cell_type": "code",
   "execution_count": 34,
   "metadata": {},
   "outputs": [
    {
     "name": "stdout",
     "output_type": "stream",
     "text": [
      "[425, 'BIT', [10, 'CS'], 425]\n",
      "C\n"
     ]
    }
   ],
   "source": [
    "ls = [425, \"BIT\", [10, \"CS\"], 425]\n",
    "print(ls)\n",
    "print(ls[2][-1][0])"
   ]
  },
  {
   "cell_type": "code",
   "execution_count": 35,
   "metadata": {},
   "outputs": [
    {
     "name": "stdout",
     "output_type": "stream",
     "text": [
      "[425, 'BIT', [10, 'CS'], 425]\n"
     ]
    }
   ],
   "source": [
    "ls = list((425, \"BIT\", [10, \"CS\"], 425))\n",
    "print(ls)"
   ]
  },
  {
   "cell_type": "code",
   "execution_count": 36,
   "metadata": {},
   "outputs": [
    {
     "name": "stdout",
     "output_type": "stream",
     "text": [
      "['中', '国', '是', '一', '个', '伟', '大', '的', '国', '家']\n"
     ]
    }
   ],
   "source": [
    "ls = list(\"中国是一个伟大的国家\")\n",
    "print(ls)"
   ]
  },
  {
   "cell_type": "code",
   "execution_count": 37,
   "metadata": {},
   "outputs": [
    {
     "name": "stdout",
     "output_type": "stream",
     "text": [
      "[]\n"
     ]
    }
   ],
   "source": [
    "ls = list()\n",
    "print(ls)"
   ]
  },
  {
   "cell_type": "markdown",
   "metadata": {},
   "source": [
    "* 列表必须通过显式的数据赋值才能生成，简单将一个列表赋值给另一个列表不会生成新的列表对象。"
   ]
  },
  {
   "cell_type": "code",
   "execution_count": 39,
   "metadata": {},
   "outputs": [
    {
     "name": "stdout",
     "output_type": "stream",
     "text": [
      "['cat', 'dog', 'tiger', 1024]\n",
      "['cat', 'dog', 'tiger', 1024]\n",
      "[0, 'dog', 'tiger', 1024]\n"
     ]
    }
   ],
   "source": [
    "ls = [\"cat\", \"dog\", \"tiger\", 1024]\n",
    "print(ls)\n",
    "lt = ls\n",
    "print(lt)\n",
    "ls[0] = 0\n",
    "print(lt)"
   ]
  },
  {
   "cell_type": "markdown",
   "metadata": {},
   "source": [
    "![lsltduiying](../picture/lsltduiying.png)\n",
    "\n",
    "### 6.2.2 列表类型的操作\n",
    "* 列表类型特有的函数\n",
    "\n",
    "|函数|描述|\n",
    "|:-:|:-:|\n",
    "|`ls[i] = x`|替换列表`ls`第`i`个数据项为`x`|\n",
    "|`ls[i:j] = lt`|用列表`lt`替换列表`ls`中第`i`到第`j`项数据（不含第`j`项，下同）|\n",
    "|`ls[i:j:k] = lt`|用列表`lt`替换列表`ls`中第`i`到第`j`项以`k`为步数的数据|\n",
    "|`del ls[i:j]`|删除列表`ls`第`i`到第`j`项数据，等价于`ls[i:j]=[]`|\n",
    "|`del ls[i:j:k]`|删除列表`ls`第`i`到第`j`项以`k`为步数的数据|\n",
    "|`ls += lt`或`ls.extend(lt)`|将列表`lt`元素增加到列表`ls`中|\n",
    "|`ls *= n`|更新列表`ls`，其元素重复`n`次|\n",
    "|`ls.append(x)`|在列表`ls`最后增加一个元素`x`|\n",
    "|`ls.clear()`|删除`ls`中的所有元素|\n",
    "|`ls.copy()`|生成一个新列表，复制`ls`中的所有元素|\n",
    "|`ls.insert(i, x)`|在列表`ls`的第`i`位置增加元素`x`|\n",
    "|`ls.pop(i)`|将列表`ls`中的第`i`项元素取出并删除该元素|\n",
    "|`ls.remove(x)`|将列表中出现的第一个元素`x`删除|\n",
    "|`ls.reverse(x)`|列表`ls`中的元素反转|"
   ]
  },
  {
   "cell_type": "code",
   "execution_count": 45,
   "metadata": {},
   "outputs": [
    {
     "name": "stdout",
     "output_type": "stream",
     "text": [
      "[0, 1, 2, 3, 4]\n",
      "3\n",
      "True\n",
      "[0, 1, 2, 'python', 4]\n",
      "[0, 'bit', 'computer', 'python', 4]\n",
      "[0, 'new_bit', 'new_computer', 123, 'python', 4]\n",
      "[0, 'fewer', 123, 'python', 4]\n",
      "0 fewer 123 python 4 "
     ]
    }
   ],
   "source": [
    "vlist = list(range(5))\n",
    "print(vlist)\n",
    "print(len(vlist[2:]))\n",
    "print(2 in vlist)\n",
    "\n",
    "vlist[3] = \"python\"\n",
    "print(vlist)\n",
    "\n",
    "vlist[1:3] = [\"bit\", \"computer\"]\n",
    "print(vlist)\n",
    "\n",
    "vlist[1:3] = [\"new_bit\", \"new_computer\", 123]\n",
    "print(vlist)\n",
    "\n",
    "vlist[1:3] = [\"fewer\"]\n",
    "print(vlist)\n",
    "\n",
    "for e in vlist:\n",
    "    print(e, end=\" \")"
   ]
  },
  {
   "cell_type": "markdown",
   "metadata": {},
   "source": [
    "* 当使用一个列表改变另一个列表时，Python不要求两个列表长度一样，要遵循“多增少减”的原则。"
   ]
  },
  {
   "cell_type": "markdown",
   "metadata": {},
   "source": [
    "* 列表可以通过`for-in`语句对其元素进行遍历，基本语法如下：\n",
    "\n",
    "```python\n",
    "for <任意变量名> in <列表名>:\n",
    "    <语句块>\n",
    "```\n",
    "\n",
    "**列表用法总结**：\n",
    "* 能处理任意长度\n",
    "* 能处理混合类型数据\n",
    "* 提供了丰富的基础操作符和方法\n",
    "\n",
    "## 6.3 实例：基本统计值计算\n",
    "**问题**：求解一组不定长数据的基本统计值，即**平均值**、**标准差**和**中位数**。\n",
    "* 一组数据表示为$S = s_{0}, s_{1}, \\dots, s_{n-1}$，其算术平均值、标准差分表表示如下：\n",
    "$$m = \\frac{\\sum_{i = 0}^{n - 1}s_{i}}{n}$$\n",
    "$$d = \\sqrt{\\frac{\\sum_{i = 0}^{n - 1}(s_{i} -m)^{2}}{n - 1}}$$\n",
    "* 中位数指$S$中所有数按照从小到大（或从大到小）顺序排序后，处于最中间位置的数据值。\n",
    "    * 如果$n$为奇数，则中位数为最中间位置的数$s_{n // 2}(n=0,1,2,\\dots)$。\n",
    "    * 如果$n$为偶数，则中位数为最中间两个数的平均值$\\frac{s_{(n // 2) - 1} + s_{n // 2}}{2}$。\n"
   ]
  },
  {
   "cell_type": "code",
   "execution_count": 47,
   "metadata": {},
   "outputs": [
    {
     "name": "stdout",
     "output_type": "stream",
     "text": [
      "请输入数字(回车退出): 99\n",
      "请输入数字(回车退出): 98\n",
      "请输入数字(回车退出): 97\n",
      "请输入数字(回车退出): 96\n",
      "请输入数字(回车退出): 95\n",
      "请输入数字(回车退出): \n",
      "平均值:97.0,方差:1.6,中位数:97.\n"
     ]
    }
   ],
   "source": [
    "#获取用户不定长度的输入\n",
    "def getNum(): \n",
    "    nums = []\n",
    "    iNumStr = input(\"请输入数字(回车退出): \")\n",
    "    while iNumStr != \"\":\n",
    "        nums.append(eval(iNumStr))\n",
    "        iNumStr = input(\"请输入数字(回车退出): \")\n",
    "    return nums\n",
    "\n",
    "#计算平均值\n",
    "def mean(numbers): \n",
    "    s = 0.0\n",
    "    for num in numbers:\n",
    "        s = s + num\n",
    "    return s / len(numbers)\n",
    "\n",
    "#计算方差\n",
    "def dev(numbers, mean): \n",
    "    sdev = 0.0\n",
    "    for num in numbers:\n",
    "        sdev = sdev + (num - mean)**2\n",
    "    return pow(sdev / (len(numbers)-1), 0.5)\n",
    "\n",
    "#计算中位数\n",
    "def median(numbers): \n",
    "    sorted(numbers)\n",
    "    size = len(numbers)\n",
    "    if size % 2 == 0:\n",
    "        med = (numbers[size//2-1] + numbers[size//2])/2\n",
    "    else:\n",
    "        med = numbers[size//2]\n",
    "    return med\n",
    "\n",
    "n = getNum() \n",
    "m = mean(n)\n",
    "print(\"平均值:{},方差:{:.2},中位数:{}.\".format(m, dev(n,m),median(n)))"
   ]
  },
  {
   "cell_type": "markdown",
   "metadata": {},
   "source": [
    "## 6.4 字典类型和操作\n",
    "**字典类型是“映射”的体现**\n",
    "* 键值对：键是数据索引的扩展。\n",
    "* 字典是键值对的集合，键值对之间无序。\n",
    "* 采用大括号`{}`和`dict()`创建，键值对用冒号`:`表示。\n",
    "\n",
    "```python\n",
    "{<键1>:<值1>, <键2>:<值2>, … , <键n>:<值n>}\n",
    "```"
   ]
  },
  {
   "cell_type": "code",
   "execution_count": 48,
   "metadata": {},
   "outputs": [
    {
     "name": "stdout",
     "output_type": "stream",
     "text": [
      "{'中国': '北京', '美国': '华盛顿', '法国': '巴黎'}\n"
     ]
    }
   ],
   "source": [
    "Dcountry = {\"中国\":\"北京\", \"美国\":\"华盛顿\", \"法国\":\"巴黎\"}\n",
    "print(Dcountry)"
   ]
  },
  {
   "cell_type": "markdown",
   "metadata": {},
   "source": [
    ">**为什么字典也用`{}`，这不是跟集合一样了吗？**\n",
    "从Python设计角度考虑，由于大括号`{}`可以表示集合，因此字典类型也具有和集合类似的性质，即键值对之间没有顺序且不能重复。我们可以把字典看成元素是键值对的集合。\n",
    "\n",
    "* 在字典变量中，通过键获得值，`[]`用来向字典变量中索引或增加元素。\n",
    "\n",
    "```python\n",
    "<字典变量> = {<键1>:<值1>, … , <键n>:<值n>}\n",
    "<值> = <字典变量>[<键>]\n",
    "<字典变量>[<键>] = <值>\n",
    "```"
   ]
  },
  {
   "cell_type": "code",
   "execution_count": 49,
   "metadata": {},
   "outputs": [
    {
     "name": "stdout",
     "output_type": "stream",
     "text": [
      "{'中国': 'Beijing', '美国': '华盛顿', '法国': '巴黎'}\n"
     ]
    }
   ],
   "source": [
    "Dcountry = {\"中国\":\"北京\", \"美国\":\"华盛顿\", \"法国\":\"巴黎\"}\n",
    "Dcountry[\"中国\"] = \"Beijing\"\n",
    "print(Dcountry)"
   ]
  },
  {
   "cell_type": "markdown",
   "metadata": {},
   "source": [
    "**总结**：\n",
    "* 字典是存储可变数量键值对的数据结构。\n",
    "* 键和值可以是任意数据类型，包括程序自定义的类型。\n",
    "* Python字典效率非常高，可以存储几十万项内容。\n",
    "\n",
    "### 6.4.2 字典类型的操作\n",
    "* 使用大括号可以创建字典，并制定初始值。\n",
    "* 通过中括号可以增加新的元素。"
   ]
  },
  {
   "cell_type": "code",
   "execution_count": 51,
   "metadata": {},
   "outputs": [
    {
     "name": "stdout",
     "output_type": "stream",
     "text": [
      "{'中国': '北京', '美国': '华盛顿', '法国': '巴黎'}\n",
      "{'中国': '北京', '美国': '华盛顿', '法国': '巴黎', '英国': '伦敦'}\n"
     ]
    }
   ],
   "source": [
    "Dcountry = {\"中国\":\"北京\", \"美国\":\"华盛顿\", \"法国\":\"巴黎\"}\n",
    "print(Dcountry)\n",
    "Dcountry[\"英国\"] = \"伦敦\"\n",
    "print(Dcountry)"
   ]
  },
  {
   "cell_type": "markdown",
   "metadata": {},
   "source": [
    "* 直接使用大括号`{}`可以创建一个空的字典，并通过中括号`[]`向其增加元素。"
   ]
  },
  {
   "cell_type": "code",
   "execution_count": 52,
   "metadata": {},
   "outputs": [
    {
     "name": "stdout",
     "output_type": "stream",
     "text": [
      "{'2^10': 1024}\n"
     ]
    }
   ],
   "source": [
    "dp = {}\n",
    "dp[\"2^10\"] = 1024\n",
    "print(dp)"
   ]
  },
  {
   "cell_type": "markdown",
   "metadata": {},
   "source": [
    "**特别注意**：\n",
    "* 生成空的字典，直接使用大括号`{}`。\n",
    "* 生成空集合，要使用`set()`。"
   ]
  },
  {
   "cell_type": "markdown",
   "metadata": {},
   "source": [
    "* 字典再Python内部采用面向对象方式实现，字典类型的函数采用`<a>.<b>()`格式。\n",
    "\n",
    "|函数|描述|\n",
    "|:-:|:-:|\n",
    "|`del d[k]`|删除字典`d`中键`k`对应的数据值|\n",
    "|`k in d`|判断键`k`是否在字典`d`中，如果在返回`True`，否则`False`|\n",
    "|`d.keys()`|返回字典`d`中所有的键信息|\n",
    "|`d.values()`|返回字典`d`中所有的值信息|\n",
    "|`d.items()`|返回字典`d`中所有的键值对信息|\n",
    "|`d.get(k, <default>)`|键`k`存在，则返回相应值，不在则返回`<default>`值|\n",
    "|`d.pop(k, <default>)`|键`k`存在，则取出相应值，不在则返回`<default>`值|\n",
    "|`d.popitem()`|随机从字典`d`中取出一个键值对，以元组形式返回|\n",
    "|`d.clear()`|删除所有的键值对|\n",
    "|`len(d)`|返回字典`d`中元素的个数|"
   ]
  },
  {
   "cell_type": "code",
   "execution_count": 62,
   "metadata": {},
   "outputs": [
    {
     "name": "stdout",
     "output_type": "stream",
     "text": [
      "dict_keys(['中国', '美国', '法国'])\n",
      "['中国', '美国', '法国']\n",
      "dict_values(['北京', '华盛顿', '巴黎'])\n",
      "['北京', '华盛顿', '巴黎']\n",
      "dict_items([('中国', '北京'), ('美国', '华盛顿'), ('法国', '巴黎')])\n",
      "[('中国', '北京'), ('美国', '华盛顿'), ('法国', '巴黎')]\n",
      "True\n",
      "华盛顿\n",
      "悉尼\n"
     ]
    }
   ],
   "source": [
    "Dcountry = {\"中国\":\"北京\", \"美国\":\"华盛顿\", \"法国\":\"巴黎\"}\n",
    "print(Dcountry.keys())\n",
    "print(list(Dcountry.keys()))\n",
    "\n",
    "print(Dcountry.values())\n",
    "print(list(Dcountry.values()))\n",
    "\n",
    "print(Dcountry.items())\n",
    "print(list(Dcountry.items()))\n",
    "\n",
    "print(\"中国\" in Dcountry)\n",
    "\n",
    "#\"美国\"在字典中存在, 返回\"美国\"这个key对应的value\"华盛顿\"\n",
    "print(Dcountry.get(\"美国\", \"悉尼\"))\n",
    "\n",
    "#\"澳大利亚\"不存在, 返回默认值\"悉尼\"\n",
    "print(Dcountry.get(\"澳大利亚\", \"悉尼\"))"
   ]
  },
  {
   "cell_type": "markdown",
   "metadata": {},
   "source": [
    "* 字典可以通过`for-in`语句对其元素进行遍历，基本语法结构如下：\n",
    "```python\n",
    "for <变量名> in <字典名>:\n",
    "    <语句块>\n",
    "```\n"
   ]
  },
  {
   "cell_type": "code",
   "execution_count": 2,
   "metadata": {},
   "outputs": [
    {
     "name": "stdout",
     "output_type": "stream",
     "text": [
      "中国\n",
      "美国\n",
      "法国\n",
      "北京\n",
      "华盛顿\n",
      "巴黎\n"
     ]
    }
   ],
   "source": [
    "Dcountry = {\"中国\":\"北京\", \"美国\":\"华盛顿\", \"法国\":\"巴黎\"}\n",
    "for key in Dcountry:\n",
    "    print(key)\n",
    "\n",
    "for key in Dcountry:\n",
    "    print(Dcountry[key])"
   ]
  },
  {
   "cell_type": "markdown",
   "metadata": {},
   "source": [
    "**字典用法总结**：\n",
    "* 字典是一个键值对的集合，该集合以键为索引，一个键信息只对应一个值信息。\n",
    "* 字典中元素以键信息为索引访问。\n",
    "* 字典长度是可变的，可以通过对键信息赋值实现增加或修改键值对。"
   ]
  },
  {
   "cell_type": "markdown",
   "metadata": {},
   "source": [
    "## 6.5 jieba库的使用\n",
    "### 6.5.1 jieba库概述\n",
    "* 英文分词：简单易行，使用字符串分隔即可。"
   ]
  },
  {
   "cell_type": "code",
   "execution_count": 4,
   "metadata": {},
   "outputs": [
    {
     "name": "stdout",
     "output_type": "stream",
     "text": [
      "['China', 'is', 'a', 'great', 'country']\n"
     ]
    }
   ],
   "source": [
    "s = \"China is a great country.\"\n",
    "s = s[:-1].split(\" \")\n",
    "print(s)"
   ]
  },
  {
   "cell_type": "markdown",
   "metadata": {},
   "source": [
    "* 中文分词：由于中文单词之前缺少分隔符，所以中文分词还是有一定难度的。\n",
    "* jieba是Python中一个重要的第三方中文分词函数库。由于不是Python安装包自带的，Anaconda也没有预装，需要我们通过`pip`指令安装。\n",
    "\n",
    "![installjieba](../picture/installjieba.png)"
   ]
  },
  {
   "cell_type": "code",
   "execution_count": 6,
   "metadata": {},
   "outputs": [
    {
     "name": "stderr",
     "output_type": "stream",
     "text": [
      "Building prefix dict from the default dictionary ...\n",
      "Dumping model to file cache C:\\Users\\yuang\\AppData\\Local\\Temp\\jieba.cache\n",
      "Loading model cost 1.289 seconds.\n",
      "Prefix dict has been built successfully.\n"
     ]
    },
    {
     "name": "stdout",
     "output_type": "stream",
     "text": [
      "['中国', '是', '一个', '伟大', '的', '国家']\n"
     ]
    }
   ],
   "source": [
    "import jieba\n",
    "print(jieba.lcut(\"中国是一个伟大的国家\"))"
   ]
  },
  {
   "cell_type": "markdown",
   "metadata": {},
   "source": [
    "* jieba库的分词原理：利用一个中文词库，将待分词的内容与分词词库进行比对，通过图结构和动态规划方法找到最大概率的词组。\n",
    "* jieba库支持的三种分词模式：\n",
    "    * 精确模式：将句子最精确地切开，适合文本分析。\n",
    "    * 全模式：把句子中所有可以成词地词语都扫描出来，速度快，但不能消除歧义。\n",
    "    * 搜索引擎模式：在精确模式地基础上，对长词再次切分，提高召回率，适合用于搜索引擎分词。   \n",
    "\n",
    "### 6.5.2 jieba库解析\n",
    "\n",
    "* jieba库常用地分词函数\n",
    "\n",
    "|函数|描述|\n",
    "|:-:|:-:|\n",
    "|`jieba.cut(a)`|精确模式，返回一个可迭代的数据类型|\n",
    "|`jieba.cut(s, cut_all=True)`|全模式，输出文本`s`中所有可能的单词|\n",
    "|`jieba.cut_for_search(s)`|搜索引擎模式，适合搜索引擎建立索引的分词结果|\n",
    "|`jieba.lcut(s)`|精确模式，返回一个列表类型，建议使用|\n",
    "|`jieba.lcut(s, cut_all=True)`|全模式，返回一个列表，建议使用|\n",
    "|`jieba.lcut_for_search(s)`|搜索引擎模式，返回一个列表类型，建议使用|\n",
    "|`jieba.add_word(w)`|向分词词典中增加新词`w`|"
   ]
  },
  {
   "cell_type": "code",
   "execution_count": 3,
   "metadata": {},
   "outputs": [
    {
     "name": "stdout",
     "output_type": "stream",
     "text": [
      "['中华人民共和国', '是', '一个', '伟大', '的', '国家']\n",
      "['中华', '中华人民', '中华人民共和国', '华人', '人民', '人民共和国', '共和', '共和国', '国是', '一个', '伟大', '的', '国家']\n",
      "['中华', '华人', '人民', '共和', '共和国', '中华人民共和国', '是', '一个', '伟大', '的', '国家']\n"
     ]
    }
   ],
   "source": [
    "import jieba\n",
    "print(jieba.lcut(\"中华人民共和国是一个伟大的国家\"))\n",
    "print(jieba.lcut(\"中华人民共和国是一个伟大的国家\", cut_all=True))\n",
    "print(jieba.lcut_for_search(\"中华人民共和国是一个伟大的国家\"))"
   ]
  },
  {
   "cell_type": "markdown",
   "metadata": {},
   "source": [
    "* 对于无法识别的分词，可以通过`jieba.add_word()`函数向分词库添加。"
   ]
  },
  {
   "cell_type": "code",
   "execution_count": 4,
   "metadata": {},
   "outputs": [
    {
     "name": "stdout",
     "output_type": "stream",
     "text": [
      "['习', '大大', '期盼', '有', '更好', '的', '教育']\n",
      "['习大大', '期盼', '有', '更好', '的', '教育']\n"
     ]
    }
   ],
   "source": [
    "import jieba\n",
    "print(jieba.lcut(\"习大大期盼有更好的教育\"))\n",
    "jieba.add_word(\"习大大\")\n",
    "print(jieba.lcut(\"习大大期盼有更好的教育\"))"
   ]
  },
  {
   "cell_type": "markdown",
   "metadata": {},
   "source": [
    "## 6.6 实例：文本词频统计\n",
    "### 6.6.1 Hamlet英文词频统计\n",
    "* 第一步：将文本文件中的内容全部变成小写或大写字母，排除原文大小写差异对词频统计的干扰。\n",
    "* 第二步：将各种特殊字符和标点符号替换成空格再提取单词。\n",
    "* 第三步：对每个单词进行计数。"
   ]
  },
  {
   "cell_type": "code",
   "execution_count": 5,
   "metadata": {},
   "outputs": [
    {
     "name": "stdout",
     "output_type": "stream",
     "text": [
      "the        1138\n",
      "and         965\n",
      "to          754\n",
      "of          669\n",
      "you         550\n",
      "i           542\n",
      "a           542\n",
      "my          514\n",
      "hamlet      462\n",
      "in          436\n"
     ]
    }
   ],
   "source": [
    "def getText():\n",
    "    txt = open(\"../file/hamlet.txt\", \"r\").read()\n",
    "    txt = txt.lower()\n",
    "    for ch in '!\"#$%&()*+,-./:;<=>?@[\\\\]^_‘{|}~':\n",
    "        txt = txt.replace(ch, \" \")   #将文本中特殊字符替换为空格\n",
    "    return txt\n",
    "hamletTxt = getText()\n",
    "words  = hamletTxt.split()\n",
    "counts = {}\n",
    "for word in words:\n",
    "    counts[word] = counts.get(word,0) + 1\n",
    "items = list(counts.items())\n",
    "items.sort(key=lambda x:x[1], reverse=True) \n",
    "for i in range(10):\n",
    "    word, count = items[i]\n",
    "    print (\"{0:<10}{1:>5}\".format(word, count))"
   ]
  },
  {
   "cell_type": "markdown",
   "metadata": {},
   "source": [
    "* 采用集合类型构建一个排除词汇库`excludes`，再输出结果中排除这个词汇库中的内容。"
   ]
  },
  {
   "cell_type": "code",
   "execution_count": 3,
   "metadata": {
    "ExecuteTime": {
     "end_time": "2022-04-25T11:59:43.647653Z",
     "start_time": "2022-04-25T11:59:43.629587Z"
    }
   },
   "outputs": [
    {
     "name": "stdout",
     "output_type": "stream",
     "text": [
      "to          754\n",
      "hamlet      462\n",
      "it          416\n",
      "that        391\n",
      "is          340\n",
      "not         314\n",
      "lord        309\n",
      "his         296\n",
      "this        295\n",
      "but         269\n"
     ]
    }
   ],
   "source": [
    "excludes = {\"the\",\"and\",\"of\",\"you\",\"a\",\"i\",\"my\",\"in\"}\n",
    "def getText():\n",
    "    txt = open(\"../file/hamlet.txt\", \"r\").read()\n",
    "    txt = txt.lower()\n",
    "    for ch in '!\"#$%&()*+,-./:;<=>?@[\\\\]^_‘{|}~':\n",
    "        txt = txt.replace(ch, \" \")   #将文本中特殊字符替换为空格\n",
    "    return txt\n",
    "hamletTxt = getText()\n",
    "words  = hamletTxt.split()\n",
    "counts = {}\n",
    "for word in words:\n",
    "    counts[word] = counts.get(word,0) + 1\n",
    "for word in excludes:\n",
    "    del(counts[word])    \n",
    "items = list(counts.items())\n",
    "items.sort(key=lambda x:x[1], reverse=True) \n",
    "for i in range(10):\n",
    "    word, count = items[i]\n",
    "    print (\"{0:<10}{1:>5}\".format(word, count))"
   ]
  },
  {
   "cell_type": "markdown",
   "metadata": {},
   "source": [
    "### 6.6.2 《三国演义》人物出场统计\n",
    "* 第一步：使用jieba库对《三国演义》文本内容进行中文分词。\n",
    "* 第二步：对词汇进行词频统计。"
   ]
  },
  {
   "cell_type": "code",
   "execution_count": 1,
   "metadata": {
    "ExecuteTime": {
     "end_time": "2022-04-25T11:58:38.976660Z",
     "start_time": "2022-04-25T11:58:35.142278Z"
    }
   },
   "outputs": [
    {
     "name": "stderr",
     "output_type": "stream",
     "text": [
      "Building prefix dict from the default dictionary ...\n",
      "Loading model from cache C:\\Users\\TY丶云~1\\AppData\\Local\\Temp\\jieba.cache\n",
      "Loading model cost 0.600 seconds.\n",
      "Prefix dict has been built successfully.\n"
     ]
    },
    {
     "name": "stdout",
     "output_type": "stream",
     "text": [
      "曹操          953\n",
      "孔明          836\n",
      "将军          772\n",
      "却说          656\n",
      "玄德          585\n",
      "关公          510\n",
      "丞相          491\n",
      "二人          469\n",
      "不可          440\n",
      "荆州          425\n",
      "玄德曰         390\n",
      "孔明曰         390\n",
      "不能          384\n",
      "如此          378\n",
      "张飞          358\n"
     ]
    }
   ],
   "source": [
    "import jieba\n",
    "excludes = {}#{\"将军\",\"却说\",\"丞相\"}\n",
    "txt = open(\"../file/sanguoyanyi.txt\", \"r\", encoding='utf-8').read()\n",
    "words  = jieba.lcut(txt)\n",
    "counts = {}\n",
    "for word in words:\n",
    "    if len(word) == 1:  #排除单个字符的分词结果\n",
    "        continue\n",
    "    else:\n",
    "        counts[word] = counts.get(word,0) + 1\n",
    "for word in excludes:\n",
    "    del(counts[word])\n",
    "items = list(counts.items())\n",
    "items.sort(key=lambda x:x[1], reverse=True) \n",
    "for i in range(15):\n",
    "    word, count = items[i]\n",
    "    print (\"{0:<10}{1:>5}\".format(word, count))"
   ]
  },
  {
   "cell_type": "markdown",
   "metadata": {},
   "source": [
    "* 排除一些人名无关的词汇。\n",
    "* 对于同一个人物有不同名字的情况进行整合处理。"
   ]
  },
  {
   "cell_type": "code",
   "execution_count": 4,
   "metadata": {
    "ExecuteTime": {
     "end_time": "2022-04-25T12:02:06.067835Z",
     "start_time": "2022-04-25T12:02:03.134904Z"
    }
   },
   "outputs": [
    {
     "name": "stdout",
     "output_type": "stream",
     "text": [
      "曹操         1451\n",
      "孔明         1383\n",
      "刘备         1252\n",
      "关羽          784\n",
      "张飞          358\n"
     ]
    }
   ],
   "source": [
    "import jieba\n",
    "excludes = {\"将军\",\"却说\",\"荆州\",\"二人\",\"不可\",\"不能\",\"如此\"}\n",
    "txt = open(\"../file/sanguoyanyi.txt\", \"r\", encoding='utf-8').read()\n",
    "words  = jieba.lcut(txt)\n",
    "counts = {}\n",
    "for word in words:\n",
    "    if len(word) == 1:\n",
    "        continue\n",
    "    elif word == \"诸葛亮\" or word == \"孔明曰\":\n",
    "        rword = \"孔明\"\n",
    "    elif word == \"关公\" or word == \"云长\":\n",
    "        rword = \"关羽\"\n",
    "    elif word == \"玄德\" or word == \"玄德曰\":\n",
    "        rword = \"刘备\"\n",
    "    elif word == \"孟德\" or word == \"丞相\":\n",
    "        rword = \"曹操\"\n",
    "    else:\n",
    "        rword = word\n",
    "    counts[rword] = counts.get(rword,0) + 1\n",
    "for word in excludes:\n",
    "    del(counts[word])\n",
    "items = list(counts.items())\n",
    "items.sort(key=lambda x:x[1], reverse=True) \n",
    "for i in range(5):\n",
    "    word, count = items[i]\n",
    "    print (\"{0:<10}{1:>5}\".format(word, count))"
   ]
  },
  {
   "cell_type": "markdown",
   "metadata": {},
   "source": [
    "## 6.7 实例：Python之禅\n",
    "* Python解释器内置的“this.py”文件被称为“Python之禅”，其内容如下："
   ]
  },
  {
   "cell_type": "code",
   "execution_count": 9,
   "metadata": {},
   "outputs": [
    {
     "name": "stdout",
     "output_type": "stream",
     "text": [
      "The Zen of Python, by Tim Peters\n",
      "Beautiful is better than ugly.\n",
      "Explicit is better than implicit.\n",
      "Simple is better than complex.\n",
      "Complex is better than complicated.\n",
      "Flat is better than nested.\n",
      "Sparse is better than dense.\n",
      "Readability counts.\n",
      "Special cases aren't special enough to break the rules.\n",
      "Although practicality beats purity.\n",
      "Errors should never pass silently.\n",
      "Unless explicitly silenced.\n",
      "In the face of ambiguity, refuse the temptation to guess.\n",
      "There should be one-- and preferably only one --obvious way\n",
      "to do it.\n",
      "Although that way may not be obvious at first unless you're\n",
      "Dutch.\n",
      "Now is better than never.\n",
      "Although never is often better than *right* now.\n",
      "If the implementation is hard to explain, it's a bad idea.\n",
      "If the implementation is easy to explain, it may be a good\n",
      "idea.\n",
      "Namespaces are one honking great idea -- let's do more of\n",
      "those!\n"
     ]
    }
   ],
   "source": [
    "s = \"\"\"Gur Mra bs Clguba, ol Gvz Crgref\n",
    "Ornhgvshy vf orggre guna htyl.\n",
    "Rkcyvpvg vf orggre guna vzcyvpvg.\n",
    "Fvzcyr vf orggre guna pbzcyrk.\n",
    "Pbzcyrk vf orggre guna pbzcyvpngrq.\n",
    "Syng vf orggre guna arfgrq.\n",
    "Fcnefr vf orggre guna qrafr.\n",
    "Ernqnovyvgl pbhagf.\n",
    "Fcrpvny pnfrf nera'g fcrpvny rabhtu gb oernx gur ehyrf.\n",
    "Nygubhtu cenpgvpnyvgl orngf chevgl.\n",
    "Reebef fubhyq arire cnff fvyragyl.\n",
    "Hayrff rkcyvpvgyl fvyraprq.\n",
    "Va gur snpr bs nzovthvgl, ershfr gur grzcgngvba gb thrff.\n",
    "Gurer fubhyq or bar-- naq cersrenoyl bayl bar --boivbhf jnl\n",
    "gb qb vg.\n",
    "Nygubhtu gung jnl znl abg or boivbhf ng svefg hayrff lbh'er\n",
    "Qhgpu.\n",
    "Abj vf orggre guna arire.\n",
    "Nygubhtu arire vf bsgra orggre guna *evtug* abj.\n",
    "Vs gur vzcyrzragngvba vf uneq gb rkcynva, vg'f n onq vqrn.\n",
    "Vs gur vzcyrzragngvba vf rnfl gb rkcynva, vg znl or n tbbq\n",
    "vqrn.\n",
    "Anzrfcnprf ner bar ubaxvat terng vqrn -- yrg'f qb zber bs\n",
    "gubfr!\"\"\"\n",
    "d = {}\n",
    "for c in (65, 97):\n",
    "    for i in range(26):\n",
    "        d[chr(i+c)] = chr((i+13) % 26 + c)\n",
    "print(\"\".join([d.get(c, c) for c in s]))"
   ]
  },
  {
   "cell_type": "markdown",
   "metadata": {},
   "source": [
    "* 通过观察不难发现，这是一个密文到明文的转码程序。\n",
    "* 将字母循环移动13个位置。"
   ]
  }
 ],
 "metadata": {
  "kernelspec": {
   "display_name": "Python 3",
   "language": "python",
   "name": "python3"
  },
  "language_info": {
   "codemirror_mode": {
    "name": "ipython",
    "version": 3
   },
   "file_extension": ".py",
   "mimetype": "text/x-python",
   "name": "python",
   "nbconvert_exporter": "python",
   "pygments_lexer": "ipython3",
   "version": "3.7.0"
  },
  "toc": {
   "base_numbering": 1,
   "nav_menu": {},
   "number_sections": true,
   "sideBar": true,
   "skip_h1_title": false,
   "title_cell": "Table of Contents",
   "title_sidebar": "Contents",
   "toc_cell": false,
   "toc_position": {},
   "toc_section_display": true,
   "toc_window_display": false
  }
 },
 "nbformat": 4,
 "nbformat_minor": 2
}
