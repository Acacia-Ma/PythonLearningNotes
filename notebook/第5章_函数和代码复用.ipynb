{
 "cells": [
  {
   "cell_type": "markdown",
   "metadata": {},
   "source": [
    "# 5. 函数和代码复用\n",
    "## 5.1 函数的基本使用\n",
    "### 5.1.1 函数的定义\n",
    "**第一次接触函数**：\n",
    "![dychs](..\\picture\\dychs.png)\n",
    "\n",
    "* **函数是一段代码的表示**。\n",
    "    * 函数是一段具有特定功能的、可重用的语句组。\n",
    "    * 函数是一种功能的抽象，一般函数表达特定功能。\n",
    "    * 函数的两个作用：**降低编程难度**和**代码复用**。\n",
    "    \n",
    "**Python使用`def`保留字定义一个函数，语法形式如下：**\n",
    "```python\n",
    "def <函数名>(<参数列表>):\n",
    "    <函数体>\n",
    "    return <返回值列表>\n",
    "```\n",
    "\n",
    "* 函数名可以是任何有效的Python标识符\n",
    "* 参数列表是调用该函数时传递给它的值，可以有0个、1个或多个，当传递多个参数时各参数由逗号分隔，没有参数时要保留圆括号。\n",
    "* 函数定义中参数列表里面的参数是形式参数，简称为“形参”。\n",
    "* 函数体是函数每次被调用时执行的代码，由一行或多行语句组成。\n",
    "* 当需要返回值时，使用保留字`return`和返回值列表，否则函数可以没有return语句。\n",
    "\n",
    "![ndjchs](..\\picture\\ndjchs.png)\n",
    "\n",
    "* **函数调用和执行的一般形式如下**，参数列表中给出要传入函数内部的参数，这类参数称为实际参数，简称“实参”。\n",
    "```python\n",
    "<函数名>(<参数列表>)\n",
    "```\n",
    "\n",
    ">**实例**：生日歌。过生日时要为朋友唱生日歌，歌词为\n",
    "```python\n",
    "Happy birthday to you!\n",
    "Happy birthday to you!\n",
    "Happy birthday, dear<名字>\n",
    "Happy birthday to you!\n",
    "```\n",
    "编写程序为Mike和Lily输出生日歌。\n",
    "\n",
    "* 最简单的实现方法"
   ]
  },
  {
   "cell_type": "code",
   "execution_count": 1,
   "metadata": {},
   "outputs": [
    {
     "name": "stdout",
     "output_type": "stream",
     "text": [
      "Happy birthday to you!\n",
      "Happy birthday to you!\n",
      "Happy birthday, dear Mike!\n",
      "Happy birthday to you!\n"
     ]
    }
   ],
   "source": [
    "print(\"Happy birthday to you!\")\n",
    "print(\"Happy birthday to you!\")\n",
    "print(\"Happy birthday, dear Mike!\")\n",
    "print(\"Happy birthday to you!\")"
   ]
  },
  {
   "cell_type": "markdown",
   "metadata": {},
   "source": [
    "* 如果将birthday改为new year，那么很多地方都需要修改。为了避免这种情况，可以用函数进行封装。代码如下："
   ]
  },
  {
   "cell_type": "code",
   "execution_count": 2,
   "metadata": {},
   "outputs": [
    {
     "name": "stdout",
     "output_type": "stream",
     "text": [
      "Happy birthday to you!\n",
      "Happy birthday to you!\n",
      "Happy birthday, dear Mike!\n",
      "Happy birthday to you!\n",
      "\n",
      "Happy birthday to you!\n",
      "Happy birthday to you!\n",
      "Happy birthday, dear Lily!\n",
      "Happy birthday to you!\n"
     ]
    }
   ],
   "source": [
    "def happy():\n",
    "    print(\"Happy birthday to you!\")\n",
    "\n",
    "def happyB(name):\n",
    "    happy()\n",
    "    happy()\n",
    "    print(\"Happy birthday, dear {}!\".format(name))\n",
    "    happy()\n",
    "happyB(\"Mike\")\n",
    "print()\n",
    "happyB(\"Lily\")"
   ]
  },
  {
   "cell_type": "markdown",
   "metadata": {},
   "source": [
    "### 5.1.2 函数的调用过程\n",
    "**函数调用需要执行的4个步骤**：\n",
    "* 调用程序在调用处暂停执行。\n",
    "* 在调用时将实参复制给函数的形参。\n",
    "* 执行函数体语句。\n",
    "* 函数调用结束给出返回值，程序回到调用前的暂停处继续执行。\n",
    "\n",
    "![shilihsdy](..\\picture\\shilihsdy.png)\n",
    "\n",
    "![happy1](..\\picture\\happy1.png)\n",
    "![happy2](..\\picture\\happy2.png)\n",
    "![happy3](..\\picture\\happy3.png)\n",
    "\n",
    "### 5.1.3 lambda函数\n",
    "**lambda函数又称匿名函数，匿名函数并非没有名字，而是将函数名作为函数结果返回，语法格式如下：**\n",
    "```python\n",
    "<函数名> = lambda <参数列表>: <表达式>\n",
    "```\n",
    "lambda函数与正常函数一样，等价于下面形式：\n",
    "```python\n",
    "def <函数名>(<参数列表>):\n",
    "    return <表达式>\n",
    "```\n",
    "**lambda函数用于定义简单的、能够在一行内表示的函数，返回一个函数类型，看如下实例**"
   ]
  },
  {
   "cell_type": "code",
   "execution_count": 3,
   "metadata": {},
   "outputs": [
    {
     "name": "stdout",
     "output_type": "stream",
     "text": [
      "<class 'function'>\n",
      "22\n"
     ]
    }
   ],
   "source": [
    "f = lambda x, y : x + y\n",
    "print(type(f))\n",
    "print(f(10, 12))"
   ]
  },
  {
   "cell_type": "markdown",
   "metadata": {},
   "source": [
    "## 5.2 函数的参数传递\n",
    "### 5.2.1 可选参数和可变数量参数\n",
    "* **可选参数**：\n",
    "    * 定义函数时，如果有些参数存在默认值，即部分参数不一定需要调用程序输入，可以在定义函数时直接为这些参数指定默认值。\n",
    "    * 函数调用时，如果没有传入对应的参数值，则使用函数定义时的默认值代替。\n",
    "    * 由于函数调用时需要按顺序输入参数，可选参数必须定义在非可选参数的后面。"
   ]
  },
  {
   "cell_type": "code",
   "execution_count": 4,
   "metadata": {},
   "outputs": [
    {
     "name": "stdout",
     "output_type": "stream",
     "text": [
      "knock~knock~\n",
      "knock~knock~knock~knock~\n"
     ]
    }
   ],
   "source": [
    "def dup(str, times = 2):\n",
    "    print(str * times)\n",
    "dup(\"knock~\")\n",
    "dup(\"knock~\", 4)"
   ]
  },
  {
   "cell_type": "markdown",
   "metadata": {},
   "source": [
    "**`dup()`函数中带默认值的可选参数`times`必须定义在`str`参数后面。**\n",
    "\n",
    "* **可变数量参数**：\n",
    "    * 函数定义时，可以设计可变数量参数，通过在参数前增加星号（\\*）实现。\n",
    "    * 带有星号的可变参数只能出现在参数列表的最后。\n",
    "    * 这些参数被当作元组类型传递到函数中。"
   ]
  },
  {
   "cell_type": "code",
   "execution_count": 6,
   "metadata": {},
   "outputs": [
    {
     "name": "stdout",
     "output_type": "stream",
     "text": [
      "<class 'tuple'>\n",
      "55\n"
     ]
    }
   ],
   "source": [
    "def vfunc(a, *b):\n",
    "    print(type(b))\n",
    "    for n in b:\n",
    "        a  = a + n\n",
    "    return a\n",
    "print(vfunc(1, 2, 3, 4, 5, 6, 7, 8, 9, 10))"
   ]
  },
  {
   "cell_type": "markdown",
   "metadata": {},
   "source": [
    "**`vfunc()`函数定义了可变参数`b`，调用`vfunc()`函数时输入的`(2, 3, 4, 5)`被当作元组传递给`b`，与`a`累加后输出。**\n",
    "\n",
    "### 5.2.2 参数的位置和名称传递\n",
    "**函数调用时，实参默认采用按照位置顺序的方式传递给函数。例如：**\n",
    "```python\n",
    "def dup(str, times = 2):\n",
    "    print(str * times)\n",
    "```\n",
    "`dup(\"knock~\", 4)`中第一个实参默认赋值给形参`str`，第二个实参赋值给形参`times`。\n",
    "\n",
    "**Python还提供按照形参名称输入实参的方式。例如：**\n",
    "```python\n",
    "def func(x1, y1, z1, x2, y2, z2)\n",
    "   return  \n",
    "```\n",
    "函数`func`的参数其实表达的是两组三维坐标信息，它的一个实际调用如下：\n",
    "```python\n",
    "result = func(1, 2, 3, 4, 5, 6)\n",
    "```\n",
    "如果程序规模比较大，函数定义可能在函数库里面，与实际调用相距很远，可读性较差，这时可以采用按照形参名称输入实参的方式。\n",
    "```python\n",
    "result = func(x2 = 4, y2 = 5, z2 = 6, x1 = 1, y1 = 2, z1 = 3)\n",
    "```\n",
    "\n",
    "### 5.2.3 函数的返回值\n",
    "* `return`语句的功能：\n",
    "    * 退出函数\n",
    "    * 将程序返回到函数被调用的位置继续执行\n",
    "    * `return`语句可以同时将0个、1个或多个函数运算后的结果返回给函数被调用处的变量。"
   ]
  },
  {
   "cell_type": "code",
   "execution_count": 7,
   "metadata": {},
   "outputs": [
    {
     "name": "stdout",
     "output_type": "stream",
     "text": [
      "knock~knock~\n"
     ]
    }
   ],
   "source": [
    "def func(a, b):\n",
    "    return a * b\n",
    "\n",
    "s = func(\"knock~\", 2)\n",
    "print(s)"
   ]
  },
  {
   "cell_type": "code",
   "execution_count": 8,
   "metadata": {},
   "outputs": [
    {
     "name": "stdout",
     "output_type": "stream",
     "text": [
      "(2, 'knock~') <class 'tuple'>\n"
     ]
    }
   ],
   "source": [
    "def func(a, b):\n",
    "    return b, a\n",
    "\n",
    "s = func(\"knock~\", 2)\n",
    "print(s, type(s))"
   ]
  },
  {
   "cell_type": "markdown",
   "metadata": {},
   "source": [
    "**函数返回多个值时，多个值以元组类型保存。**\n",
    "### 5.2.4 函数对变量的作用\n",
    "* **程序中的变量包括两类**：\n",
    "    * **全局变量**：指在函数之外定义的变量，一般没有缩进，在程序执行全过程有效。\n",
    "    * **局部变量**：指在函数内部使用的变量，仅在函数内部有效，当函数退出时变量将不存在。"
   ]
  },
  {
   "cell_type": "code",
   "execution_count": 9,
   "metadata": {},
   "outputs": [
    {
     "name": "stdout",
     "output_type": "stream",
     "text": [
      "knock~knock~\n"
     ]
    }
   ],
   "source": [
    "n = 1    # n是全局变量\n",
    "def func(a, b):\n",
    "    c = a * b    # c是局部变量，a和b作为函数参数也是局部变量\n",
    "    return c\n",
    "s = func(\"knock~\", 2)\n",
    "print(s)"
   ]
  },
  {
   "cell_type": "markdown",
   "metadata": {},
   "source": [
    "**说明**：当函数执行完退出后，其内部变量将被释放。"
   ]
  },
  {
   "cell_type": "code",
   "execution_count": 11,
   "metadata": {},
   "outputs": [
    {
     "name": "stdout",
     "output_type": "stream",
     "text": [
      "knock~knock~ 1\n"
     ]
    }
   ],
   "source": [
    "n = 1    # n是全局变量\n",
    "def func(a, b):\n",
    "    n = b    # 这个n是在函数内存中新生成的局部变量，不是全局变量\n",
    "    return a * b\n",
    "s = func(\"knock~\", 2)\n",
    "print(s, n)    # 测试一下n值是否变化"
   ]
  },
  {
   "cell_type": "markdown",
   "metadata": {},
   "source": [
    "上述例子，我们看函数`func`内部变量`n`的值被赋值为`b`，所以这里`n`的值为2，但是最后一个语句输出`n`的值为1。这里要注意全部变量`n`和函数`func`内部变量`n`不是一个。"
   ]
  },
  {
   "cell_type": "code",
   "execution_count": 12,
   "metadata": {},
   "outputs": [
    {
     "name": "stdout",
     "output_type": "stream",
     "text": [
      "knock~knock~ 2\n"
     ]
    }
   ],
   "source": [
    "n = 1    # n是全局变量\n",
    "def func(a, b):\n",
    "    global n\n",
    "    n = b    # 将局部变量b赋值给全局变量n\n",
    "    return a * b\n",
    "s = func(\"knock~\", 2)\n",
    "print(s, n)    # 测试一下n值是否变化"
   ]
  },
  {
   "cell_type": "markdown",
   "metadata": {},
   "source": [
    "**再来看看列表类型**："
   ]
  },
  {
   "cell_type": "code",
   "execution_count": 13,
   "metadata": {},
   "outputs": [
    {
     "name": "stdout",
     "output_type": "stream",
     "text": [
      "knock~knock~ [2]\n"
     ]
    }
   ],
   "source": [
    "ls = []    # ls是全局列表变量\n",
    "def func(a, b):\n",
    "    ls.append(b)    # 将局部变量b增加到全局列表变量ls中\n",
    "    return a * b\n",
    "s = func(\"knock~\", 2)\n",
    "print(s, ls)    # 测试一下ls值是否改变"
   ]
  },
  {
   "cell_type": "markdown",
   "metadata": {},
   "source": [
    "* 全局列表变量在函数`func()`调用后发生了改变，`ls`的值为`[2]`。"
   ]
  },
  {
   "cell_type": "code",
   "execution_count": 14,
   "metadata": {},
   "outputs": [
    {
     "name": "stdout",
     "output_type": "stream",
     "text": [
      "knock~knock~ []\n"
     ]
    }
   ],
   "source": [
    "ls = []    # ls是全局列表变量\n",
    "def func(a, b):\n",
    "    ls = []    # 创建了名称为ls的局部列表变量\n",
    "    ls.append(b)    # 将局部变量b增加到全局列表变量ls中\n",
    "    return a * b\n",
    "s = func(\"knock~\", 2)\n",
    "print(s, ls)    # 测试一下ls值是否改变"
   ]
  },
  {
   "cell_type": "markdown",
   "metadata": {},
   "source": [
    "**Python函数对变量的作用原则：**\n",
    "* 简单数据类型变量无论是否与全局变量重名，仅在函数内部创建和使用，函数退出后变量被释放，如有全局同名变量，其值不变。\n",
    "* 简单数据类型变量在用global保留字声明后，作为全局变量使用，函数退出后该变量保留且值被函数改变。\n",
    "* 对于组合数据类型的全局变量，如果在函数内部没有被真实创建的同名变量，则函数内部可以直接使用并修改全局变量的值。\n",
    "* 如果函数内部真实创建了组合数据类型变量，无论是否有同名全局变量，函数仅对局部变量进行操作，函数退出后局部变量被释放，全局变量值不变。\n",
    "\n",
    "## 5.3 datetime库的使用\n",
    "### 5.3.1 datetime库概述\n",
    "* datetime库以格林威治时间为基础，每天由$3600 \\times 24$秒精准定义。\n",
    "* datetime库包括两个常量：\n",
    "    * `datetime.MINYEAR`：datetime所能表示的最小年份，1。\n",
    "    * `datetime.MAXYEAR`：datetime所能表示的最大年份，9999。\n",
    "* datetime库以类的方式提供多种日期和时间表达方式：\n",
    "    * `datetime.date`：日期表示类，可以表示年、月、日等。\n",
    "    * `datetime.time`：时间表示类，可以表示小时、分钟、秒和毫秒等。\n",
    "    * `datetime.datetime`：日期和时间表示类，功能覆盖date和time类。\n",
    "    * `datetime.timedelta`：与时间间隔有关的类。\n",
    "    * `datetime.tzinfo`：与时区有关的信息表示类。\n",
    "* 使用datetime类需要用`import`保留字引入。\n",
    "\n",
    "```python\n",
    "from datetime import datetime\n",
    "```\n",
    "\n",
    "### 5.3.2 datetime库解析\n",
    "* `datetime.now()`：获得当前日期和时间对象。\n",
    "    * 返回一个datetime类型，表示当前的日期和时间，精确到微秒。\n",
    "    * 无需参数。"
   ]
  },
  {
   "cell_type": "code",
   "execution_count": 15,
   "metadata": {},
   "outputs": [
    {
     "name": "stdout",
     "output_type": "stream",
     "text": [
      "2022-04-12 23:26:18.903734\n"
     ]
    }
   ],
   "source": [
    "from datetime import datetime\n",
    "today = datetime.now()\n",
    "print(today)"
   ]
  },
  {
   "cell_type": "markdown",
   "metadata": {},
   "source": [
    "* `datetime.utcnow()`：获得当前日期和时间对应的UTC（世界标准时间）对象。\n",
    "    * 返回一个datetime类型，表示当前日期和时间对应的UTC表示，精确到微秒。\n",
    "    * 无需参数。"
   ]
  },
  {
   "cell_type": "code",
   "execution_count": 17,
   "metadata": {},
   "outputs": [
    {
     "name": "stdout",
     "output_type": "stream",
     "text": [
      "2022-04-12 15:26:45.090116\n"
     ]
    }
   ],
   "source": [
    "from datetime import datetime\n",
    "today = datetime.utcnow()\n",
    "print(today)"
   ]
  },
  {
   "cell_type": "markdown",
   "metadata": {},
   "source": [
    "* `datetime(year, month, day, hour = 0, minute = 0, second = 0, microsecond = 0)`构造一个日期和时间对象，参数如下：\n",
    "    * year：指定的年份，`MINYEAR <= year <= MAXYEAR`。\n",
    "    * month：指定的月份，`1 <= month <= 12`。\n",
    "    * day：指定的日期，`1 <= day <= 月份所对应的日期上限`。\n",
    "    * hour：指定的小时，`0 <= hour <= 24`。\n",
    "    * minute：指定的分钟数，`0 <= minute < 60`。\n",
    "    * second：指定的秒数，`0 <= second < 60`。\n",
    "    * microsecond：指定的微秒数，`0 <= microsecond < 1000000`。\n",
    "    * hour、minute、second、microsecond参数可以全部或部分省略。"
   ]
  },
  {
   "cell_type": "code",
   "execution_count": 18,
   "metadata": {},
   "outputs": [
    {
     "name": "stdout",
     "output_type": "stream",
     "text": [
      "2016-09-16 22:33:32.000007\n"
     ]
    }
   ],
   "source": [
    "from datetime import datetime\n",
    "someday = datetime(2016, 9, 16, 22, 33, 32, 7)\n",
    "print(someday)"
   ]
  },
  {
   "cell_type": "markdown",
   "metadata": {},
   "source": [
    "* datetime类的常用属性（共9个）\n",
    "\n",
    "|属性|描述|\n",
    "|:-:|:-:|\n",
    "|`someday.min`|固定返回datetime的最小时间对象，`datetime(1, 1, 1, 0, 0)`|\n",
    "|`someday.max`|固定返回datetime的最大时间对象，`datetime(9999, 12, 31, 23, 59, 59, 999999)`|\n",
    "|`someday.year`|返回`someday`包含的年份|\n",
    "|`someday.month`|返回`someday`包含的月份|\n",
    "|`someday.day`|返回`someday`包含的日期|\n",
    "|`someday.hour`|返回`someday`包含的小时|\n",
    "|`someday.minute`|返回`someday`包含的分钟|\n",
    "|`someday.second`|返回`someday`包含的秒钟|\n",
    "|`someday.microsecond`|返回`someday`包含的微秒值|\n",
    "\n",
    "* datetime类常用的时间格式化方法（共3个）\n",
    "\n",
    "|属性|描述|\n",
    "|:-:|:-:|\n",
    "|`someday.isoformat()`|采用ISO 8601标准显示时间|\n",
    "|`someday.isoweekday()`|根据日期计算星期后返回1-7，对应星期一到星期日|\n",
    "|`someday.strftime(format)`|根据格式化字符串`format`进行格式显示的方法|"
   ]
  },
  {
   "cell_type": "code",
   "execution_count": 19,
   "metadata": {},
   "outputs": [
    {
     "name": "stdout",
     "output_type": "stream",
     "text": [
      "2016-09-16T22:33:32.000007\n",
      "5\n",
      "2016-09-16 22:33:32\n"
     ]
    }
   ],
   "source": [
    "from datetime import datetime\n",
    "someday = datetime(2016, 9, 16, 22, 33, 32, 7)\n",
    "print(someday.isoformat())\n",
    "print(someday.isoweekday())\n",
    "print(someday.strftime(\"%Y-%m-%d %H:%M:%S\"))"
   ]
  },
  {
   "cell_type": "markdown",
   "metadata": {},
   "source": [
    "* `strftime()`方法的格式化控制符\n",
    "\n",
    "|格式化字符串|日期/时间|值范围和实例|\n",
    "|:-:|:-:|:-:|\n",
    "|`%Y`|年份|0001-9999，例如1900|\n",
    "|`%m`|月份|01-12，例如10|\n",
    "|`%B`|月名|January-December，例如April|\n",
    "|`%b`|月名缩写|Jan-Dec，例如Apr|\n",
    "|`%d`|日期|01-31，例如25|\n",
    "|`%A`|星期|Monday-Sunday，例如Wednesday|\n",
    "|`%a`|星期缩写|Mon-Sun，例如Wed|\n",
    "|`%H`|小时（24h制）|00-23，例如12|\n",
    "|`%I`|小时（12h制）|01-12，例如7|\n",
    "|`%p`|上/下午|AM/PM，例如PM|\n",
    "|`%M`|分钟|00-59，例如26|\n",
    "|`%S`|秒|00-59，例如26|\n",
    "\n",
    "* `strftime()`格式化字符串的数字左侧会自动补零，上述格式也可以与`print()`的格式化函数一起使用。"
   ]
  },
  {
   "cell_type": "code",
   "execution_count": 20,
   "metadata": {},
   "outputs": [
    {
     "name": "stdout",
     "output_type": "stream",
     "text": [
      "2022-04-12\n",
      "Tuesday, 12. April 2022 11:28PM\n",
      "今天是2022年04月12日\n"
     ]
    }
   ],
   "source": [
    "from datetime import datetime\n",
    "now = datetime.now()\n",
    "print(now.strftime(\"%Y-%m-%d\"))\n",
    "print(now.strftime(\"%A, %d. %B %Y %I:%M%p\"))\n",
    "print(\"今天是{0:%Y}年{0:%m}月{0:%d}日\".format(now))"
   ]
  },
  {
   "cell_type": "markdown",
   "metadata": {},
   "source": [
    "## 5.4 实例：七段数码管绘制\n",
    "* 七段数码管（Seven-segment Indicator）由7段数码管拼接而成，每段有亮或不亮两种情况，改进型的七段数码管还包括一个小数点位置。\n",
    "\n",
    "![qdsmg](..\\picture\\qdsmg.png)\n",
    "\n",
    "* 七段数码管能形成$2^{7}=128$种不同状态，其中部分状态能够显示易于人们理解的数字或字母含义。\n",
    "\n",
    "![1dao9adaof](..\\picture\\1dao9adaof.png)\n",
    "\n",
    "* 通过turtle库函数绘制七段数码管形式的日期信息。问题的IPO描述如下：\n",
    "    * 输入：当前日期的数字形式。\n",
    "    * 处理：根据每个数字绘制七段数码管表示。\n",
    "    * 输出：绘制当前日期的七段数码管表示。\n",
    "* 整体代码如下："
   ]
  },
  {
   "cell_type": "code",
   "execution_count": 21,
   "metadata": {},
   "outputs": [],
   "source": [
    "import turtle, datetime\n",
    "def drawLine(draw):   #绘制单段数码管\n",
    "    turtle.pendown() if draw else turtle.penup()\n",
    "    turtle.fd(40)\n",
    "    turtle.right(90)\n",
    "def drawDigit(digit): #根据数字绘制七段数码管\n",
    "    drawLine(True) if digit in [2,3,4,5,6,8,9] else drawLine(False)\n",
    "    drawLine(True) if digit in [0,1,3,4,5,6,7,8,9] else drawLine(False)\n",
    "    drawLine(True) if digit in [0,2,3,5,6,8,9] else drawLine(False)\n",
    "    drawLine(True) if digit in [0,2,6,8] else drawLine(False)\n",
    "    turtle.left(90)\n",
    "    drawLine(True) if digit in [0,4,5,6,8,9] else drawLine(False)\n",
    "    drawLine(True) if digit in [0,2,3,5,6,7,8,9] else drawLine(False)\n",
    "    drawLine(True) if digit in [0,1,2,3,4,7,8,9] else drawLine(False)\n",
    "    turtle.left(180)\n",
    "    turtle.penup()\n",
    "    turtle.fd(20) \n",
    "def drawDate(date):  #获得要输出的数字\n",
    "    for i in date:\n",
    "        drawDigit(eval(i))  #注意: 通过eval()函数将数字变为整数\n",
    "def main():\n",
    "    turtle.setup(800, 350, 200, 200)\n",
    "    turtle.penup()\n",
    "    turtle.fd(-300)\n",
    "    turtle.pensize(5)\n",
    "    drawDate(datetime.datetime.now().strftime('%Y%m%d'))\n",
    "    turtle.hideturtle()\n",
    "    turtle.done()\n",
    "main()"
   ]
  },
  {
   "cell_type": "markdown",
   "metadata": {},
   "source": [
    "* 七段数码管绘制的基本思路包括：\n",
    "    * 绘制单个数字对应的数码管。\n",
    "    * 获得一串数字，绘制对应的数码管。\n",
    "    * 获得当前系统时间，绘制对应的数码管。\n",
    "\n",
    "* 步骤1：绘制单个数码管。\n",
    "    * 七段数码管由7个基本线条组成\n",
    "    * 七段数码管可以有固定顺序\n",
    "    * 不同数字显示不同的线条\n",
    "    \n",
    "![digitsx](..\\picture\\digitsx.png)\n",
    "\n",
    "* 步骤2：获取一段数字，绘制多个数码管。\n",
    "\n",
    "![digitsx](..\\picture\\digitsx2.png)\n",
    "\n",
    "* 步骤3：获取系统时间，绘制七段数码管。\n",
    "    * 使用time库获得系统当前时间\n",
    "    * 将时间转换成待绘制的字符串\n",
    "\n",
    "**再看一下升级版的代码**："
   ]
  },
  {
   "cell_type": "code",
   "execution_count": 23,
   "metadata": {},
   "outputs": [],
   "source": [
    "import turtle\n",
    "import datetime\n",
    "\n",
    "#绘制数码管间隔\n",
    "def drawGap(): \n",
    "    turtle.penup()\n",
    "    turtle.fd(5)\n",
    "    \n",
    "#绘制单段数码管\n",
    "def drawLine(draw): \n",
    "    drawGap()\n",
    "    turtle.pendown() if draw else turtle.penup()\n",
    "    turtle.fd(40)\n",
    "    drawGap()\n",
    "    turtle.right(90)\n",
    "\n",
    "#根据数字绘制七段数码管   \n",
    "def drawDigit(digit): \n",
    "    drawLine(True) if digit in [2,3,4,5,6,8,9] else drawLine(False)\n",
    "    drawLine(True) if digit in [0,1,3,4,5,6,7,8,9] else drawLine(False)\n",
    "    drawLine(True) if digit in [0,2,3,5,6,8,9] else drawLine(False)\n",
    "    drawLine(True) if digit in [0,2,6,8] else drawLine(False)\n",
    "    turtle.left(90)\n",
    "    drawLine(True) if digit in [0,4,5,6,8,9] else drawLine(False)\n",
    "    drawLine(True) if digit in [0,2,3,5,6,7,8,9] else drawLine(False)\n",
    "    drawLine(True) if digit in [0,1,2,3,4,7,8,9] else drawLine(False)\n",
    "    turtle.left(180)\n",
    "    turtle.penup()\n",
    "    turtle.fd(20) \n",
    "\n",
    "#根据日期绘制七段数码管 \n",
    "def drawDate(date): #data为日期，格式为 '%Y-%m=%d+'\n",
    "    turtle.pencolor(\"red\")\n",
    "    for i in date:\n",
    "        if i == '-':\n",
    "            turtle.write('年',font=(\"Arial\", 18, \"normal\"))\n",
    "            turtle.pencolor(\"green\")\n",
    "            turtle.fd(40)\n",
    "        elif i == '=':\n",
    "            turtle.write('月',font=(\"Arial\", 18, \"normal\"))\n",
    "            turtle.pencolor(\"blue\")\n",
    "            turtle.fd(40)\n",
    "        elif i == '+':\n",
    "            turtle.write('日',font=(\"Arial\", 18, \"normal\"))\n",
    "        else:\n",
    "            drawDigit(eval(i))\n",
    "\n",
    "#主函数\n",
    "def main():\n",
    "    turtle.setup(800, 350, 200, 200)\n",
    "    turtle.penup()\n",
    "    turtle.fd(-300)\n",
    "    turtle.pensize(5)\n",
    "    drawDate(datetime.datetime.now().strftime('%Y-%m=%d+'))\n",
    "    turtle.hideturtle()\n",
    "    turtle.done()\n",
    "    \n",
    "main()"
   ]
  },
  {
   "cell_type": "markdown",
   "metadata": {},
   "source": [
    "* 学会函数之后要理解上述代码的编程思维：\n",
    "    * 模块化思维：确定模块接口，封装功能\n",
    "    * 规则化思维：抽象过程为规则，计算机自动执行\n",
    "    * 化繁为简：将大功能变为小功能组合，分而治之\n",
    "\n",
    "##  5.5 代码复用和模块化设计\n",
    "### 5.5.1 代码复用\n",
    "* 把代码当成资源进行抽象\n",
    "    * 代码资源化：程序代码是一种用来表达计算的“资源”。\n",
    "    * 代码抽象化：使用函数等方法对代码赋予更高级别的定义。\n",
    "    * 代码复用：同一份代码在需要时可以被重复使用。\n",
    "* **函数**和**对象**是代码复用的两种主要形式\n",
    "    * 函数：将代码命名在代码层面建立了初步抽象。\n",
    "    * 属性和方法`<a>.<b>`和`<a>.<b>()`在函数之上再次组织进行抽象。\n",
    "\n",
    "### 5.5.2 模块化设计\n",
    "* 分而治之\n",
    "    * 通过函数或对象封装将程序划分为模块及模块间的表达。\n",
    "    * 具体包括：主程序、子程序和子程序间关系。\n",
    "    * 分而治之：一种分而治之、分层抽象、体系化的设计思想。\n",
    "* 紧耦合与松耦合\n",
    "    * 紧耦合：两个部分之间交流很多，无法独立存在。\n",
    "    * 松耦合：两个部分之间交流较少，可以独立存在。\n",
    "    * **模块内部紧耦合、模块之间松耦合**。\n",
    "    \n",
    "## 5.6 函数的递归\n",
    "### 5.6.1 递归的定义\n",
    "* **递归的概念是什么？**先来看看**《礼记·大学》**中的一段名言。\n",
    "![daxue](..\\picture\\daxue.png)\n",
    "\n",
    "**古之欲明明德于天下者，先治其国，欲治其国者，先齐其家，欲齐其家者，先修其身，欲修其身者，先正其心，欲正其心者，先诚其意，欲诚其意者，先致其知，致知在格物。物格而后知至，知至而后意诚，意诚而后心正，心正而后身修，身修而后家齐，家齐而后国治，而后天下平。**\n",
    "\n",
    "* **递归**：函数定义中调用函数自身的方式称为递归。\n",
    "\n",
    ">**实例**：$n!$计算。阶乘通常定义如下：\n",
    "$$n! = n(n-1)(n-2)\\cdots(1)$$\n",
    "这个关系的另一种表达方式如下：\n",
    "$$\\begin{cases}\n",
    " 1 & \\text{ 如果 } n=0 \\\\\n",
    " n(n-1)! & \\text{ 否则 }\n",
    "\\end{cases}$$\n",
    "0的阶乘是1，其他数字的阶乘是这个数字乘以比这个数字小1的数的阶乘。递归不是循环，因为每次递归都会计算比它更小的数的阶乘，直到0!。0!是已知的值，被称为递归的**基例**。当递归到底了，就需要一个能直接算出值的表达式。\n",
    "\n",
    "* 递归的两个关键特征：\n",
    "    * **链条**：计算过程存在递归链条。\n",
    "    * **基例**：存在一个或多个不需要再次递归的基例。\n",
    "\n",
    "* 类比**数学归纳法**\n",
    "    * 数学归纳法\n",
    "        * 证明当$n$取第一个值$n_{\\theta}$时命题成立。\n",
    "        * 假设当$n_{k}$时命题成立，证明当$n=n_{k+1}$时命题也成立。\n",
    "    * 递归是数学归纳法思维的编程体现\n",
    "\n",
    "### 5.6.2 递归的使用方法\n",
    ">**实例**：根据用户输入的整数$n$，计算并输出$n$的阶乘值。"
   ]
  },
  {
   "cell_type": "code",
   "execution_count": 24,
   "metadata": {},
   "outputs": [
    {
     "name": "stdout",
     "output_type": "stream",
     "text": [
      "请输入一个整数：10\n",
      "3628800\n"
     ]
    }
   ],
   "source": [
    "def fact(n):\n",
    "    if n == 0 :\n",
    "        return 1\n",
    "    else :\n",
    "        return n*fact(n-1)\n",
    "num = eval(input(\"请输入一个整数：\"))\n",
    "print(fact(abs(int(num))))"
   ]
  },
  {
   "cell_type": "markdown",
   "metadata": {},
   "source": [
    "* **递归的实现**：函数+分支语句\n",
    "    * **递归本身是一个函数，需要函数定义方式描述**。`fact(n)`函数在其定义内部引用了自身，形成了递归过程。\n",
    "    * **函数内部，采用分支语句对输入参数进行判断**。`fact(n)`函数通过`if`语句给出了`n`为0时的基例，当`n==0`，`fact(n)`函数不再递归，返回数值1，如果`n!=0`，则通过递归返回`n`与`n-1`阶乘的乘积。\n",
    "    * **基例和链条，分别编写对应代码**。\n",
    "    \n",
    "* **递归的调用过程**\n",
    "\n",
    "![diguidy](..\\picture\\diguidy.png)\n",
    "\n",
    ">**实例**：字符串反转。对于用户输入的字符串`s`，输出反转后的字符串。\n",
    "\n",
    "* 如果不用递归，我们应该怎么做？"
   ]
  },
  {
   "cell_type": "code",
   "execution_count": 25,
   "metadata": {},
   "outputs": [
    {
     "name": "stdout",
     "output_type": "stream",
     "text": [
      "CBA\n"
     ]
    }
   ],
   "source": [
    "s = \"ABC\"\n",
    "print(s[::-1])"
   ]
  },
  {
   "cell_type": "markdown",
   "metadata": {},
   "source": [
    "* 如果使用递归，我们应该怎么做？"
   ]
  },
  {
   "cell_type": "code",
   "execution_count": 26,
   "metadata": {},
   "outputs": [
    {
     "ename": "RecursionError",
     "evalue": "maximum recursion depth exceeded",
     "output_type": "error",
     "traceback": [
      "\u001b[1;31m---------------------------------------------------------------------------\u001b[0m",
      "\u001b[1;31mRecursionError\u001b[0m                            Traceback (most recent call last)",
      "\u001b[1;32m<ipython-input-26-9f2c1408d503>\u001b[0m in \u001b[0;36m<module>\u001b[1;34m()\u001b[0m\n\u001b[0;32m      1\u001b[0m \u001b[1;32mdef\u001b[0m \u001b[0mreverse\u001b[0m\u001b[1;33m(\u001b[0m\u001b[0ms\u001b[0m\u001b[1;33m)\u001b[0m\u001b[1;33m:\u001b[0m\u001b[1;33m\u001b[0m\u001b[0m\n\u001b[0;32m      2\u001b[0m     \u001b[1;32mreturn\u001b[0m \u001b[0mreverse\u001b[0m\u001b[1;33m(\u001b[0m\u001b[0ms\u001b[0m\u001b[1;33m[\u001b[0m\u001b[1;36m1\u001b[0m\u001b[1;33m:\u001b[0m\u001b[1;33m]\u001b[0m\u001b[1;33m)\u001b[0m \u001b[1;33m+\u001b[0m \u001b[0ms\u001b[0m\u001b[1;33m[\u001b[0m\u001b[1;36m0\u001b[0m\u001b[1;33m]\u001b[0m\u001b[1;33m\u001b[0m\u001b[0m\n\u001b[1;32m----> 3\u001b[1;33m \u001b[0mreverse\u001b[0m\u001b[1;33m(\u001b[0m\u001b[1;34m\"ABC\"\u001b[0m\u001b[1;33m)\u001b[0m\u001b[1;33m\u001b[0m\u001b[0m\n\u001b[0m",
      "\u001b[1;32m<ipython-input-26-9f2c1408d503>\u001b[0m in \u001b[0;36mreverse\u001b[1;34m(s)\u001b[0m\n\u001b[0;32m      1\u001b[0m \u001b[1;32mdef\u001b[0m \u001b[0mreverse\u001b[0m\u001b[1;33m(\u001b[0m\u001b[0ms\u001b[0m\u001b[1;33m)\u001b[0m\u001b[1;33m:\u001b[0m\u001b[1;33m\u001b[0m\u001b[0m\n\u001b[1;32m----> 2\u001b[1;33m     \u001b[1;32mreturn\u001b[0m \u001b[0mreverse\u001b[0m\u001b[1;33m(\u001b[0m\u001b[0ms\u001b[0m\u001b[1;33m[\u001b[0m\u001b[1;36m1\u001b[0m\u001b[1;33m:\u001b[0m\u001b[1;33m]\u001b[0m\u001b[1;33m)\u001b[0m \u001b[1;33m+\u001b[0m \u001b[0ms\u001b[0m\u001b[1;33m[\u001b[0m\u001b[1;36m0\u001b[0m\u001b[1;33m]\u001b[0m\u001b[1;33m\u001b[0m\u001b[0m\n\u001b[0m\u001b[0;32m      3\u001b[0m \u001b[0mreverse\u001b[0m\u001b[1;33m(\u001b[0m\u001b[1;34m\"ABC\"\u001b[0m\u001b[1;33m)\u001b[0m\u001b[1;33m\u001b[0m\u001b[0m\n",
      "... last 1 frames repeated, from the frame below ...\n",
      "\u001b[1;32m<ipython-input-26-9f2c1408d503>\u001b[0m in \u001b[0;36mreverse\u001b[1;34m(s)\u001b[0m\n\u001b[0;32m      1\u001b[0m \u001b[1;32mdef\u001b[0m \u001b[0mreverse\u001b[0m\u001b[1;33m(\u001b[0m\u001b[0ms\u001b[0m\u001b[1;33m)\u001b[0m\u001b[1;33m:\u001b[0m\u001b[1;33m\u001b[0m\u001b[0m\n\u001b[1;32m----> 2\u001b[1;33m     \u001b[1;32mreturn\u001b[0m \u001b[0mreverse\u001b[0m\u001b[1;33m(\u001b[0m\u001b[0ms\u001b[0m\u001b[1;33m[\u001b[0m\u001b[1;36m1\u001b[0m\u001b[1;33m:\u001b[0m\u001b[1;33m]\u001b[0m\u001b[1;33m)\u001b[0m \u001b[1;33m+\u001b[0m \u001b[0ms\u001b[0m\u001b[1;33m[\u001b[0m\u001b[1;36m0\u001b[0m\u001b[1;33m]\u001b[0m\u001b[1;33m\u001b[0m\u001b[0m\n\u001b[0m\u001b[0;32m      3\u001b[0m \u001b[0mreverse\u001b[0m\u001b[1;33m(\u001b[0m\u001b[1;34m\"ABC\"\u001b[0m\u001b[1;33m)\u001b[0m\u001b[1;33m\u001b[0m\u001b[0m\n",
      "\u001b[1;31mRecursionError\u001b[0m: maximum recursion depth exceeded"
     ]
    }
   ],
   "source": [
    "def reverse(s):\n",
    "    return reverse(s[1:]) + s[0]\n",
    "reverse(\"ABC\")"
   ]
  },
  {
   "cell_type": "markdown",
   "metadata": {},
   "source": [
    "* `s[0]`是首字符，`s[1:]`是剩余字符串，将它们反向连接，进而得到反转字符串。\n",
    "* 上面的代码出现了`RecursionError`错误，表明系统无法执行`reverse()`函数船舰的递归，因为没有**基例**，递归层数超过了系统允许的最大递归深度。\n",
    "    * 默认情况下，当递归调用到1000层，Python解释器将终止程序。\n",
    "    * 可以通过如下代码设定最大递归层数。\n",
    "    ```python\n",
    "    import sys\n",
    "    sys.setrecursionlimit(2000)  # 2000是新的递归层数\n",
    "    ```\n",
    "* 修改后的代码如下："
   ]
  },
  {
   "cell_type": "code",
   "execution_count": 27,
   "metadata": {},
   "outputs": [
    {
     "name": "stdout",
     "output_type": "stream",
     "text": [
      "请输入一个字符串：唐诗宋词\n",
      "词宋诗唐\n"
     ]
    }
   ],
   "source": [
    "def reverse(s):\n",
    "    if s == \"\":\n",
    "        return s\n",
    "    else:\n",
    "        return reverse(s[1:]) + s[0]\n",
    "s = input(\"请输入一个字符串：\")\n",
    "print(reverse(s))"
   ]
  },
  {
   "cell_type": "code",
   "execution_count": null,
   "metadata": {},
   "outputs": [],
   "source": []
  }
 ],
 "metadata": {
  "kernelspec": {
   "display_name": "Python 3",
   "language": "python",
   "name": "python3"
  },
  "language_info": {
   "codemirror_mode": {
    "name": "ipython",
    "version": 3
   },
   "file_extension": ".py",
   "mimetype": "text/x-python",
   "name": "python",
   "nbconvert_exporter": "python",
   "pygments_lexer": "ipython3",
   "version": "3.7.0"
  }
 },
 "nbformat": 4,
 "nbformat_minor": 2
}
