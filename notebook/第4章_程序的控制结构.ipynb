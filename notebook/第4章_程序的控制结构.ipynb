{
 "cells": [
  {
   "cell_type": "markdown",
   "metadata": {},
   "source": [
    "# 4. 程序的控制结构\n",
    "## 4.1 程序的基本结构\n",
    "### 4.1.1 程序流程图\n",
    "![cxlctys](..\\picture\\cxlctys.png)\n",
    "\n",
    "* **起止框**：一个程序的开始和结束。\n",
    "* **判断框**：判断一个条件是否成立，并根据判断结果选择不同的执行路径。\n",
    "* **处理框**：一组处理过程。\n",
    "* **输入/输出框**：数据输入或结果输出。\n",
    "* **注释框**：增加程序的注释。\n",
    "* **流向线**：带箭头直线或曲线形式指示程序的执行路径。\n",
    "* **连接点**：将多个流程图连接到一起。\n",
    "\n",
    "![cxlctfj](..\\picture\\cxlctfj.png)\n",
    "\n",
    "### 4.1.2 程序的基本结构类型\n",
    "\n",
    "* **顺序结构**：程序按照线性顺序依次执行。\n",
    "* **分支结构**：程序根据条件判断结果而选择不同向前执行路径的一种运行方式。\n",
    "    * 单分支结构\n",
    "    * 二分支结构：二分支结构组合形成多分支结构。\n",
    "\n",
    "![cjcxjglx](..\\picture\\cjcxjglx.png)\n",
    "\n",
    "* **循环结构**：程序根据条件判断结果向后反复执行的一种运行方式。\n",
    "    * 条件循环\n",
    "    * 遍历循环\n",
    "\n",
    "![xhjglx](..\\picture\\xhjglx.png)\n",
    "       \n",
    "### 4.1.3 程序的基本结构实例\n",
    "\n",
    ">**实例**：圆面积和周长的计算。根据圆的半径计算圆的面积和周长。\n",
    "\n",
    "![circlebj](..\\picture\\circlebj.png)\n",
    "\n",
    ">**实例**：实数绝对值的计算。计算用户给定实数的绝对值。\n",
    "\n",
    "![shishujdd](..\\picture\\shishujdd.png)\n",
    "\n",
    ">**实例**：整数累加。计算1到正整数$R$的算术和。\n",
    "\n",
    "![zhengshuleijia](..\\picture\\zhengshuleijia.png)\n",
    "\n",
    "## 4.2 程序的分支结构\n",
    "### 4.2.1 单分支结构：if语句\n",
    "\n",
    "* `if`语句的语法格式：\n",
    "```python\n",
    "if <条件>:\n",
    "    <语句块>\n",
    "```\n",
    "* `if`语句中条件部分可以使用任何能够产生`True`或`False`的语句或函数。形成判断条件最常见的方式是采用**关系操作符**。\n",
    "\n",
    "|操作符|数学符号|操作符含义|\n",
    "|:-:|:-:|:-:|\n",
    "|`<`|$<$|小于|\n",
    "|`<=`|$\\leqslant$|小于或等于|\n",
    "|`>=`|$\\geqslant$|大于或等于|\n",
    "|`>`|$>$|大于|\n",
    "|`==`|$=$|等于|\n",
    "|`!=`|$\\neq$|不等于|\n",
    "\n",
    "* **特别注意**：Python使用“`=`”表示赋值语句，使用“`==`”表示等于。\n",
    "\n",
    ">**实例**：PM2.5空气质量提醒（一）。根据PM2.5的数值，按照0—35为优、35—75为良和75以上为污染的标准，发布空气质量提醒。"
   ]
  },
  {
   "cell_type": "code",
   "execution_count": 1,
   "metadata": {},
   "outputs": [
    {
     "name": "stdout",
     "output_type": "stream",
     "text": [
      "请输入PM2.5数值：40\n",
      "空气良好，适度户外运动！\n"
     ]
    }
   ],
   "source": [
    "PM = eval(input(\"请输入PM2.5数值：\"))\n",
    "if 0 <= PM < 35:\n",
    "    print(\"空气优质，快去户外运动！\")\n",
    "if 35 <= PM < 75:\n",
    "    print(\"空气良好，适度户外运动！\")\n",
    "if 75 <= PM:\n",
    "    print(\"空气污染，请小心！\")"
   ]
  },
  {
   "cell_type": "markdown",
   "metadata": {},
   "source": [
    "* **字符或字符串可以用于条件比较**\n",
    "    * 字符串比较本质上是字符串对应Unicode编码的比较。\n",
    "    * 字符串比的比较按照字典顺序进行。\n",
    "    * 英文大写字符对应的Unicode编码比小写字符小。\n",
    "    * **Unicode字符百科**：<https://unicode-table.com/cn/>"
   ]
  },
  {
   "cell_type": "code",
   "execution_count": 3,
   "metadata": {},
   "outputs": [
    {
     "data": {
      "text/plain": [
       "True"
      ]
     },
     "execution_count": 3,
     "metadata": {},
     "output_type": "execute_result"
    }
   ],
   "source": [
    "4 < 5"
   ]
  },
  {
   "cell_type": "code",
   "execution_count": 4,
   "metadata": {},
   "outputs": [
    {
     "data": {
      "text/plain": [
       "True"
      ]
     },
     "execution_count": 4,
     "metadata": {},
     "output_type": "execute_result"
    }
   ],
   "source": [
    "\"python\" == \"python\""
   ]
  },
  {
   "cell_type": "code",
   "execution_count": 5,
   "metadata": {},
   "outputs": [
    {
     "data": {
      "text/plain": [
       "False"
      ]
     },
     "execution_count": 5,
     "metadata": {},
     "output_type": "execute_result"
    }
   ],
   "source": [
    "\"Python\" > \"python\""
   ]
  },
  {
   "cell_type": "markdown",
   "metadata": {},
   "source": [
    "### 4.2.2 二分支结构：if-else语句\n",
    "Python中`if-else`语句用来形成二分支结构，语法格式如下：\n",
    "```python\n",
    "if <条件>:\n",
    "    <语句块1>\n",
    "else:\n",
    "    <语句块2>\n",
    "```\n",
    "* 语句块1是在`if`条件满足后执行的一个或多个语句序列。\n",
    "* 语句块2是`if`条件不满足后执行的语句序列。\n",
    "\n",
    ">**实例**：PM2.5空气质量提醒（二）。如果用户只关心空气质量是否污染两种情况，可以通过二分支语句完成。"
   ]
  },
  {
   "cell_type": "code",
   "execution_count": 6,
   "metadata": {},
   "outputs": [
    {
     "name": "stdout",
     "output_type": "stream",
     "text": [
      "请输入PM2.5数值：30\n",
      "空气没有污染，可以开展户外运动！\n"
     ]
    }
   ],
   "source": [
    "PM = eval(input(\"请输入PM2.5数值：\"))\n",
    "if PM >= 75:\n",
    "    print(\"空气存在污染，请小心！\")\n",
    "else:\n",
    "    print(\"空气没有污染，可以开展户外运动！\")"
   ]
  },
  {
   "cell_type": "markdown",
   "metadata": {},
   "source": [
    "* **二分支结构的紧凑形式**，语法格式如下：\n",
    "\n",
    "```python\n",
    "<表达式1> if <条件> else <表达式2>\n",
    "```\n",
    "\n",
    "* 表达式1/表达式2一般是数字类型或字符串类型的一个值。"
   ]
  },
  {
   "cell_type": "code",
   "execution_count": 7,
   "metadata": {},
   "outputs": [
    {
     "name": "stdout",
     "output_type": "stream",
     "text": [
      "请输入PM2.5数值：30\n",
      "空气没有污染！\n"
     ]
    }
   ],
   "source": [
    "PM = eval(input(\"请输入PM2.5数值：\"))\n",
    "print(\"空气{}污染！\".format(\"存在\" if PM >= 75 else \"没有\"))"
   ]
  },
  {
   "cell_type": "markdown",
   "metadata": {},
   "source": [
    "* `if-else`的紧凑结构非常适合对特殊值处理的情况。"
   ]
  },
  {
   "cell_type": "code",
   "execution_count": 8,
   "metadata": {},
   "outputs": [
    {
     "data": {
      "text/plain": [
       "2"
      ]
     },
     "execution_count": 8,
     "metadata": {},
     "output_type": "execute_result"
    }
   ],
   "source": [
    "count = 2\n",
    "count if count != 0 else \"不存在\""
   ]
  },
  {
   "cell_type": "code",
   "execution_count": 9,
   "metadata": {},
   "outputs": [
    {
     "data": {
      "text/plain": [
       "'不存在'"
      ]
     },
     "execution_count": 9,
     "metadata": {},
     "output_type": "execute_result"
    }
   ],
   "source": [
    "count = 0\n",
    "count if count != 0 else \"不存在\""
   ]
  },
  {
   "cell_type": "markdown",
   "metadata": {},
   "source": [
    "### 4.2.3 多分支结构：if-elif-else语句\n",
    "Python的`if-elif-else`描述多分支结构，语句格式如下：\n",
    "```python\n",
    "if <条件1>:\n",
    "    <语句块1>\n",
    "elif <条件2>:\n",
    "    <语句块2>\n",
    "else:\n",
    "    <语句块N>\n",
    "```\n",
    "\n",
    "![duofenzhijg](..\\picture\\duofenzhijg.png)"
   ]
  },
  {
   "cell_type": "code",
   "execution_count": 10,
   "metadata": {},
   "outputs": [
    {
     "name": "stdout",
     "output_type": "stream",
     "text": [
      "请输入PM2.5数值：60\n",
      "空气良好，适度户外活动！\n"
     ]
    }
   ],
   "source": [
    "PM = eval(input(\"请输入PM2.5数值：\"))\n",
    "if 0 <= PM < 35:\n",
    "    print(\"空气优质，快去户外运动！\")\n",
    "elif 35 <= PM <= 75:\n",
    "    print(\"空气良好，适度户外活动！\")\n",
    "else:\n",
    "    print(\"空气污染，请小心！\")"
   ]
  },
  {
   "cell_type": "markdown",
   "metadata": {},
   "source": [
    "### 4.2.4 条件判断及组合\n",
    "* **条件判断**：操作符\n",
    "\n",
    "|操作符|数学符号|描述|\n",
    "|:-:|:-:|:-:|\n",
    "|`<`|$<$|小于|\n",
    "|`<=`|$\\leqslant$|小于等于|\n",
    "|`>=`|$\\geqslant$|大于等于|\n",
    "|`>`|$>$|大于|\n",
    "|`==`|$=$|等于|\n",
    "|`!=`|$\\neq$|不等于|\n",
    "\n",
    "* **条件组合**：用于条件组合的三个保留字\n",
    "\n",
    "|操作符及使用|描述|\n",
    "|:-:|:-:|\n",
    "|`x and y`|两个条件x和y的逻辑与|\n",
    "|`x or y`|两个条件x和y的逻辑或|\n",
    "|`not x`|条件x的逻辑非|"
   ]
  },
  {
   "cell_type": "code",
   "execution_count": 11,
   "metadata": {},
   "outputs": [
    {
     "name": "stdout",
     "output_type": "stream",
     "text": [
      "101\n",
      "猜错了\n"
     ]
    }
   ],
   "source": [
    "guess = eval(input())\n",
    "if guess > 99 or guess < 99:\n",
    "    print(\"猜错了\")\n",
    "else :\n",
    "    print(\"猜对了\")"
   ]
  },
  {
   "cell_type": "markdown",
   "metadata": {},
   "source": [
    "## 4.3 实例：身体质量指数BMI\n",
    "身体质量指数（Body Mass Index，BMI）是国际上常用的衡量人体肥胖程度和是否健康的重要标准，其定义如下：\n",
    "$$BMI = \\text{体重}（kg）/\\text{身高}^{2}（m^{2}）$$\n",
    "BMI衡量标注如下表：\n",
    "\n",
    "|分类|国际BMI值（$kg/m^{2}$）|国内BMI值（$kg/m^{2}$）|\n",
    "|:-:|:-:|:-:|\n",
    "|偏瘦|$< 18.5$|$< 18.5$|\n",
    "|正常|$18.5-25$|$18.5-24$|\n",
    "|偏胖|$25-30$|$24-28$|\n",
    "|肥胖|$\\geqslant 30$|$\\geqslant 28$|\n",
    "\n",
    "**编写根据体重和身高计算BMI值的程序，同时输出国际和国内的BMI指标建议值**。"
   ]
  },
  {
   "cell_type": "code",
   "execution_count": 12,
   "metadata": {},
   "outputs": [
    {
     "name": "stdout",
     "output_type": "stream",
     "text": [
      "请输出身高（米）和体重（公斤）[逗号隔开]：1.75, 75\n",
      "BMI数值为：24.49\n",
      "BMI指标为：国际'正常', 国内'偏胖'\n"
     ]
    }
   ],
   "source": [
    "height, weight = eval(input(\"请输出身高（米）和体重（公斤）[逗号隔开]：\"))\n",
    "bmi = weight / pow(height, 2)\n",
    "print(\"BMI数值为：{:.2f}\".format(bmi))\n",
    "who, dom = \"\", \"\"\n",
    "if bmi < 18.5:\n",
    "    who = \"偏瘦\"\n",
    "elif bmi < 25:\n",
    "    who = \"正常\"\n",
    "elif bmi < 30:\n",
    "    who = \"偏胖\"\n",
    "else:\n",
    "    who = \"肥胖\"\n",
    "\n",
    "if bmi < 18.5:\n",
    "    dom = \"偏瘦\"\n",
    "elif bmi < 24:\n",
    "    dom = \"正常\"\n",
    "elif bmi < 28:\n",
    "    dom = \"偏胖\"\n",
    "else:\n",
    "    dom = \"肥胖\"\n",
    "\n",
    "print(\"BMI指标为：国际'{0}', 国内'{1}'\".format(who, dom))"
   ]
  },
  {
   "cell_type": "markdown",
   "metadata": {},
   "source": [
    "**上述代码可以进行整合成为如下代码**："
   ]
  },
  {
   "cell_type": "code",
   "execution_count": 13,
   "metadata": {},
   "outputs": [
    {
     "name": "stdout",
     "output_type": "stream",
     "text": [
      "请输出身高（米）和体重（公斤）[逗号隔开]：1.75, 75\n",
      "BMI数值为：24.49\n",
      "BMI指标为：国际'正常', 国内'偏胖'\n"
     ]
    }
   ],
   "source": [
    "height, weight = eval(input(\"请输出身高（米）和体重（公斤）[逗号隔开]：\"))\n",
    "bmi = weight / pow(height, 2)\n",
    "print(\"BMI数值为：{:.2f}\".format(bmi))\n",
    "who, dom = \"\", \"\"\n",
    "if bmi < 18.5:\n",
    "    who, dom  = \"偏瘦\", \"偏瘦\"\n",
    "elif 18.5 <= bmi < 24:\n",
    "    who, dom = \"正常\", \"正常\"\n",
    "elif 24 <= bmi < 25:\n",
    "    who, dom = \"正常\", \"偏胖\"\n",
    "elif 25 <= bmi < 28:\n",
    "    who, dom = \"偏胖\", \"偏胖\"\n",
    "elif 28 <= bmi < 30:\n",
    "    who, dom = \"偏胖\", \"肥胖\"\n",
    "else:\n",
    "    who, dom = \"肥胖\", \"肥胖\"\n",
    "print(\"BMI指标为：国际'{0}', 国内'{1}'\".format(who, dom))"
   ]
  },
  {
   "cell_type": "markdown",
   "metadata": {},
   "source": [
    "## 4.4 程序的循环结构\n",
    "更具循环执行次数的确定性，循环可以分为：\n",
    "* **遍历循环（确定次数循环）**：`for`语句。循环体对循环次数有明确的定义。\n",
    "* **无限循环（非确定次数循环）**：`while`语句。程序不确定循环体可能的执行次数，而通过条件判断是否继续执行循环体。\n",
    "\n",
    "### 4.4.1 遍历循环：for语句\n",
    "Python通过保留字`for`实现遍历循环，语法格式如下：\n",
    "```python\n",
    "for <循环变量> in <遍历结构>:\n",
    "    <语句块>\n",
    "```\n",
    "\n",
    "* 从遍历结构中逐一提取元素，放在循环变量中。\n",
    "* 由保留字for和in组成，完整遍历所有元素后结束\n",
    "* 每次循环，所获得元素放入循环变量，并执行一次语句块\n",
    "\n",
    "![bianlixunhuan](..\\picture\\bianlixunhuan.png)\n",
    "\n",
    "**遍历循环的应用**主要包括以下几个方面：\n",
    "* **计数循环（N次）**：遍历由`range()`函数产生的数字序列，产生循环。\n",
    "\n",
    "![jishuxunhuan](..\\picture\\jishuxunhuan.png)"
   ]
  },
  {
   "cell_type": "code",
   "execution_count": 14,
   "metadata": {},
   "outputs": [
    {
     "name": "stdout",
     "output_type": "stream",
     "text": [
      "0\n",
      "1\n",
      "2\n",
      "3\n",
      "4\n"
     ]
    }
   ],
   "source": [
    "for i in range(5):\n",
    "    print(i)"
   ]
  },
  {
   "cell_type": "code",
   "execution_count": 15,
   "metadata": {},
   "outputs": [
    {
     "name": "stdout",
     "output_type": "stream",
     "text": [
      "Hello: 0\n",
      "Hello: 1\n",
      "Hello: 2\n",
      "Hello: 3\n",
      "Hello: 4\n"
     ]
    }
   ],
   "source": [
    "for i in range(5):\n",
    "    print(\"Hello:\",i)"
   ]
  },
  {
   "cell_type": "markdown",
   "metadata": {},
   "source": [
    "* **技术循环（特定次）**\n",
    "\n",
    "![jishuteding](..\\picture\\jishuteding.png)"
   ]
  },
  {
   "cell_type": "code",
   "execution_count": 17,
   "metadata": {},
   "outputs": [
    {
     "name": "stdout",
     "output_type": "stream",
     "text": [
      "1\n",
      "2\n",
      "3\n",
      "4\n",
      "5\n"
     ]
    }
   ],
   "source": [
    "for i in range(1,6):\n",
    "    print(i)"
   ]
  },
  {
   "cell_type": "code",
   "execution_count": 18,
   "metadata": {},
   "outputs": [
    {
     "name": "stdout",
     "output_type": "stream",
     "text": [
      "Hello: 1\n",
      "Hello: 3\n",
      "Hello: 5\n"
     ]
    }
   ],
   "source": [
    "for i in range(1,6,2):\n",
    "    print(\"Hello:\",i)"
   ]
  },
  {
   "cell_type": "markdown",
   "metadata": {},
   "source": [
    "* **字符串遍历循环**：`s`是字符串，遍历字符串每个字符，产生循环。\n",
    "\n",
    "![zifuchuanbianli](..\\picture\\zifuchuanbianli.png)"
   ]
  },
  {
   "cell_type": "code",
   "execution_count": 20,
   "metadata": {},
   "outputs": [
    {
     "name": "stdout",
     "output_type": "stream",
     "text": [
      "P,y,t,h,o,n,1,2,3,"
     ]
    }
   ],
   "source": [
    "for c in \"Python123\":\n",
    "    print(c, end=\",\")"
   ]
  },
  {
   "cell_type": "markdown",
   "metadata": {},
   "source": [
    "* **列表遍历循环**：`ls`是一个列表，遍历其每个元素，产生循环。\n",
    "\n",
    "![liebiaobianli](..\\picture\\liebiaobianli.png)"
   ]
  },
  {
   "cell_type": "code",
   "execution_count": 22,
   "metadata": {},
   "outputs": [
    {
     "name": "stdout",
     "output_type": "stream",
     "text": [
      "123,PY,456,"
     ]
    }
   ],
   "source": [
    "for item in [123, \"PY\", 456] :\n",
    "    print(item, end=\",\")"
   ]
  },
  {
   "cell_type": "markdown",
   "metadata": {},
   "source": [
    "* **文件遍历循环**：`fi`是一个文件标识符，遍历其每行，产生循环。\n",
    "\n",
    "![wenjianbianli](..\\picture\\wenjianbianli.png)"
   ]
  },
  {
   "cell_type": "code",
   "execution_count": 30,
   "metadata": {},
   "outputs": [
    {
     "name": "stdout",
     "output_type": "stream",
     "text": [
      "优美胜于丑陋\n",
      "明了胜于隐晦\n",
      "简洁胜于复杂"
     ]
    }
   ],
   "source": [
    "fi = open(\"../file/a.txt\", \"r\")\n",
    "for line in fi:\n",
    "    print(line, end=\"\")"
   ]
  },
  {
   "cell_type": "markdown",
   "metadata": {},
   "source": [
    "* **遍历循环的扩展模式**：当`for`循环正常执行后，程序会继续执行`else`语句中的内容，而且`else`语句只在循环正常执行并结束后才执行。语法格式如下：\n",
    "\n",
    "```python\n",
    "for <循环变量> in <遍历结构>:\n",
    "    <语句块1>\n",
    "else:\n",
    "    <语句块2>\n",
    "```"
   ]
  },
  {
   "cell_type": "code",
   "execution_count": 31,
   "metadata": {},
   "outputs": [
    {
     "name": "stdout",
     "output_type": "stream",
     "text": [
      "循环进行中：B\n",
      "循环进行中：I\n",
      "循环进行中：T\n",
      "循环正常结束\n"
     ]
    }
   ],
   "source": [
    "for s in \"BIT\":\n",
    "    print(\"循环进行中：\" + s)\n",
    "else:\n",
    "    s = \"循环正常结束\"\n",
    "print(s)"
   ]
  },
  {
   "cell_type": "markdown",
   "metadata": {},
   "source": [
    "### 4.4.2 无限循环：while语句\n",
    "* **无限循环**：由条件控制的循环运行方式。反复执行语句块，直到条件不满足时结束\n",
    "    * 条件与`if`语句中的判断条件一样，结果为`True`和`False`。\n",
    "    * 当条件判断为`True`时，循环体重复执行语句块中语句。当条件为`False`时，循环终止，执行与`while`同级别缩进的后续语句。\n",
    "\n",
    "![wuxianxunhuan](..\\picture\\wuxianxunhuan.png)"
   ]
  },
  {
   "cell_type": "code",
   "execution_count": 32,
   "metadata": {},
   "outputs": [
    {
     "name": "stdout",
     "output_type": "stream",
     "text": [
      "2\n",
      "1\n",
      "0\n"
     ]
    }
   ],
   "source": [
    "a = 3\n",
    "while a > 0 :\n",
    "    a = a - 1\n",
    "    print(a)"
   ]
  },
  {
   "cell_type": "code",
   "execution_count": null,
   "metadata": {},
   "outputs": [],
   "source": [
    "# 这是个无限循环，可以按“CTRL + C”退出执行\n",
    "a = 3\n",
    "while a > 0 :\n",
    "    a = a + 1\n",
    "    print(a)"
   ]
  },
  {
   "cell_type": "markdown",
   "metadata": {},
   "source": [
    "* **无限循环的扩展模式**：使用`else`保留字，语法如下：\n",
    "\n",
    "```python\n",
    "while <条件>:\n",
    "    <语句块1>\n",
    "else:\n",
    "    <语句块2>\n",
    "```\n",
    "当`while`循环正常执行后，程序会继续执行`else`语句中的内容。"
   ]
  },
  {
   "cell_type": "code",
   "execution_count": 34,
   "metadata": {},
   "outputs": [
    {
     "name": "stdout",
     "output_type": "stream",
     "text": [
      "循环进行中：B\n",
      "循环进行中：I\n",
      "循环进行中：T\n",
      "循环正常结束\n"
     ]
    }
   ],
   "source": [
    "s, idx = \"BIT\", 0\n",
    "while idx < len(s):\n",
    "    print(\"循环进行中：\" + s[idx])\n",
    "    idx = idx + 1\n",
    "else:\n",
    "    s = \"循环正常结束\"\n",
    "print(s)"
   ]
  },
  {
   "cell_type": "markdown",
   "metadata": {},
   "source": [
    "* `while`和`for`之间的对比：\n",
    "    * 使用`while`实现计数循环，需要在循环之前对计数器`idx`进行初始化，并在每次循环中对计数器`idx`进行累加。\n",
    "    * `for`循环中循环变量逐一取自遍历结构，不需要程序维护计数器。\n",
    "\n",
    "### 4.4.3 循环保留字：break和continue\n",
    "* `break`和`continue`：\n",
    "     * `break`：跳出并结束当前整个循环，执行循环后的语句。\n",
    "     * `continue`：结束当次循环，继续执行后续次数循环。\n",
    "     * `break`和`continue`可以与`for`和`while`循环搭配使用。\n",
    "     * `break`仅跳出当前最内层循环"
   ]
  },
  {
   "cell_type": "code",
   "execution_count": 36,
   "metadata": {},
   "outputs": [
    {
     "name": "stdout",
     "output_type": "stream",
     "text": [
      "PYHON"
     ]
    }
   ],
   "source": [
    "for c in \"PYTHON\":\n",
    "    if c == \"T\":\n",
    "        continue\n",
    "    print(c, end=\"\")"
   ]
  },
  {
   "cell_type": "code",
   "execution_count": 37,
   "metadata": {},
   "outputs": [
    {
     "name": "stdout",
     "output_type": "stream",
     "text": [
      "PY"
     ]
    }
   ],
   "source": [
    "for c in \"PYTHON\":\n",
    "    if c == \"T\":\n",
    "        break\n",
    "    print(c, end=\"\")"
   ]
  },
  {
   "cell_type": "code",
   "execution_count": 38,
   "metadata": {},
   "outputs": [
    {
     "name": "stdout",
     "output_type": "stream",
     "text": [
      "PYTHONPYTHOPYTHPYTPYP"
     ]
    }
   ],
   "source": [
    "s = \"PYTHON\" \n",
    "while s != \"\":\n",
    "    for c in s:\n",
    "        print(c, end=\"\")\n",
    "    s = s[:-1]"
   ]
  },
  {
   "cell_type": "code",
   "execution_count": 39,
   "metadata": {},
   "outputs": [
    {
     "name": "stdout",
     "output_type": "stream",
     "text": [
      "PYPYPYPYPYP"
     ]
    }
   ],
   "source": [
    "s = \"PYTHON\" \n",
    "while s != \"\":\n",
    "    for c in s:\n",
    "        if c == \"T\":\n",
    "            break\n",
    "        print(c, end=\"\")\n",
    "    s = s[:-1]"
   ]
  },
  {
   "cell_type": "markdown",
   "metadata": {},
   "source": [
    "## 4.5 random库的使用\n",
    "### 4.5.1 random库概述\n",
    "* **`random`库是使用随机数的Python标准库**。\n",
    "    * **伪随机数**: 采用梅森旋转算法生成的（伪）随机序列中元素。\n",
    "    * `random`库主要用于生成随机数。\n",
    "    * 使用`random`库：`import random`。\n",
    "\n",
    "* **真随机数 vs. 伪随机数**\n",
    "    * 随机数是不确定性的产物，其结果是不可预测的，产生之前不可预见。\n",
    "    * 无论计算机产生的随机数看起来多么“随机”，它们也不是真正意义上的随机数。\n",
    "    * 计算机是按照一定算法产生随机数，其结果是确定的、可预见的，称为“伪随机数”。\n",
    "    * 真随机数不能评价，如果存在评价随机数的方法，判断一个属是否是随机数，那么这个随机数就有确定性，不再是随机数。\n",
    "    \n",
    ">**实例**：在玩英雄联盟或王者荣耀的时候，ADC出装为什么要“暴击”+“攻速”一起叠？\n",
    "\n",
    "![diandao](..\\picture\\diandao.png)\n",
    "\n",
    "* **真随机数**：攻击100次，一个暴击都没有出现，也可能每次攻击都会出现暴击。\n",
    "* **伪随机数**：攻击100次，一定会有30次出现暴击。\n",
    "\n",
    "**综上所述，“攻速+暴击”一起往上叠，才是ADC的最佳出装策略。**"
   ]
  },
  {
   "cell_type": "markdown",
   "metadata": {},
   "source": [
    "### 4.5.2 random库解析\n",
    "\n",
    "|函数|描述|\n",
    "|:-:|:-:|\n",
    "|`seed(a = None)`|初始化随机数种子，默认值为当前系统时间|\n",
    "|`random()`|生成一个`[0.0, 1.0]`之间的随机小数|\n",
    "|`randint(a, b)`|生成一个`[a, b]`之间的整数|\n",
    "|`getrandbits(k)`|生成一个`k`比特长度的随机整数|\n",
    "|`randrange(start, stop[, step])`|生成一个`[start, stop)`之间以`step`为步数的随机整数|\n",
    "|`uniform(a, b)`|生成一个`[a, b]`之间的随机小数|\n",
    "|`choice(seq)`|从序列类型，例如列表中随机返回一个元素|\n",
    "|`shuffle(seq)`|将序列类型中的元素随机排列，返回打乱后的序列|\n",
    "|`sample(pop, k)`|从`pop`类型中随机选取`k`个元素，以列表类型返回|\n",
    "\n",
    "* `import`的引用方法：\n",
    "\n",
    "```python\n",
    "import random\n",
    "```\n",
    "或者\n",
    "```python\n",
    "from random import *\n",
    "```"
   ]
  },
  {
   "cell_type": "code",
   "execution_count": 42,
   "metadata": {},
   "outputs": [
    {
     "data": {
      "text/plain": [
       "0.7414693209958784"
      ]
     },
     "execution_count": 42,
     "metadata": {},
     "output_type": "execute_result"
    }
   ],
   "source": [
    "from random import *\n",
    "random()"
   ]
  },
  {
   "cell_type": "code",
   "execution_count": 43,
   "metadata": {},
   "outputs": [
    {
     "data": {
      "text/plain": [
       "4.75708527793632"
      ]
     },
     "execution_count": 43,
     "metadata": {},
     "output_type": "execute_result"
    }
   ],
   "source": [
    "from random import *\n",
    "uniform(1, 10)"
   ]
  },
  {
   "cell_type": "code",
   "execution_count": 44,
   "metadata": {},
   "outputs": [
    {
     "data": {
      "text/plain": [
       "76"
      ]
     },
     "execution_count": 44,
     "metadata": {},
     "output_type": "execute_result"
    }
   ],
   "source": [
    "from random import *\n",
    "#从0开始到100以4递增的元素中随机返回\n",
    "randrange(0, 100, 4)"
   ]
  },
  {
   "cell_type": "code",
   "execution_count": 45,
   "metadata": {},
   "outputs": [
    {
     "data": {
      "text/plain": [
       "82"
      ]
     },
     "execution_count": 45,
     "metadata": {},
     "output_type": "execute_result"
    }
   ],
   "source": [
    "from random import *\n",
    "choice(range(100))"
   ]
  },
  {
   "cell_type": "code",
   "execution_count": 46,
   "metadata": {},
   "outputs": [
    {
     "name": "stdout",
     "output_type": "stream",
     "text": [
      "[0, 1, 2, 3, 4, 5, 6, 7, 8, 9]\n",
      "[4, 9, 7, 0, 2, 5, 1, 6, 8, 3]\n"
     ]
    }
   ],
   "source": [
    "from random import *\n",
    "ls = list(range(10))\n",
    "print(ls)\n",
    "shuffle(ls)\n",
    "print(ls)"
   ]
  },
  {
   "cell_type": "markdown",
   "metadata": {},
   "source": [
    "* **随机数种子**\n",
    "    * 生成随机数之前可以通过`seed()`函数指定随机种子数，随机数种子一般是一个整数。\n",
    "    * 只要种子相同，每次生成的随机数序列也相同，可以便于测试和同步数据。"
   ]
  },
  {
   "cell_type": "code",
   "execution_count": 47,
   "metadata": {},
   "outputs": [
    {
     "data": {
      "text/plain": [
       "'4.4.10'"
      ]
     },
     "execution_count": 47,
     "metadata": {},
     "output_type": "execute_result"
    }
   ],
   "source": [
    "from random import *\n",
    "seed(125)\n",
    "\"{}.{}.{}\".format(randint(1, 10), randint(1, 10), randint(1, 10),)"
   ]
  },
  {
   "cell_type": "code",
   "execution_count": 48,
   "metadata": {},
   "outputs": [
    {
     "data": {
      "text/plain": [
       "'5.10.3'"
      ]
     },
     "execution_count": 48,
     "metadata": {},
     "output_type": "execute_result"
    }
   ],
   "source": [
    "from random import *\n",
    "\"{}.{}.{}\".format(randint(1, 10), randint(1, 10), randint(1, 10),)"
   ]
  },
  {
   "cell_type": "code",
   "execution_count": 49,
   "metadata": {},
   "outputs": [
    {
     "data": {
      "text/plain": [
       "'4.4.10'"
      ]
     },
     "execution_count": 49,
     "metadata": {},
     "output_type": "execute_result"
    }
   ],
   "source": [
    "from random import *\n",
    "seed(125)\n",
    "\"{}.{}.{}\".format(randint(1, 10), randint(1, 10), randint(1, 10),)"
   ]
  },
  {
   "cell_type": "markdown",
   "metadata": {},
   "source": [
    "## 4.6 实例：$\\pi$的计算\n",
    "**一千多年来，数学家们采用各种办法，来求圆周率的更高精度。**\n",
    "* 数学家祖冲之，利用复杂的割圆术，将圆周率精确到小数点第七位。\n",
    "\n",
    "![pi](..\\picture\\pi.jpg)\n",
    "\n",
    "* 1995年三位美国算法学家共同提出了震惊数学界的（Bailey Borwein Plouffe，BBP）公式。可以单独计算圆周率指定小数位的数字，而且不需要知道它前面的数字。\n",
    "\n",
    "$$\\pi = \\sum_{k = 0}^{\\infty}[\\frac{1}{16^{k}}(\\frac{4}{8k+1} - \\frac{2}{8k+4} - \\frac{1}{8k+5} - \\frac{1}{8k+6})]$$\n",
    "\n",
    "* 数学家还找到了求解$\\pi$的另类方法：蒙特卡罗（Monte Carlo）方法，又称为随机抽样或统计试验方法。\n",
    "    * 基本思想：如果求解的问题是某种事件出现的概率，或者某个随机变量的期望值，可以通过某种“试验”的方法，得到这种事件出现的频率，或者这个随机变数的平均值，并用它们作为问题的解。\n",
    "    * 应用蒙特卡罗方法求解$\\pi$的基本步骤：\n",
    "        * 随机向下图单位正方形和圆结构，抛洒大量“飞镖”点。\n",
    "        * 计算每个点到圆心的距离，从而判断该点在圆内或者圆外。\n",
    "        * 用圆内的点数除以总点数就是$\\pi/4$的值。\n",
    "    * 随机点数量越大，越充分覆盖整个图形，计算得到的$\\pi$值越精确。\n",
    "\n",
    "![mengtekaluo](..\\picture\\mengtekaluo.png)\n",
    "\n",
    "**采用蒙特卡罗方法求解$\\pi$值的Python程序如下**：    "
   ]
  },
  {
   "cell_type": "code",
   "execution_count": 51,
   "metadata": {},
   "outputs": [
    {
     "name": "stdout",
     "output_type": "stream",
     "text": [
      "圆周率值是: 3.1906666666666665\n",
      "运行时间是: 0.00597s\n"
     ]
    }
   ],
   "source": [
    "from random import random\n",
    "from math import sqrt\n",
    "from time import perf_counter\n",
    "\n",
    "#抛点数\n",
    "DARTS = 3000\n",
    "\n",
    "#命中率\n",
    "hits = 0.0\n",
    "\n",
    "#开始时间\n",
    "start = perf_counter()\n",
    "\n",
    "for i in range(1, DARTS+1):\n",
    "    x, y = random(), random()\n",
    "    dist = sqrt(x ** 2 + y ** 2)\n",
    "    if dist <= 1.0:\n",
    "        hits = hits + 1\n",
    "pi = 4 * (hits / DARTS)\n",
    "\n",
    "#结束时间\n",
    "end = perf_counter()\n",
    "\n",
    "print(\"圆周率值是: {}\".format(pi))\n",
    "print(\"运行时间是: {:.5f}s\".format(end - start))"
   ]
  },
  {
   "cell_type": "markdown",
   "metadata": {},
   "source": [
    "![mtkl](..\\picture\\mtkl.png)\n",
    "\n",
    "**随着DARTS**数量的增加，当达到$2^{20}$数量级的时候，$\\pi$的值就相对准确了。\n",
    "\n",
    "## 4.7 程序的异常处理\n",
    "\n",
    "### 4.7.1 异常处理：try-except语句\n",
    "\n",
    "**对比下面两段程序的运行结果**："
   ]
  },
  {
   "cell_type": "code",
   "execution_count": 53,
   "metadata": {},
   "outputs": [
    {
     "name": "stdout",
     "output_type": "stream",
     "text": [
      "请输入一个整数: 100\n",
      "10000\n"
     ]
    }
   ],
   "source": [
    "num = eval(input(\"请输入一个整数: \"))\n",
    "print(num**2)"
   ]
  },
  {
   "cell_type": "code",
   "execution_count": 54,
   "metadata": {},
   "outputs": [
    {
     "name": "stdout",
     "output_type": "stream",
     "text": [
      "请输入一个整数: NO\n"
     ]
    },
    {
     "ename": "NameError",
     "evalue": "name 'NO' is not defined",
     "output_type": "error",
     "traceback": [
      "\u001b[1;31m---------------------------------------------------------------------------\u001b[0m",
      "\u001b[1;31mNameError\u001b[0m                                 Traceback (most recent call last)",
      "\u001b[1;32m<ipython-input-54-b8c176dd03f2>\u001b[0m in \u001b[0;36m<module>\u001b[1;34m()\u001b[0m\n\u001b[1;32m----> 1\u001b[1;33m \u001b[0mnum\u001b[0m \u001b[1;33m=\u001b[0m \u001b[0meval\u001b[0m\u001b[1;33m(\u001b[0m\u001b[0minput\u001b[0m\u001b[1;33m(\u001b[0m\u001b[1;34m\"请输入一个整数: \"\u001b[0m\u001b[1;33m)\u001b[0m\u001b[1;33m)\u001b[0m\u001b[1;33m\u001b[0m\u001b[0m\n\u001b[0m\u001b[0;32m      2\u001b[0m \u001b[0mprint\u001b[0m\u001b[1;33m(\u001b[0m\u001b[0mnum\u001b[0m\u001b[1;33m**\u001b[0m\u001b[1;36m2\u001b[0m\u001b[1;33m)\u001b[0m\u001b[1;33m\u001b[0m\u001b[0m\n",
      "\u001b[1;32m<string>\u001b[0m in \u001b[0;36m<module>\u001b[1;34m()\u001b[0m\n",
      "\u001b[1;31mNameError\u001b[0m: name 'NO' is not defined"
     ]
    }
   ],
   "source": [
    "num = eval(input(\"请输入一个整数: \"))\n",
    "print(num**2)"
   ]
  },
  {
   "cell_type": "markdown",
   "metadata": {},
   "source": [
    "对于上面的程序，Python解释器返回了**异常信息**，同时**退出程序**。\n",
    "\n",
    "![yichangxinxi](..\\picture\\yichangxinxi.png)\n",
    "\n",
    "* **异常类型**：表明发生异常的原因，也是程序处理异常的依据。\n",
    "* Python采用`try-except`语句实现异常处理，语法格式如下：\n",
    "\n",
    "```python\n",
    "try:\n",
    "    <语句块1>\n",
    "except:\n",
    "    <语句块2>\n",
    "```\n",
    "    或者\n",
    "```python\n",
    "try:\n",
    "    <语句块1>\n",
    "except <异常类型>:\n",
    "    <语句块2>\n",
    "```"
   ]
  },
  {
   "cell_type": "code",
   "execution_count": 55,
   "metadata": {},
   "outputs": [
    {
     "name": "stdout",
     "output_type": "stream",
     "text": [
      "请输入一个整数: NO\n",
      "输入不是整数\n"
     ]
    }
   ],
   "source": [
    "try:\n",
    "    num = eval(input(\"请输入一个整数: \"))\n",
    "    print(num**2)\n",
    "except:\n",
    "    print(\"输入不是整数\")"
   ]
  },
  {
   "cell_type": "code",
   "execution_count": 56,
   "metadata": {},
   "outputs": [
    {
     "name": "stdout",
     "output_type": "stream",
     "text": [
      "请输入一个整数: NO\n",
      "输入不是整数\n"
     ]
    }
   ],
   "source": [
    "try:\n",
    "    num = eval(input(\"请输入一个整数: \"))\n",
    "    print(num**2)\n",
    "except NameError:\n",
    "    print(\"输入不是整数\")"
   ]
  },
  {
   "cell_type": "markdown",
   "metadata": {},
   "source": [
    "**注意事项**：`except`后面有一个`NameError`，这说明只捕捉`NameError`这个类型的错误，并做相应的处理。\n",
    "\n",
    "* **Python标准异常**\n",
    "\n",
    "|异常名称|描述|\n",
    "|:-:|:-:|\n",
    "|BaseException|所有异常的基类|\n",
    "|SystemExit|解释器请求退出|\n",
    "|KeyboardInterrupt|用户中断执行(通常是输入^C)|\n",
    "|Exception|常规错误的基类|\n",
    "|StopIteration|迭代器没有更多的值|\n",
    "|GeneratorExit|生成器(generator)发生异常来通知退出|\n",
    "|StandardError|所有的内建标准异常的基类|\n",
    "|ArithmeticError|所有数值计算错误的基类|\n",
    "|FloatingPointError|浮点计算错误|\n",
    "|OverflowError|数值运算超出最大限制|\n",
    "|ZeroDivisionError|除(或取模)零 (所有数据类型)|\n",
    "|AssertionError|断言语句失败|\n",
    "|AttributeError|对象没有这个属性|\n",
    "|EOFError|没有内建输入,到达EOF 标记|\n",
    "|EnvironmentError|操作系统错误的基类|\n",
    "|IOError|输入/输出操作失败|\n",
    "|OSError|操作系统错误|\n",
    "|WindowsError|系统调用失败|\n",
    "|ImportError|导入模块/对象失败|\n",
    "|LookupError|无效数据查询的基类|\n",
    "|IndexError|序列中没有此索引(index)|\n",
    "|KeyError|映射中没有这个键|\n",
    "|MemoryError|内存溢出错误(对于Python 解释器不是致命的)|\n",
    "|NameError|未声明/初始化对象 (没有属性)|\n",
    "|UnboundLocalError|访问未初始化的本地变量|\n",
    "|ReferenceError|弱引用(Weak reference)试图访问已经垃圾回收了的对象|\n",
    "|RuntimeError|一般的运行时错误|\n",
    "|NotImplementedError|尚未实现的方法|\n",
    "|SyntaxError|Python 语法错误|\n",
    "|IndentationError|缩进错误|\n",
    "|TabError|Tab 和空格混用|\n",
    "|SystemError|一般的解释器系统错误|\n",
    "|TypeError|对类型无效的操作|\n",
    "|ValueError|传入无效的参数|\n",
    "|UnicodeError|Unicode 相关的错误|\n",
    "|UnicodeDecodeError|Unicode 解码时的错误|\n",
    "|UnicodeEncodeError|Unicode 编码时错误|\n",
    "|UnicodeTranslateError|Unicode 转换时错误|\n",
    "|Warning|警告的基类|\n",
    "|DeprecationWarning|关于被弃用的特征的警告|\n",
    "|FutureWarning|关于构造将来语义会有改变的警告|\n",
    "|OverflowWarning|旧的关于自动提升为长整型(long)的警告|\n",
    "|PendingDeprecationWarning|关于特性将会被废弃的警告|\n",
    "|RuntimeWarning|可疑的运行时行为(runtime behavior)的警告|\n",
    "|SyntaxWarning|可疑的语法的警告|\n",
    "|UserWarning|用户代码生成的警告|\n",
    "\n",
    "### 4.7.2 异常的高级用法\n",
    "* `try-except`语句可以支持多个`except`语句，语法格式如下：\n",
    "    * 第1到第$N$个`except`语句后面都指定了异常类型，这些`except`所包含的语句块只处理这些类型的异常。\n",
    "    * 最后一个`except`语句没有指定任何类型，表示它对应的语句块可以处理所有其他异常。\n",
    "\n",
    "```python\n",
    "try:\n",
    "    <语句块1>\n",
    "except: <异常类型1>\n",
    "    <语句块2>\n",
    "except: <异常类型2>\n",
    "    <语句块3>\n",
    "except: <异常类型N>\n",
    "    <语句块N+1>\n",
    "except:\n",
    "    <语句块N+2>\n",
    "```"
   ]
  },
  {
   "cell_type": "code",
   "execution_count": 57,
   "metadata": {},
   "outputs": [
    {
     "name": "stdout",
     "output_type": "stream",
     "text": [
      "请输入一个整数：NO\n",
      "输入错误，请输入一个整数！\n"
     ]
    }
   ],
   "source": [
    "try:\n",
    "    alp = \"ABCDEFGHIJKLMNOPQRSTUVWXYZ\"\n",
    "    idx = eval(input(\"请输入一个整数：\"))\n",
    "    print(alp[idx])\n",
    "except NameError:\n",
    "    print(\"输入错误，请输入一个整数！\")\n",
    "except:\n",
    "    print(\"其他错误\")"
   ]
  },
  {
   "cell_type": "code",
   "execution_count": 58,
   "metadata": {},
   "outputs": [
    {
     "name": "stdout",
     "output_type": "stream",
     "text": [
      "请输入一个整数：100\n",
      "其他错误\n"
     ]
    }
   ],
   "source": [
    "try:\n",
    "    alp = \"ABCDEFGHIJKLMNOPQRSTUVWXYZ\"\n",
    "    idx = eval(input(\"请输入一个整数：\"))\n",
    "    print(alp[idx])\n",
    "except NameError:\n",
    "    print(\"输入错误，请输入一个整数！\")\n",
    "except:\n",
    "    print(\"其他错误\")"
   ]
  },
  {
   "cell_type": "markdown",
   "metadata": {},
   "source": [
    "* 异常语句还可以与`else`和`finally`保留字配合使用，语法格式如下：\n",
    "    * 当`try`中的`<语句块1>`正常执行结束且没有发生异常时，`else`中的`<语句块3>`执行。\n",
    "    * 无论`try`中的`<语句块1>`是否发生异常，`<语句块4>`都会执行。\n",
    "\n",
    "```python\n",
    "try:\n",
    "    <语句块1>\n",
    "except <异常类型1>:\n",
    "    <语句块2>\n",
    "else:\n",
    "    <语句块3>\n",
    "finally:\n",
    "    <语句块4>\n",
    "```"
   ]
  },
  {
   "cell_type": "code",
   "execution_count": 60,
   "metadata": {},
   "outputs": [
    {
     "name": "stdout",
     "output_type": "stream",
     "text": [
      "请输入一个整数：5\n",
      "F\n",
      "没有发生异常\n",
      "程序执行完毕，不知道是否发生了异常\n"
     ]
    }
   ],
   "source": [
    "try:\n",
    "    alp = \"ABCDEFGHIJKLMNOPQRSTUVWXYZ\"\n",
    "    idx = eval(input(\"请输入一个整数：\"))\n",
    "    print(alp[idx])\n",
    "except NameError:\n",
    "    print(\"输入错误，请输入一个整数！\")\n",
    "else:\n",
    "    print(\"没有发生异常\")\n",
    "finally:\n",
    "    print(\"程序执行完毕，不知道是否发生了异常\")"
   ]
  }
 ],
 "metadata": {
  "kernelspec": {
   "display_name": "Python 3",
   "language": "python",
   "name": "python3"
  },
  "language_info": {
   "codemirror_mode": {
    "name": "ipython",
    "version": 3
   },
   "file_extension": ".py",
   "mimetype": "text/x-python",
   "name": "python",
   "nbconvert_exporter": "python",
   "pygments_lexer": "ipython3",
   "version": "3.7.0"
  }
 },
 "nbformat": 4,
 "nbformat_minor": 2
}
