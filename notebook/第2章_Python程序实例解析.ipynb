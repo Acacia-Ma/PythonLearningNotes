{
 "cells": [
  {
   "cell_type": "markdown",
   "metadata": {},
   "source": [
    "# 2. Python程序实例解析\n",
    "## 2.1 实例 1：温度转换\n",
    "### 2.1.1 分析问题\n",
    "全世界对于温度的刻画分为两种不同体系：\n",
    "* **摄氏度**：中国等世界大多数国家使用。以1个标准大气压下水的结冰点为0度，沸点为100度，将温度进行等分刻画。\n",
    "* **华氏度**：美国、英国等国家使用。以1个标准大气压下水的结冰点为32度，沸点为212度，将温度进行等分刻画。\n",
    "\n",
    "对于去美国旅行的中国游客来说，需要将当地发布的**华氏温度转换为摄氏温度**以符合自己的理解习惯；同样，来中国旅行的美国游客，也需要将当地发布的**摄氏温度转换为华氏温度**。**旅行者温度转换问题的计算部分，即用户输入温度值，程序给出输出结果。**\n",
    "\n",
    "### 2.1.2 划分边界\n",
    "确定问题计算部分后，需要进一步划分问题边界，即明确问题的**输入数据**、**输出数据**和**对数据处理的要求**。该功能的IPO描述如下：\n",
    "* **输入**：带华氏或摄氏标志的温度值\n",
    "* **处理**：根据温度标志选择适当的温度转换算法\n",
    "* **输出**：带摄氏或华氏标志的温度值\n",
    "采用82F表示华氏82度，采用28C表示摄氏28度，实数部分是温度值，这种温度表示格式同时用于温度的输入和输出。\n",
    "\n",
    "### 2.1.3 设计算法\n",
    "根据华氏和摄氏温度定义，两个温度体系都以1个标准大气压下谁的结冰点和沸点为温度区间边界，因此转换算法如下：\n",
    "$$C = (F - 32) / 1.8$$\n",
    "$$F = C \\times 1.8 + 32$$\n",
    "其中，$C$表示摄氏温度，$F$表示华氏温度。\n",
    "\n",
    ">**算法（Algorithm）**：是数学和计算领域的概念，指完成特定计算的一组有序操作，在IPO模式中，确定输入和输出后，处理过程通常也称为**算法**。\n",
    "\n",
    "### 2.1.4 编写程序\n",
    "根据IPO描述和算法设计，编写如下温度转换的Python程序代码："
   ]
  },
  {
   "cell_type": "code",
   "execution_count": 1,
   "metadata": {},
   "outputs": [
    {
     "name": "stdout",
     "output_type": "stream",
     "text": [
      "请输入带有符号的温度值：82F\n",
      "转换后的温度是27.78C\n"
     ]
    }
   ],
   "source": [
    "TempStr = input (\"请输入带有符号的温度值：\")\n",
    "if TempStr[-1] in ['F', 'f']:\n",
    "    C = (eval(TempStr[0 : -1]) - 32) / 1.8\n",
    "    print (\"转换后的温度是{:.2f}C\".format(C))\n",
    "elif TempStr[-1] in ['C', 'c']:\n",
    "    F = 1.8 * eval(TempStr[0 : -1]) + 32\n",
    "    print (\"转换后的温度是{:.2f}F\".format(F))\n",
    "else:\n",
    "    print (\"输出格式错误\")"
   ]
  },
  {
   "cell_type": "markdown",
   "metadata": {},
   "source": [
    "### 2.1.5 调试测试\n",
    "**输入带华氏标志的温度值，程序运行结果如下**：\n",
    "```python\n",
    "请输入带有符号的温度值：82F\n",
    "转换后的温度是27.78C\n",
    "```\n",
    "\n",
    "**输入带摄氏标志的温度值，程序运行结果如下**：\n",
    "```python\n",
    "请输入带有符号的温度值：-30C\n",
    "转换后的温度是-22.00F\n",
    "```\n",
    "\n",
    "上述代码相对简单，当程序较为复杂时，很难保证一次编写后的程序能够直接正确运行或运行逻辑没有错误。甚至任何程序都会有错误，寻找错误的**调试过程**不容忽视。\n",
    "\n",
    "### 2.1.6 升级维护\n",
    "任何程序都有生命周期，促使程序生命结束的事件有很多，比如平台更换、使用方式变化和算法改进等。对于上述例子，只要中国、美国使用不同的温度标准，温度转换问题将一直存在。随着问题使用场景、输入和输出要求等因素的变化，程序将需要不断地维护和升级。\n",
    "\n",
    "## 2.2 Python程序语法元素分析\n",
    "### 2.2.1 程序的格式框架\n",
    "* **代码高亮**：编程的色彩辅助体系，不是语法要求。\n",
    "\n",
    "![wdzhdm](..\\picture\\wdzhdm.png)\n",
    "\n",
    "* **缩进**：缩进表明程序的格式框架，它指每一行代码开始前的空白区域，用来表示代码之间的包含和层次关系。不需要缩进的代码顶行编写，不留空白。缩进用**Tab**键实现。**一定要严格地使用缩进约束程序结构，从而维护代码结构的可读性**。![缩进](..\\picture\\wdzhsj.png)\n",
    "    * **单层缩进**：下图箭头表示`if`语句于后面语句之间单层缩进关系。![单层缩进](..\\picture\\wdzhdcsj.png)\n",
    "    * **多层缩进**：一个程序的缩进还可以“嵌套”从而形成多层缩进，下图表示了多层缩进关系。![多层缩进](..\\picture\\wdzhdcsj2.png)\n",
    "\n",
    "### 2.2.2 注释\n",
    "注释是程序员在代码中加入的一行或多行信息，用来对语句、函数、数据结构或方法等进行说明，提升代码的可读性。注释是辅助性文字，会被编译或解释器略去，不被计算机执行。Python语言有两种注释方法：\n",
    "* **单行注释**：以“`#`”开头，例如：\n",
    "```python\n",
    "print (pow(2, 10)) #计算2的10次方，单行注释可以从行的中间开始\n",
    "```\n",
    "* **多行注释**：以`'''`（3个单引号）开头和结尾，例如：\n",
    "```python\n",
    "'''\n",
    "print (pow(2, 10)) 此行是注释，不被计算机执行\n",
    "此行也是注释\n",
    "'''\n",
    "```\n",
    "\n",
    "注释的主要用途包括：\n",
    "* 标明作者和版权信息\n",
    "* 解释代码原理或用途\n",
    "* 辅助程序调试\n",
    "\n",
    "### 2.2.3 命名与保留字\n",
    "与数学概念类似，Python程序中也有“**变量**”的概念。\n",
    "\n",
    "* **变量**：用来保存和表示数据的占位符号。\n",
    "    * 变量采用标识符（名字）来表示，关联标识符的过程叫**命名**。`TempStr`是变量名字。\n",
    "    * 可以使用等号（`=`）向变量赋值或修改值，`=`被称为赋值符号，`TempStr = \"82F\"`表示向变量`TempStr`赋值`\"82F\"`。\n",
    "\n",
    "* **命名**：关联标识符的过程，用于保证程序元素的唯一性。\n",
    "    * **命名规则**：大小写字母、数字、下划线和汉字等字符及其组合。例如，`TempStr`、`Python_Great`和`这是门Python好课`等。\n",
    "    * **注意事项**：**大小写敏感**、**首字符不能是数字**、**中间不能出现空格**、**长度没有限制**、**不与保留字相同**，由于存在输入法切换、平台编码支持、跨平台兼容性等问题，从编程习惯和兼容性角度考虑，一般**不建议采用中文等非英语语言字符对变量命名**。\n",
    "\n",
    "* **保留字**：被编程语言内部定义并保留使用的标识符。\n",
    "    * **Python的33个保留字**：`False`、`def`、`if`、`raise`、`None`、`del`、`import`、`return`、`True`、`elif`、`in`、`try`、`and`、`else`、`is`、`while`、`as`、`except`、`lambda`、`with`、`assert`、`finally`、`nonlocal`、`yield`、`break`、`for`、`not`、`class`、`from`、`or`、`continue`、`global`和`pass`。\n",
    "    * 保留字是编程语言的基本单词，大小写敏感。`if`是保留字，`If`是变量。\n",
    "\n",
    "下图中**黑色**为经过命名操作后的变量，**黄色**为保留字。\n",
    "![blmmblz](..\\picture\\blmmblz.png)\n",
    "\n",
    "### 2.2.4 数据类型\n",
    "\n",
    ">**实例**：10,011,101该如何解释呢？\n",
    "\n",
    "* **数值**：作为数值有两种可能。\n",
    "    * **十进制**：10,011,101\n",
    "    * **二进制**：157的二进制表示\n",
    "* **文本**：作为文本，逗号是文本中的一部分，一共包含10个字符。\n",
    "\n",
    "**数据类型**：供计算机程序理解的数据形式。\n",
    "* 程序设计语言不允许存在语法歧义，需要定义数据的形式。\n",
    "    * 需要给10,011,101关联一种计算机可以理解的形式。\n",
    "* 程序设计语言通过一定方式向计算机表达数据的形式\n",
    "    * \"123\"表示文本字符串123，123则表示数字123。\n",
    "\n",
    "**10,011,101**经过数据类型可以定义为：\n",
    "* **整数类型**：`10011101`\n",
    "* **字符串类型**：`\"10,011,101\"`\n",
    "* **列表类型**：`[10, 011, 101]`\n",
    "\n",
    "这里我们简单介绍一下**实例1：温度转换所涉及的数据类型**，包括**字符串**、**整数**、**浮点数**和**列表**。\n",
    "\n",
    "![sjlx](..\\picture\\sjlx.png)\n",
    "\n",
    "#### 2.2.4.1 字符串\n",
    "**字符串**：由0个或多个字符组成的有序字符序列。\n",
    "\n",
    "![zfclz](..\\picture\\zfclz.png)\n",
    "\n",
    "* 字符串由一对单引号或一对双引号表示。\n",
    "    * `\"请输入带有符号的温度值：\"`或者`'C'`\n",
    "* 字符串是字符的有序序列，可以对其中的字符进行索引\n",
    "    * `\"请\"`是`\"请输入带有符号的温度值: \"`的第0个字符\n",
    "    \n",
    "**字符串的序号**包括两种**序号体系**：\n",
    "![zfcxh](..\\picture\\zfcxh.png)\n",
    "如果字符串长度为$L$，\n",
    "* **正向递增**：以最左侧字符序号为$0$，向右依次递增，最右侧字符序号为$L-1$。\n",
    "* **反向递减**：以最右侧字符序号为$-1$，向左一次递减，最左侧字符序号为$-L$。\n",
    "\n",
    "**字符串的使用**：使用`[]`获取字符串中一个或多个字符。\n",
    "* 索引：返回字符串中单个字符`<字符串>[M]`，例如`TempStr[-1]`。\n",
    "* 切片（区间）：返回字符串中一段字符子串`<字符串>[M: N]`，`[M: N]`表示字符串中从$M$到$N$（不包含$N$）的子字符串，其中$M$和$N$为字符串的索引序号，可以混合使用正向递增序号和反向递减序号。例如`TempStr[0: -1]`，表示字符串变量`TempStr`变量的第0哥字符开始到最后一个字符（但不包含最后一个字符）的子串。"
   ]
  },
  {
   "cell_type": "code",
   "execution_count": 2,
   "metadata": {},
   "outputs": [
    {
     "name": "stdout",
     "output_type": "stream",
     "text": [
      "C\n",
      "110\n"
     ]
    }
   ],
   "source": [
    "TempStr = \"110C\"\n",
    "print (TempStr[-1])\n",
    "print (TempStr[0: -1])"
   ]
  },
  {
   "cell_type": "markdown",
   "metadata": {},
   "source": [
    "#### 2.2.4.2 数字类型\n",
    "![zslx](..\\picture\\zslx.png)\n",
    "**数字类型**：整数和浮点数\n",
    "* **整数**：数学中的整数。32或者-89。\n",
    "* **浮点数**：数学中的实数，带有小数部分。1.8或者-1.8或者-1.0。\n",
    "\n",
    "#### 2.2.4.3 列表类型\n",
    "![liebiao](..\\picture\\liebiao.png)\n",
    "**列表类型**：由0个或多个数据组成的有序序列。\n",
    "* 列表使用`[]`表示，采用逗号`,`分隔各元素。`['F','f']`表示两个元素`'F'`和`'f'`。\n",
    "* 使用保留字`in`判断一个元素是否在列表中。`TempStr[-1] in ['C','c']`判断前者是否与列表中某个元素相同。\n",
    "\n",
    "### 2.2.5 语句与函数\n",
    "\n",
    "#### 2.2.5.1 赋值语句\n",
    "![fzyj](..\\picture\\fzyj.png)\n",
    "**赋值语句**：由赋值符号构成的一行代码。\n",
    "* 赋值语句用来给变量赋予新的数据值\n",
    "\n",
    "```python\n",
    "C=(eval(TempStr[0:-1])-32)/1.8 #右侧运算结果赋给变量C\n",
    "```\n",
    "* 赋值语句右侧的数据类型同时作用于变量\n",
    "\n",
    "```python\n",
    "TempStr=input(\"\") #input()返回一个字符串，TempStr也是字符串\n",
    "```\n",
    "\n",
    "#### 2.2.5.2 分支语句\n",
    "![fenzhi](..\\picture\\fenzhi.png)\n",
    "**分支语句**：由判断条件决定程序运行方向的语句，使用方式如下：\n",
    "```python\n",
    "if <条件1>:\n",
    "    <语句块1>\n",
    "elif <条件2>:\n",
    "    <语句块2>\n",
    "else:\n",
    "    <语块3>\n",
    "```\n",
    "* 使用保留字`if`、`elif`和`else`构成条件判断的分支结构。\n",
    "```python\n",
    "if TempStr[-1] in ['F','f']:  #如果条件为True则执行冒号后语句\n",
    "```\n",
    "* 每个保留字所在行最后存在一个冒号`:`，冒号及后续缩进用来表示后续语句与条件的所属关系。\n",
    "\n",
    "#### 2.2.5.3 函数\n",
    "![hslz](..\\picture\\hslz.png)\n",
    "**函数**：根据输入参数产生不同输出的功能过程。\n",
    "* 类似数学中的函数，$y = f(x)$。\n",
    "```python\n",
    "print (\"输入格式错误\")  #打印输出 \"输入格式错误\"\n",
    "```\n",
    "* 函数采用`<函数名>(<参数>)`方式使用。\n",
    "```python\n",
    "eval(TempStr[0:-1])  #TempStr[0:-1]是参数\n",
    "```\n",
    "\n",
    "### 2.2.6 Python程序的输入输出\n",
    "#### 2.2.6.1 `input()`函数\n",
    "![inpuths](..\\picture\\inpuths.png)\n",
    "**`input()`**：从控制台获得用户输入的函数。\n",
    "* `input()`函数的使用格式：\n",
    "```python\n",
    "<变量> = input(<提示信息字符串>)\n",
    "```\n",
    "* 用户输入的信息以字符串类型保存在<变量>中\n",
    "```python\n",
    "TempStr = input(“请输入”)  #TempStr保存用户输入的信息\n",
    "```\n",
    "\n",
    "**无论用户在控制台输入什么内容，`input()`函数都以字符串类型返回结果**。"
   ]
  },
  {
   "cell_type": "code",
   "execution_count": 3,
   "metadata": {},
   "outputs": [
    {
     "name": "stdout",
     "output_type": "stream",
     "text": [
      "请输入：python\n"
     ]
    },
    {
     "data": {
      "text/plain": [
       "'python'"
      ]
     },
     "execution_count": 3,
     "metadata": {},
     "output_type": "execute_result"
    }
   ],
   "source": [
    "input(\"请输入：\")"
   ]
  },
  {
   "cell_type": "code",
   "execution_count": 4,
   "metadata": {},
   "outputs": [
    {
     "name": "stdout",
     "output_type": "stream",
     "text": [
      "请输入：1024.256\n"
     ]
    },
    {
     "data": {
      "text/plain": [
       "'1024.256'"
      ]
     },
     "execution_count": 4,
     "metadata": {},
     "output_type": "execute_result"
    }
   ],
   "source": [
    "input(\"请输入：\")"
   ]
  },
  {
   "cell_type": "markdown",
   "metadata": {},
   "source": [
    "#### 2.2.6.2 `print()`函数\n",
    "![prinths](..\\picture\\prinths.png)\n",
    "**print()**：以字符形式向控制台输出结果的函数。\n",
    "* `print()`函数的基本使用格式。\n",
    "```python\n",
    "print (<拟输出字符串或字符串变量>)\n",
    "```\n",
    "* 字符串类型的一对引号仅在程序内部使用，输出无引号。\n",
    "```python\n",
    "print (\"输入格式错误\")  #向控制台输出 输入格式错误\n",
    "```\n",
    "* `print()`函数的**格式化**。\n",
    "\n",
    "![printgsh](..\\picture\\printgsh.png)"
   ]
  },
  {
   "cell_type": "code",
   "execution_count": 5,
   "metadata": {},
   "outputs": [
    {
     "name": "stdout",
     "output_type": "stream",
     "text": [
      "转换后的温度是10.00C\n",
      "转换后的温度是10.24C\n"
     ]
    }
   ],
   "source": [
    "C1, C2 = 10, 10.24024\n",
    "print (\"转换后的温度是{:.2f}C\".format(C1))\n",
    "print (\"转换后的温度是{:.2f}C\".format(C2))"
   ]
  },
  {
   "cell_type": "markdown",
   "metadata": {},
   "source": [
    "#### 2.2.6.3 `eval()`函数\n",
    "![evalhs](..\\picture\\evalhs.png)\n",
    "**eval()**：去掉参数最外侧引号并执行余下语句的函数。\n",
    "* `eval()`函数的基本使用格式：\n",
    "```python\n",
    "eval(<字符串或字符串变量>)\n",
    "```"
   ]
  },
  {
   "cell_type": "code",
   "execution_count": 6,
   "metadata": {},
   "outputs": [
    {
     "data": {
      "text/plain": [
       "1"
      ]
     },
     "execution_count": 6,
     "metadata": {},
     "output_type": "execute_result"
    }
   ],
   "source": [
    "eval(\"1\")"
   ]
  },
  {
   "cell_type": "code",
   "execution_count": 7,
   "metadata": {},
   "outputs": [
    {
     "data": {
      "text/plain": [
       "'1+2'"
      ]
     },
     "execution_count": 7,
     "metadata": {},
     "output_type": "execute_result"
    }
   ],
   "source": [
    "eval('\"1+2\"')"
   ]
  },
  {
   "cell_type": "code",
   "execution_count": 8,
   "metadata": {},
   "outputs": [
    {
     "data": {
      "text/plain": [
       "3"
      ]
     },
     "execution_count": 8,
     "metadata": {},
     "output_type": "execute_result"
    }
   ],
   "source": [
    "eval(\"1+2\")"
   ]
  },
  {
   "cell_type": "code",
   "execution_count": 9,
   "metadata": {},
   "outputs": [
    {
     "name": "stdout",
     "output_type": "stream",
     "text": [
      "Hello\n"
     ]
    }
   ],
   "source": [
    "eval('print (\"Hello\")')"
   ]
  },
  {
   "cell_type": "code",
   "execution_count": 10,
   "metadata": {},
   "outputs": [
    {
     "name": "stdout",
     "output_type": "stream",
     "text": [
      "请输入带有符号的温度值：12.3C\n"
     ]
    },
    {
     "data": {
      "text/plain": [
       "12.3"
      ]
     },
     "execution_count": 10,
     "metadata": {},
     "output_type": "execute_result"
    }
   ],
   "source": [
    "TempStr = input(\"请输入带有符号的温度值：\")\n",
    "eval(TempStr[0:-1])"
   ]
  },
  {
   "cell_type": "markdown",
   "metadata": {},
   "source": [
    "## 2.3 实例2：Python蟒蛇绘制\n",
    "### 2.3.1 程序代码"
   ]
  },
  {
   "cell_type": "code",
   "execution_count": 11,
   "metadata": {},
   "outputs": [],
   "source": [
    "import turtle\n",
    "turtle.setup(650, 350, 200, 200)\n",
    "turtle.penup()\n",
    "turtle.fd(-250)\n",
    "turtle.pendown()\n",
    "turtle.pensize(25)\n",
    "turtle.pencolor(\"purple\")\n",
    "turtle.seth(-40)\n",
    "for i in range(4):\n",
    "    turtle.circle(40, 80)\n",
    "    turtle.circle(-40, 80)\n",
    "turtle.circle(40, 80/2)\n",
    "turtle.fd(40)\n",
    "turtle.circle(16, 180)\n",
    "turtle.fd(40 * 2/3)\n",
    "turtle.done()"
   ]
  },
  {
   "cell_type": "markdown",
   "metadata": {},
   "source": [
    "**与实例1相比有明显的区别**：\n",
    "* 没有使用显式的用户输入输出，即没有`input()`和`print()`函数。\n",
    "* 绝大多数代码行都是`<a>.<b>`形式，代码行中没有赋值语句。\n",
    "* `<a>.<b>`是Python编程的一种典型表达式，表示调用一个**对象**`<a>`的方法`<b>()`，也可以表示调用一个函数库`<a>`中的函数`<b>()`。\n",
    "\n",
    "### 2.3.2 面向对象编程\n",
    "* 面向对象编程（Object-Oriented Programming，OOP）是一种基于对象（Object）的编程范式。\n",
    "* 对象是事物的一种抽象，它是一个实体，包含属性和方法两部分。\n",
    "* 属性是对象中的变量，方法是对象能够完成的操作。\n",
    "\n",
    "**可以简单地把对象理解为C语言中结构体（`struct`）的升级版**。\n",
    "\n",
    ">**实例**：假设对象是`O`，则`O.a`表示对象`O`的属性`a`，`O.b()`表示对象`O`的操作`b()`，其中`a`是一个变量值，`b()`是一个函数。例如，一辆汽车可以作为一个对象，标记为`C`，汽车的颜色是汽车的属性，表示为`C.color`，前进是汽车的一个动作，相当于一个功能，因此前进是对象`C`的方法，表示为`O.forward()`。\n",
    "\n",
    "## 2.4 turtle库的使用\n",
    "### 2.4.1 turtle库基本介绍\n",
    "* turtle（海龟）图形绘制的概念诞生于1969年，并成功应用于LOGO编程语言，主要用于程序设计入门。\n",
    "\n",
    "![logodos](..\\picture\\logodos.png)\n",
    "\n",
    "* turtle库是turtle绘图体系的Python实现，Python语言的**标准库**之一，入门级的图形绘制函数库。\n",
    "\n",
    "* Python计算生态 = **标准库** + **第三方库**。\n",
    "    * 标准库：随解释器直接安装到操作系统中的功能模块。\n",
    "    * 第三方库：需要经过安装才能使用的功能模块。\n",
    "    * 库Library、包Package、模块Module，统称模块。\n",
    "\n",
    "* turtle的原理：turtle（海龟）是一种真实的存在。\n",
    "    * 有一只海龟，其实在窗体正中心，在画布上游走。\n",
    "    * 走过的轨迹形成了绘制的图形。\n",
    "    * 海龟由程序控制，可以变换颜色、改变宽度等。\n",
    "\n",
    "* turtle的玩法很多，比如制作Logo、表情包等等，很适合Python程序设计入门。\n",
    "\n",
    "![turtlebqb](..\\picture\\turtlebqb.png)\n",
    "\n",
    "**“冰墩墩&雪融融”turtle绘制比赛**，请大家打开企业微信，扫描下方二维码查看比赛详情，欢迎大家踊跃报名！！！\n",
    "\n",
    "![bisaiewm](..\\picture\\bisaiewm.png)\n",
    "\n",
    "### 2.4.2 turtle的绘图窗体\n",
    "* turtle的绘图窗体相当于是一块画布。\n",
    "\n",
    "![cthb](..\\picture\\cthb.png)\n",
    "\n",
    "* 使用`turtle.setup(width, height, startx, starty)`函数来确定窗体和屏幕坐标系之间的关系。\n",
    "    * `setup()`设置窗体大小及位置。\n",
    "        * width：窗口宽度。如果是整数，表示像素值。如果是小数，表示窗口宽度与屏幕的比例。\n",
    "        * height：窗口高度。如果是整数，表示像素值。如果是小数，表示窗口高度与屏幕的比例。\n",
    "        * startx：窗口左侧与屏幕左侧的像素距离，如果值是`None`，窗口位于屏幕水平中央。\n",
    "        * starty：窗口顶部与屏幕顶部的像素距离，如果值是`None`，窗口位于屏幕垂直中央。\n",
    "    * 4个参数中后两个可选，即可以不写。\n",
    "    * `setup()`不是必须的。\n",
    "\n",
    "![pmzbx](..\\picture\\pmzbx.png)\n",
    "\n",
    "* `setup()`函数后两个参数**指定**与**缺省**之间的对比：\n",
    "\n",
    "![qscsdb](..\\picture\\qscsdb.png)\n",
    "\n",
    "### 2.4.3 turtle空间坐标体系\n",
    "* **绝对坐标**：使用`turtle.goto(x, y)`。\n",
    "\n",
    "![jdzb](..\\picture\\jdzb.png)\n",
    "\n",
    "**请运行下面的代码**："
   ]
  },
  {
   "cell_type": "code",
   "execution_count": 13,
   "metadata": {},
   "outputs": [],
   "source": [
    "import turtle\n",
    "turtle.goto(100, 100)\n",
    "turtle.goto(100,-100)\n",
    "turtle.goto(-100,-100)\n",
    "turtle.goto(-100, 100)\n",
    "turtle.goto(0,0)\n",
    "turtle.done()"
   ]
  },
  {
   "cell_type": "markdown",
   "metadata": {},
   "source": [
    "**运行结果如下**：\n",
    "![jdzbxyxjg](..\\picture\\jdzbxyxjg.png)\n",
    "\n",
    "* **海龟坐标**：把当前点当做坐标，有前方向，后方向，左方向，右方向。\n",
    "    * `turtle.fd(d)`：沿着海龟的前方向运动`d`个像素。\n",
    "    * `turtle.bk(d)`：沿着海龟的反方向运动`d`个像素。\n",
    "    * `turtle.circle(r, angle)`：沿着海龟左侧的某一点做圆运动，`r`为半径，`angle`为角度。\n",
    "\n",
    "![fxxx](..\\picture\\fxxx.png)\n",
    "![ydfs3](..\\picture\\ydfs3.png)"
   ]
  },
  {
   "cell_type": "code",
   "execution_count": null,
   "metadata": {},
   "outputs": [],
   "source": [
    "import turtle\n",
    "turtle.fd(100)\n",
    "turtle.done()"
   ]
  },
  {
   "cell_type": "code",
   "execution_count": null,
   "metadata": {},
   "outputs": [],
   "source": [
    "import turtle\n",
    "turtle.bk(100)\n",
    "turtle.done()"
   ]
  },
  {
   "cell_type": "code",
   "execution_count": null,
   "metadata": {},
   "outputs": [],
   "source": [
    "import turtle\n",
    "turtle.circle(50, 90)\n",
    "turtle.done()"
   ]
  },
  {
   "cell_type": "markdown",
   "metadata": {},
   "source": [
    "### 2.4.4 turtle角度坐标系\n",
    "* **绝对角度**：使用`turtle.seth(angle)`，只改变海龟的行进方向（角度按照**逆时针**计算），不行进，`angle`为绝对度数。\n",
    "\n",
    "![jdjd](..\\picture\\jdjd.png)\n",
    "\n",
    "* 实例：45度"
   ]
  },
  {
   "cell_type": "code",
   "execution_count": null,
   "metadata": {},
   "outputs": [],
   "source": [
    "import turtle\n",
    "turtle.seth(45)\n",
    "turtle.done()"
   ]
  },
  {
   "cell_type": "markdown",
   "metadata": {},
   "source": [
    "* 实例：-135度"
   ]
  },
  {
   "cell_type": "code",
   "execution_count": null,
   "metadata": {},
   "outputs": [],
   "source": [
    "import turtle\n",
    "turtle.seth(-135)\n",
    "turtle.done()"
   ]
  },
  {
   "cell_type": "markdown",
   "metadata": {},
   "source": [
    "* **海龟角度**：以海龟当前状态为基准，调整海龟朝向的角度。\n",
    "    * `turtle.left(angle)`：向左旋转。\n",
    "    * `turtle.right(angle)`：向右旋转。\n",
    "\n",
    "![hgjdxz](..\\picture\\hgjdxz.png)"
   ]
  },
  {
   "cell_type": "code",
   "execution_count": null,
   "metadata": {},
   "outputs": [],
   "source": [
    "import turtle\n",
    "turtle.left(45)\n",
    "turtle.fd(150)\n",
    "turtle.right(135)\n",
    "turtle.fd(300)\n",
    "turtle.left(135)\n",
    "turtle.fd(150)\n",
    "turtle.done()"
   ]
  },
  {
   "cell_type": "markdown",
   "metadata": {},
   "source": [
    "![hgxzjdsl](..\\picture\\hgxzjdsl.png)"
   ]
  },
  {
   "cell_type": "markdown",
   "metadata": {},
   "source": [
    "### 2.4.5 turtle的RGB色彩模式\n",
    "* **RGB色彩模式**：由三种颜色构成的万物色。\n",
    "    * RGB指红蓝绿三个通道的颜色组合。\n",
    "    * 覆盖视力所能感知的所有颜色。\n",
    "    * RGB每色取值范围0-255整数或0-1小数。\n",
    "* **常用RGB色彩**：\n",
    "\n",
    "|英文名称|RGB整数值|RGB小数值|中文名称|\n",
    "|:-:|:-:|:-:|:-:|\n",
    "|white|255,255,255|1,1,1|白色|\n",
    "|yellow|255,255,0|1,1,0|黄色|\n",
    "|magenta|255,0,255|1,0,1|洋红|\n",
    "|cyan|0,255,255|0,1,1|青色|\n",
    "|blue|0,0,255|0,0,1|蓝色|\n",
    "|black|0,0,0|0,0,0|黑色|\n",
    "|seashell|255,245,238|1,0.96,0.93|海贝色|\n",
    "|gold|255,215,0|1,0.84,0|金色|\n",
    "|pink|255,192,203|1,0.75,0.80|粉红色|\n",
    "|brown|165,42,42|0.65,0.16,0.16|棕色|\n",
    "|purple|160,32,240|0.63,0.13,0.94|紫色|\n",
    "|tomato|255,99,71|1,0.39,0.28|番茄色|\n",
    "\n",
    "* `turtle.colormode(mode)`：设置turtle的RGB色彩模式。\n",
    "    * mode的值为1.0：RGB小数值模式。\n",
    "    * mode的值为255：RGB整数值模式。"
   ]
  },
  {
   "cell_type": "markdown",
   "metadata": {},
   "source": [
    "## 2.5 turtle程序语法元素分析\n",
    "\n",
    "### 2.5.1 库引用与import\n",
    "![importlz](..\\picture\\importlz.png)\n",
    "\n",
    "**库引用**：扩充Python程序功能的方式，可以通过下面两种形式实现**：\n",
    "\n",
    "* 使用import保留字完成，采用`<a>.<b>()`编码风格。 \n",
    "    ```python\n",
    "    import <库名> \n",
    "    <库名>.<函数名>(<函数参数>)  #调用库函数的形式\n",
    "    ```\n",
    "* 使用from和import保留字共同完成。\n",
    "    ```python\n",
    "    from <库名> import <函数名,函数名,...,函数名> \n",
    "    from <库名> import *  #其中*是通配符，表示所有函数\n",
    "    <函数名>(<函数参数>)  #调用库函数的形式\n",
    "    ```\n",
    "\n",
    "**两种方法的对比如下图**：\n",
    "\n",
    "![importdb](..\\picture\\importdb.png)\n",
    "\n",
    ">**注意事项**：第一种方法不会出现函数重名问题，第二种方法则会出现。\n",
    "\n",
    "* 使用`import`和`as`保留字共同完成。\n",
    "    ```python\n",
    "    import <库名> as <库别名>\n",
    "    <库别名>.<函数名>(<函数参数>)  #调用库函数的形式\n",
    "    ```\n",
    "\n",
    "**给调用的外部库关联一个更短、更适合自己的名字**。\n",
    "\n",
    "![importbm](..\\picture\\importbm.png)\n",
    "\n",
    "### 2.5.2 turtle画笔控制函数\n",
    "![hbkzhs](..\\picture\\hbkzhs.png)\n",
    "\n",
    "* **画笔操作后一直有效，一般成对出现**。\n",
    "    * `turtle.penup()`，别名`turtle.pu()`，“**抬起画笔，海龟在飞行**”。\n",
    "    * `turtle.pendown()`，别名`turtle.pd()`，“**落下画笔，海龟在爬行**”。\n",
    "* **画笔设置后一直有效，直至下次重新设置**。\n",
    "    * `turtle.pensize(width)`，别名`turtle.width(width)`，“**画笔宽度，海龟的腰围**”。\n",
    "    * `turtle.pencolor(color)`，`color`为颜色字符串或r,g,b值，“**画笔颜色，海龟在涂装**”。\n",
    "* `pencolor(color)`的`color`参数可以有三种形式：\n",
    "    * 颜色字符串：`turtle.pencolor(\"purple\")`。\n",
    "    * RGB的小数值：`turtle.pencolor(0.63, 0.13, 0.94)`。\n",
    "    * RGB的元组值：`turtle.pencolor((0.63,0.13,0.94))`。\n",
    "\n",
    "### 2.5.3 turtle运动控制函数\n",
    "![ydkzhs](..\\picture\\ydkzhs.png)\n",
    "\n",
    "* **控制海龟走直线**：\n",
    "    * `turtle.forward(d)`，别名`turtle.fd(d)`，向前行进，海龟走直线。\n",
    "    * `d`：行进距离，可以为负数。\n",
    "* **控制海龟走曲线**：\n",
    "    * `turtle.circle(r, extent=None)`，根据半径`r`绘制`extent`角度的弧形。\n",
    "    * `r`：默认圆心在海龟左侧`r`距离的位置。\n",
    "    * `extent`：绘制角度，默认是360度整圆。"
   ]
  },
  {
   "cell_type": "code",
   "execution_count": null,
   "metadata": {},
   "outputs": [],
   "source": [
    "import turtle\n",
    "turtle.circle(100)\n",
    "turtle.done()"
   ]
  },
  {
   "cell_type": "code",
   "execution_count": null,
   "metadata": {},
   "outputs": [],
   "source": [
    "import turtle\n",
    "turtle.circle(-100, 90)\n",
    "turtle.done()"
   ]
  },
  {
   "cell_type": "markdown",
   "metadata": {},
   "source": [
    "### 2.5.4 方向控制函数\n",
    "![ydkzhs](..\\picture\\ydkzhs.png)\n",
    "* **控制海龟面对方向**：绝对角度\n",
    "    * `turtle.setheading(angle)`，别名`turtle.seth(angle)`，改变行进方向，海龟走角度。\n",
    "    * `angle`：行进方向的绝对角度。"
   ]
  },
  {
   "cell_type": "code",
   "execution_count": null,
   "metadata": {},
   "outputs": [],
   "source": [
    "import turtle\n",
    "turtle.seth(45)\n",
    "turtle.done()"
   ]
  },
  {
   "cell_type": "code",
   "execution_count": null,
   "metadata": {},
   "outputs": [],
   "source": [
    "import turtle\n",
    "turtle.seth(-135)\n",
    "turtle.done()"
   ]
  },
  {
   "cell_type": "markdown",
   "metadata": {},
   "source": [
    "* **控制海龟面对方向**：海龟角度\n",
    "    * `turtle.left(angle)`：海龟向左转angle度。\n",
    "    * `turtle.right(angle)`：海龟向右转angle度。\n",
    "    * `angle`：在海龟当前行进方向上旋转的角度。\n",
    "\n",
    "### 2.5.5 循环语句与`range()`函数\n",
    "![xhyjrange](..\\picture\\xhyjrange.png)\n",
    "\n",
    "* **循环语句**：按照一定次数循环执行一组语句。\n",
    "```python\n",
    "for <变量> in range(<次数>):\n",
    "    <被循环执行的语句>\n",
    "```\n",
    "    * <变量>表示每次循环的计数，0到<次数>-1。"
   ]
  },
  {
   "cell_type": "code",
   "execution_count": 15,
   "metadata": {},
   "outputs": [
    {
     "name": "stdout",
     "output_type": "stream",
     "text": [
      "0\n",
      "1\n",
      "2\n",
      "3\n",
      "4\n"
     ]
    }
   ],
   "source": [
    "for i in range(5):\n",
    "    print (i)"
   ]
  },
  {
   "cell_type": "code",
   "execution_count": 16,
   "metadata": {},
   "outputs": [
    {
     "name": "stdout",
     "output_type": "stream",
     "text": [
      "Hello: 0\n",
      "Hello: 1\n",
      "Hello: 2\n",
      "Hello: 3\n",
      "Hello: 4\n"
     ]
    }
   ],
   "source": [
    "for i in range(5):\n",
    "    print (\"Hello:\", i)"
   ]
  },
  {
   "cell_type": "markdown",
   "metadata": {},
   "source": [
    "* **`range()`函数**：产生循环计数序列。\n",
    "    * `range(N)`：产生`0`到`N-1`的整数序列，共`N`个。\n",
    "    * `range(M,N)`：产生`M`到`N-1`的整数序列，共`N-M`个。\n",
    "\n",
    ">实例：`range(5)`对应“0, 1, 2, 3, 4”。\n",
    "\n",
    ">实例：`range(2, 5)`对应“2, 3, 4”。"
   ]
  },
  {
   "cell_type": "markdown",
   "metadata": {},
   "source": [
    "## 2.6 “Python蟒蛇绘制”代码分析"
   ]
  },
  {
   "cell_type": "code",
   "execution_count": null,
   "metadata": {},
   "outputs": [],
   "source": [
    "import turtle\n",
    "turtle.setup(650, 350, 200, 200)\n",
    "turtle.penup()\n",
    "turtle.fd(-250)\n",
    "turtle.pendown()\n",
    "turtle.pensize(25)\n",
    "turtle.pencolor(\"purple\")\n",
    "turtle.seth(-40)\n",
    "turtle.done()"
   ]
  },
  {
   "cell_type": "markdown",
   "metadata": {},
   "source": [
    "![mshzdm1](..\\picture\\mshzdm1.png)"
   ]
  },
  {
   "cell_type": "code",
   "execution_count": null,
   "metadata": {},
   "outputs": [],
   "source": [
    "import turtle\n",
    "turtle.setup(650, 350, 200, 200)\n",
    "turtle.penup()\n",
    "turtle.fd(-250)\n",
    "turtle.pendown()\n",
    "turtle.pensize(25)\n",
    "turtle.pencolor(\"purple\")\n",
    "turtle.seth(-40)\n",
    "for i in range(4):\n",
    "    turtle.circle(40, 80)\n",
    "    turtle.circle(-40, 80)\n",
    "turtle.done()"
   ]
  },
  {
   "cell_type": "markdown",
   "metadata": {},
   "source": [
    "![mshzdm2](..\\picture\\mshzdm2.png)"
   ]
  },
  {
   "cell_type": "code",
   "execution_count": null,
   "metadata": {},
   "outputs": [],
   "source": [
    "import turtle\n",
    "turtle.setup(650, 350, 200, 200)\n",
    "turtle.penup()\n",
    "turtle.fd(-250)\n",
    "turtle.pendown()\n",
    "turtle.pensize(25)\n",
    "turtle.pencolor(\"purple\")\n",
    "turtle.seth(-40)\n",
    "for i in range(4):\n",
    "    turtle.circle(40, 80)\n",
    "    turtle.circle(-40, 80)\n",
    "turtle.circle(40, 80/2)\n",
    "turtle.fd(40)\n",
    "turtle.done()"
   ]
  },
  {
   "cell_type": "markdown",
   "metadata": {},
   "source": [
    "![mshzdm3](..\\picture\\mshzdm3.png)"
   ]
  },
  {
   "cell_type": "code",
   "execution_count": null,
   "metadata": {},
   "outputs": [],
   "source": [
    "import turtle\n",
    "turtle.setup(650, 350, 200, 200)\n",
    "turtle.penup()\n",
    "turtle.fd(-250)\n",
    "turtle.pendown()\n",
    "turtle.pensize(25)\n",
    "turtle.pencolor(\"purple\")\n",
    "turtle.seth(-40)\n",
    "for i in range(4):\n",
    "    turtle.circle(40, 80)\n",
    "    turtle.circle(-40, 80)\n",
    "turtle.circle(40, 80/2)\n",
    "turtle.fd(40)\n",
    "turtle.circle(16, 180)\n",
    "turtle.fd(40 * 2/3)\n",
    "turtle.done()"
   ]
  },
  {
   "cell_type": "markdown",
   "metadata": {},
   "source": [
    "![mshzdm4](..\\picture\\mshzdm4.png)"
   ]
  }
 ],
 "metadata": {
  "kernelspec": {
   "display_name": "Python 3",
   "language": "python",
   "name": "python3"
  },
  "language_info": {
   "codemirror_mode": {
    "name": "ipython",
    "version": 3
   },
   "file_extension": ".py",
   "mimetype": "text/x-python",
   "name": "python",
   "nbconvert_exporter": "python",
   "pygments_lexer": "ipython3",
   "version": "3.7.0"
  }
 },
 "nbformat": 4,
 "nbformat_minor": 2
}
