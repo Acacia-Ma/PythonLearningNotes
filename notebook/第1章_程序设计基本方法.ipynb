{
 "cells": [
  {
   "cell_type": "markdown",
   "metadata": {},
   "source": [
    "# 1. 程序设计基本方法\n",
    "## 1.1 程序设计语言\n",
    "### 1.1.1 程序设计语言的类型\n",
    "程序设计语言包括三个大类：\n",
    "* 机器语言：机器语言是一种二进制语言，它直接使用二进制代码表达指令，是计算机硬件可以直接识别和执行的程序设计语言。\n",
    "* 汇编语言：使用助记符与机器语言中的指令进行一一对应，在计算机发展早期能帮助程序员提高编程效率。**机器语言和汇编语言统称为低级语言**。\n",
    "* 高级语言：高级语言是接近自然语言的一种计算机程序设计语言，可以更容易地描述计算问题并利用计算机解决计算问题。\n",
    "\n",
    ">**实例：计算2+3并保存结果**\n",
    "* 机器语言：16位计算机上的机器指令为：`1101001000111011`，不同计算机结构的机器指令不同。\n",
    "* 汇编语言：`add 2, 3, result`\n",
    "* 高级语言：`result = 2 + 3`\n",
    "\n",
    "### 1.1.2 程序设计语言的功能\n",
    "自1972年C语言诞生后，至今已出现了600多种程序设计语言，常见的包括C、C++、C#、Go、HTML、Java、JavaScript、PHP、Python、SQL、Verilog等。**通用编程语言**比**专用编程语言**生命力更强。\n",
    "\n",
    "* C、C++、C#、Go、Java、Python：用于编写各种类型的应用，语言的语法中没有专门用于特定应用的程序元素。\n",
    "* HTML：Web页面超链接语言。\n",
    "* MATLAB：基于矩阵运算的科学计算语言。\n",
    "* PHP：Web服务器端动态脚本语言。\n",
    "* SQL：数据库操作语言。\n",
    "* Verilog：硬件描述语言。\n",
    "\n",
    "### 1.1.3 编译和解释\n",
    "高级语言按照计算机执行方式不同可分成两类：\n",
    "\n",
    "* 静态语言：编译执行。\n",
    "* 脚本语言：解释执行。\n",
    "\n",
    "编译是将源代码转换成目标代码的过程，通常源代码是高级语言代码，目标代码是机器语言代码，执行编译的计算机程序成为编译器（Compiler）。\n",
    "![bianyi](..\\picture\\bianyi.png)\n",
    "\n",
    ">**实例：C语言.c文件到可执行文件.exe的过程**\n",
    "![c2exe](..\\picture\\c2exe.png)\n",
    "\n",
    "解释是将源代码逐条转换成目标代码，同时逐条运行目标代码的过程，执行解释的计算机程序称为解释器（Interpreter）。\n",
    "\n",
    "![jieshi](..\\picture\\jieshi.png)\n",
    "\n",
    "编译与解释的区别：\n",
    "* 编译（**外语资料的翻译**）：编译是一次性地翻译，一旦程序被编译，不在需要编译程序或者源代码。\n",
    "* 解释（**实时的同声传译**）：在每次程序运行时都需要解释器和源代码。\n",
    "\n",
    "采用编译方式的好处如下：\n",
    "* 对于相同源代码，编译所产生的目标代码执行速度更快。\n",
    "* 目标代码不需要编译器就可以运行，再同类型操作系统上使用灵活。\n",
    "\n",
    "采用解释方式的好处如下：\n",
    "* 解释执行需要保留源代码，程序纠错和维护十分方便。\n",
    "* 只要存在解释器，源代码可以再任何操作系统上运行，可移植性好。\n",
    "\n",
    "## 1.2 计算机编程\n",
    "### 1.2.1 程序的基本构成\n",
    "程序的主要构成要素包括输入、处理和输出，简称IPO。\n",
    "* I（Input）：输入是一个程序的开始。\n",
    "    + 文件输入\n",
    "    + 网络输入\n",
    "    + 控制台输入\n",
    "    + 交互界面输入\n",
    "    + 内部参数输入\n",
    "    + ......\n",
    "* P（Process）：处理是程序对输入数据进行计算产生输出结果的过程。\n",
    "    + 处理方法统称为算法，他是程序最重要的部分。\n",
    "    + 算法是一个程序的灵魂。\n",
    "* O（Output）：输出是程序展示运算结果的方式。\n",
    "    + 控制台输出\n",
    "    + 图形输出\n",
    "    + 文件输出\n",
    "    + 网络输出\n",
    "    + 操作系统内部变量输出\n",
    "    + ......\n",
    "\n",
    "### 1.2.2 编程解决问题的步骤\n",
    "* 分析问题：分析问题的计算部分，**想清楚**。\n",
    "* 划分边界：划分问题的功能边界，**规划IPO**。\n",
    "* 设计算法：设计问题的求解算法，**关注算法**。\n",
    "* 编写程序：编写问题的计算程序，**编程序**。\n",
    "* 调试测试：调试程序使正确运行，**运行调试**。\n",
    "* 升级维护：适应问题的升级维护，**更新完善**。\n",
    "\n",
    "## 1.3 Python语言概述\n",
    "### 1.3.1 编写Hello World程序\n",
    "**Python版的“Hello World”**："
   ]
  },
  {
   "cell_type": "code",
   "execution_count": 1,
   "metadata": {},
   "outputs": [
    {
     "name": "stdout",
     "output_type": "stream",
     "text": [
      "Hello World!\n"
     ]
    }
   ],
   "source": [
    "print (\"Hello World!\")"
   ]
  },
  {
   "cell_type": "markdown",
   "metadata": {},
   "source": [
    "**C语言版的“Hello World”**：\n",
    "\n",
    "```c\n",
    "#include<stdio.h>\n",
    "int main()\n",
    "{\n",
    "    printf(\"Hello World\\n\");\n",
    "    return 0;\n",
    "}\n",
    "```\n",
    "Python只用了一行就实现了这个功能，通过对比可以发现Python的简洁性在编程语言领域是公认的。相同功能的程序，Python语言实现的代码行数仅相当于C语言的**1/10—1/5**。**更少的代码行数、更简洁的表达方式将带来更少的程序错误、更快的程序开发速度和更好的可读性**。\n",
    "\n",
    "### 1.3.2 运行Python程序实例\n",
    "\n",
    "1. 圆面积的计算"
   ]
  },
  {
   "cell_type": "code",
   "execution_count": 2,
   "metadata": {},
   "outputs": [
    {
     "name": "stdout",
     "output_type": "stream",
     "text": [
      "1963.4375000000002\n",
      "1963.44\n"
     ]
    }
   ],
   "source": [
    "radius = 25\n",
    "area = 3.1415 * radius * radius\n",
    "print (area)\n",
    "print (\"{:.2f}\".format(area))"
   ]
  },
  {
   "cell_type": "markdown",
   "metadata": {},
   "source": [
    "2. 简单的人名对话"
   ]
  },
  {
   "cell_type": "code",
   "execution_count": 4,
   "metadata": {},
   "outputs": [
    {
     "name": "stdout",
     "output_type": "stream",
     "text": [
      "输入姓名:郭靖\n",
      "郭靖同学，学好Python，前途无量！\n",
      "郭大侠，学好Python，大展拳脚! \n",
      "靖哥哥，学好Python，人见人爱！\n"
     ]
    }
   ],
   "source": [
    "name = input(\"输入姓名:\")\n",
    "print (\"{}同学，学好Python，前途无量！\".format(name))\n",
    "print (\"{}大侠，学好Python，大展拳脚! \".format(name[0]))\n",
    "print (\"{}哥哥，学好Python，人见人爱！\".format(name[1:]))"
   ]
  },
  {
   "cell_type": "markdown",
   "metadata": {},
   "source": [
    "3. 斐波那契数列\n",
    "\n",
    "斐波那契数列（Fibonacci Sequence），又称黄金分割数列，由意大利数学家Leonardo Fibonacci于1202年提出，该数列$F(n)$定义如下：$F(0) = 0$，$F(1) = 1$，$F(n) = F(n - 2) + F(n - 1)$，其中$n \\geqslant 2$。"
   ]
  },
  {
   "cell_type": "code",
   "execution_count": 6,
   "metadata": {},
   "outputs": [
    {
     "name": "stdout",
     "output_type": "stream",
     "text": [
      "0,1,1,2,3,5,8,13,21,34,55,89,144,233,377,610,987,"
     ]
    }
   ],
   "source": [
    "a, b = 0, 1\n",
    "while a < 1000:\n",
    "    print (a, end = ',')\n",
    "    a, b = b, a + b"
   ]
  },
  {
   "cell_type": "markdown",
   "metadata": {},
   "source": [
    "4. 同切圆的绘制"
   ]
  },
  {
   "cell_type": "code",
   "execution_count": 7,
   "metadata": {},
   "outputs": [],
   "source": [
    "import turtle\n",
    "turtle.pensize(2)\n",
    "turtle.circle(10)\n",
    "turtle.circle(40)\n",
    "turtle.circle(80)\n",
    "turtle.circle(160)\n",
    "turtle.done()"
   ]
  },
  {
   "cell_type": "markdown",
   "metadata": {},
   "source": [
    "5. 日期和时间的输出"
   ]
  },
  {
   "cell_type": "code",
   "execution_count": 8,
   "metadata": {},
   "outputs": [
    {
     "name": "stdout",
     "output_type": "stream",
     "text": [
      "2022-04-11\n",
      "22:28:13.634422\n"
     ]
    }
   ],
   "source": [
    "# 引用datetime库\n",
    "from datetime import datetime\n",
    "\n",
    "#获得当前日期和时间信息\n",
    "now = datetime.now()\n",
    "\n",
    "#输出其中的日期部分\n",
    "print (now.date())\n",
    "\n",
    "#输出其中的时间部分\n",
    "print (now.time())"
   ]
  },
  {
   "cell_type": "markdown",
   "metadata": {},
   "source": [
    "## 1.4 程序练习\n",
    "1. 字符串拼接。接收用户输入的两个字符串，将它们组合后输出。"
   ]
  },
  {
   "cell_type": "code",
   "execution_count": 9,
   "metadata": {},
   "outputs": [
    {
     "name": "stdout",
     "output_type": "stream",
     "text": [
      "请输入一个人的名字：张三\n",
      "请输入一个国家名字：中国\n",
      "世界这么大，张三想去中国看看。\n"
     ]
    }
   ],
   "source": [
    "str1 = input(\"请输入一个人的名字：\")\n",
    "str2 = input(\"请输入一个国家名字：\")\n",
    "print (\"世界这么大，{}想去{}看看。\".format(str1, str2))"
   ]
  },
  {
   "cell_type": "markdown",
   "metadata": {},
   "source": [
    "2. 整数序列求和。用户输入一个正整数$N$，计算从$1$到$N$（包含$1$和$N$）相加之后的结果。"
   ]
  },
  {
   "cell_type": "code",
   "execution_count": 10,
   "metadata": {},
   "outputs": [
    {
     "name": "stdout",
     "output_type": "stream",
     "text": [
      "请输入整数N：10\n",
      "1到N求和结果： 55\n"
     ]
    }
   ],
   "source": [
    "n = input(\"请输入整数N：\")\n",
    "sum = 0\n",
    "for i in range(1, int(n)+1):\n",
    "    sum = sum + i\n",
    "print (\"1到N求和结果：\", sum)"
   ]
  },
  {
   "cell_type": "markdown",
   "metadata": {},
   "source": [
    "3. 九九乘法表输出。工整打印输出常用的九九乘法表，格式不限。"
   ]
  },
  {
   "cell_type": "code",
   "execution_count": 11,
   "metadata": {},
   "outputs": [
    {
     "name": "stdout",
     "output_type": "stream",
     "text": [
      "1*1= 1   \n",
      "1*2= 2  2*2= 4   \n",
      "1*3= 3  2*3= 6  3*3= 9   \n",
      "1*4= 4  2*4= 8  3*4=12  4*4=16   \n",
      "1*5= 5  2*5=10  3*5=15  4*5=20  5*5=25   \n",
      "1*6= 6  2*6=12  3*6=18  4*6=24  5*6=30  6*6=36   \n",
      "1*7= 7  2*7=14  3*7=21  4*7=28  5*7=35  6*7=42  7*7=49   \n",
      "1*8= 8  2*8=16  3*8=24  4*8=32  5*8=40  6*8=48  7*8=56  8*8=64   \n",
      "1*9= 9  2*9=18  3*9=27  4*9=36  5*9=45  6*9=54  7*9=63  8*9=72  9*9=81   \n"
     ]
    }
   ],
   "source": [
    "for i in range(1, 10):\n",
    "    for j in range(1, i+1):\n",
    "        print (\"{}*{}={:2} \".format(j, i, i*j), end = ' ')\n",
    "    print (' ')"
   ]
  },
  {
   "cell_type": "markdown",
   "metadata": {},
   "source": [
    "4. 计算$1+2!+3!+\\cdots+10!$的结果。"
   ]
  },
  {
   "cell_type": "code",
   "execution_count": 13,
   "metadata": {},
   "outputs": [
    {
     "name": "stdout",
     "output_type": "stream",
     "text": [
      "运算结果是：4037913\n"
     ]
    }
   ],
   "source": [
    "sum, tmp = 0, 1\n",
    "for i in range(1, 11):\n",
    "    tmp = tmp * i\n",
    "    sum = sum + tmp\n",
    "print (\"运算结果是：{}\".format(sum))"
   ]
  },
  {
   "cell_type": "markdown",
   "metadata": {},
   "source": [
    "5. 猴子吃桃问题。猴子第一天摘下若干个桃子，当即吃了一半，还不过瘾，又多吃了一个；第二天早上又将剩下的桃子吃掉一半，又多吃了一个。以后每天早上都吃了前一天剩下的一半多一个。到第五天早上想再吃时，见只剩下一个桃子了。请编写程序计算猴子第一天共摘了多少桃子。"
   ]
  },
  {
   "cell_type": "code",
   "execution_count": 14,
   "metadata": {},
   "outputs": [
    {
     "name": "stdout",
     "output_type": "stream",
     "text": [
      "94\n"
     ]
    }
   ],
   "source": [
    "n = 1\n",
    "for i in range(5, 0, -1):\n",
    "    n = (n + 1) << 1\n",
    "print (n)"
   ]
  },
  {
   "cell_type": "markdown",
   "metadata": {},
   "source": [
    "6. 健康食谱输出。列出5中不同石材，输出它们可能组成的所有菜式名称。"
   ]
  },
  {
   "cell_type": "code",
   "execution_count": 15,
   "metadata": {},
   "outputs": [
    {
     "name": "stdout",
     "output_type": "stream",
     "text": [
      "西红柿花椰菜\n",
      "西红柿黄瓜\n",
      "西红柿牛排\n",
      "西红柿虾仁\n",
      "花椰菜西红柿\n",
      "花椰菜黄瓜\n",
      "花椰菜牛排\n",
      "花椰菜虾仁\n",
      "黄瓜西红柿\n",
      "黄瓜花椰菜\n",
      "黄瓜牛排\n",
      "黄瓜虾仁\n",
      "牛排西红柿\n",
      "牛排花椰菜\n",
      "牛排黄瓜\n",
      "牛排虾仁\n",
      "虾仁西红柿\n",
      "虾仁花椰菜\n",
      "虾仁黄瓜\n",
      "虾仁牛排\n"
     ]
    }
   ],
   "source": [
    "diet = ['西红柿', '花椰菜', '黄瓜', '牛排', '虾仁']\n",
    "for x in range(0, 5):\n",
    "    for y in range(0, 5):\n",
    "        if not(x == y):\n",
    "            print (\"{}{}\".format(diet[x], diet[y]))"
   ]
  },
  {
   "cell_type": "markdown",
   "metadata": {},
   "source": [
    "7. 五角星的绘制。绘制一个红色的五角星图形。"
   ]
  },
  {
   "cell_type": "code",
   "execution_count": 3,
   "metadata": {},
   "outputs": [],
   "source": [
    "from turtle import *\n",
    "fillcolor(\"red\")\n",
    "begin_fill()\n",
    "while True:\n",
    "    forward(200)\n",
    "    right(144)\n",
    "    if abs(pos()) < 1:\n",
    "        break\n",
    "end_fill()\n",
    "done()"
   ]
  },
  {
   "cell_type": "markdown",
   "metadata": {},
   "source": [
    "8. 太阳花的绘制。绘制一个太阳花的图形。"
   ]
  },
  {
   "cell_type": "code",
   "execution_count": 5,
   "metadata": {},
   "outputs": [],
   "source": [
    "from turtle import *\n",
    "color('red', 'yellow')\n",
    "begin_fill()\n",
    "while True:\n",
    "    forward(200)\n",
    "    left(170)\n",
    "    if abs(pos()) < 1:\n",
    "        break\n",
    "end_fill()\n",
    "done()"
   ]
  }
 ],
 "metadata": {
  "kernelspec": {
   "display_name": "Python 3",
   "language": "python",
   "name": "python3"
  },
  "language_info": {
   "codemirror_mode": {
    "name": "ipython",
    "version": 3
   },
   "file_extension": ".py",
   "mimetype": "text/x-python",
   "name": "python",
   "nbconvert_exporter": "python",
   "pygments_lexer": "ipython3",
   "version": "3.7.0"
  }
 },
 "nbformat": 4,
 "nbformat_minor": 2
}
