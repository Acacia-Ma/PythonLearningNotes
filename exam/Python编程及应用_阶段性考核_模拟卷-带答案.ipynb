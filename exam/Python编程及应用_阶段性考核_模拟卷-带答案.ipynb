{
 "cells": [
  {
   "cell_type": "markdown",
   "metadata": {},
   "source": [
    "# 《Python编程及应用》阶段性考核（模拟卷）\n",
    "|学号|姓名|班级|\n",
    "|:-:|:-:|:-:|\n",
    "|2022081111|王元刚|人工智能221|\n",
    "\n",
    "**1. 编写程序，输出整数1010的二进制、八进制和十六进制形式的字符串。**"
   ]
  },
  {
   "cell_type": "code",
   "execution_count": 5,
   "metadata": {},
   "outputs": [
    {
     "name": "stdout",
     "output_type": "stream",
     "text": [
      "1111110010\n",
      "1762\n",
      "3f2\n"
     ]
    }
   ],
   "source": [
    "a = 1010\n",
    "print(\"{:b}\".format(a))\n",
    "print(\"{:o}\".format(a))\n",
    "print(\"{:x}\".format(a))"
   ]
  },
  {
   "cell_type": "markdown",
   "metadata": {},
   "source": [
    "**2. 编写程序，输出-77.的科学计数法形式，输出4.3e-3的十进制形式。**"
   ]
  },
  {
   "cell_type": "code",
   "execution_count": 8,
   "metadata": {},
   "outputs": [
    {
     "name": "stdout",
     "output_type": "stream",
     "text": [
      "-7.700000e+01\n",
      "0.004300\n"
     ]
    }
   ],
   "source": [
    "a = -77.\n",
    "b = 4.3e-3\n",
    "print(\"{:e}\".format(a))\n",
    "print(\"{:f}\".format(b))"
   ]
  },
  {
   "cell_type": "markdown",
   "metadata": {},
   "source": [
    "**3. 输出复数2.3e+3-1.34e-3j的实部和虚部。**"
   ]
  },
  {
   "cell_type": "code",
   "execution_count": 9,
   "metadata": {},
   "outputs": [
    {
     "name": "stdout",
     "output_type": "stream",
     "text": [
      "2300.0\n",
      "-0.00134\n"
     ]
    }
   ],
   "source": [
    "a = 2.3e+3-1.34e-3j\n",
    "print(a.real)\n",
    "print(a.imag)"
   ]
  },
  {
   "cell_type": "markdown",
   "metadata": {},
   "source": [
    "**4. 编写程序，根据公式$x=\\frac{2^{4} + 7 - 3 \\times 4}{5}$计算$x$的值。**"
   ]
  },
  {
   "cell_type": "code",
   "execution_count": 10,
   "metadata": {},
   "outputs": [
    {
     "name": "stdout",
     "output_type": "stream",
     "text": [
      "2.2\n"
     ]
    }
   ],
   "source": [
    "x = (2 ** 4 + 7 - 3 * 4) / 5\n",
    "print(x)"
   ]
  },
  {
   "cell_type": "markdown",
   "metadata": {},
   "source": [
    "**5. 编写程序，根据公式$x = (1 + 3^{2}) \\times (16 \\text{ mod } 7) / 7$计算$x$的值。**"
   ]
  },
  {
   "cell_type": "code",
   "execution_count": 11,
   "metadata": {},
   "outputs": [
    {
     "name": "stdout",
     "output_type": "stream",
     "text": [
      "2.857142857142857\n"
     ]
    }
   ],
   "source": [
    "x = (1 + 3 ** 2) * (16 % 7) / 7\n",
    "print(x)"
   ]
  },
  {
   "cell_type": "markdown",
   "metadata": {},
   "source": [
    "**6. 完成代码，输出`['d', 'e', 'f']`。**"
   ]
  },
  {
   "cell_type": "code",
   "execution_count": 12,
   "metadata": {},
   "outputs": [
    {
     "name": "stdout",
     "output_type": "stream",
     "text": [
      "['d', 'e', 'f']\n"
     ]
    }
   ],
   "source": [
    "letters = [\"a\", \"b\", \"c\", \"d\", \"e\", \"f\", \"g\", \"h\", \"i\", \"j\"]\n",
    "print(letters[3:6])"
   ]
  },
  {
   "cell_type": "markdown",
   "metadata": {},
   "source": [
    "**7. 完成代码，输出`['a', 'b', 'c']`，请给出两种写法。**\n",
    "* **写法1**："
   ]
  },
  {
   "cell_type": "code",
   "execution_count": 14,
   "metadata": {},
   "outputs": [
    {
     "name": "stdout",
     "output_type": "stream",
     "text": [
      "['a', 'b', 'c']\n",
      "['a', 'b', 'c']\n"
     ]
    }
   ],
   "source": [
    "letters = [\"a\", \"b\", \"c\", \"d\", \"e\", \"f\", \"g\", \"h\", \"i\", \"j\"]\n",
    "print(letters[0:3])\n",
    "print(letters[:3])"
   ]
  },
  {
   "cell_type": "markdown",
   "metadata": {},
   "source": [
    "* **写法2**："
   ]
  },
  {
   "cell_type": "code",
   "execution_count": 15,
   "metadata": {},
   "outputs": [
    {
     "name": "stdout",
     "output_type": "stream",
     "text": [
      "['a', 'b', 'c']\n"
     ]
    }
   ],
   "source": [
    "letters = [\"a\", \"b\", \"c\", \"d\", \"e\", \"f\", \"g\", \"h\", \"i\", \"j\"]\n",
    "print(letters[-10:-7])"
   ]
  },
  {
   "cell_type": "markdown",
   "metadata": {},
   "source": [
    "**8. 完成代码，输出字母`i`，请给出两种写法。**\n",
    "* **写法1**："
   ]
  },
  {
   "cell_type": "code",
   "execution_count": 16,
   "metadata": {},
   "outputs": [
    {
     "name": "stdout",
     "output_type": "stream",
     "text": [
      "i\n"
     ]
    }
   ],
   "source": [
    "letters = [\"a\", \"b\", \"c\", \"d\", \"e\", \"f\", \"g\", \"h\", \"i\", \"j\"]\n",
    "print(letters[8])"
   ]
  },
  {
   "cell_type": "markdown",
   "metadata": {},
   "source": [
    "* **写法2**："
   ]
  },
  {
   "cell_type": "code",
   "execution_count": 17,
   "metadata": {},
   "outputs": [
    {
     "name": "stdout",
     "output_type": "stream",
     "text": [
      "i\n"
     ]
    }
   ],
   "source": [
    "letters = [\"a\", \"b\", \"c\", \"d\", \"e\", \"f\", \"g\", \"h\", \"i\", \"j\"]\n",
    "print(letters[-2])"
   ]
  },
  {
   "cell_type": "markdown",
   "metadata": {},
   "source": [
    "**9. 完成代码，输出`['h', 'i', 'j']`，请给出四种写法。**"
   ]
  },
  {
   "cell_type": "markdown",
   "metadata": {},
   "source": [
    "* **写法1**："
   ]
  },
  {
   "cell_type": "code",
   "execution_count": 20,
   "metadata": {},
   "outputs": [
    {
     "name": "stdout",
     "output_type": "stream",
     "text": [
      "['h', 'i', 'j']\n"
     ]
    }
   ],
   "source": [
    "letters = [\"a\", \"b\", \"c\", \"d\", \"e\", \"f\", \"g\", \"h\", \"i\", \"j\"]\n",
    "print(letters[7:])"
   ]
  },
  {
   "cell_type": "markdown",
   "metadata": {},
   "source": [
    "* **写法2**："
   ]
  },
  {
   "cell_type": "code",
   "execution_count": 21,
   "metadata": {},
   "outputs": [
    {
     "name": "stdout",
     "output_type": "stream",
     "text": [
      "['h', 'i', 'j']\n"
     ]
    }
   ],
   "source": [
    "letters = [\"a\", \"b\", \"c\", \"d\", \"e\", \"f\", \"g\", \"h\", \"i\", \"j\"]\n",
    "print(letters[7:10])"
   ]
  },
  {
   "cell_type": "markdown",
   "metadata": {},
   "source": [
    "* **写法3**："
   ]
  },
  {
   "cell_type": "code",
   "execution_count": 24,
   "metadata": {},
   "outputs": [
    {
     "name": "stdout",
     "output_type": "stream",
     "text": [
      "['h', 'i', 'j']\n"
     ]
    }
   ],
   "source": [
    "letters = [\"a\", \"b\", \"c\", \"d\", \"e\", \"f\", \"g\", \"h\", \"i\", \"j\"]\n",
    "print(letters[-3:])"
   ]
  },
  {
   "cell_type": "markdown",
   "metadata": {},
   "source": [
    "* **写法4**："
   ]
  },
  {
   "cell_type": "code",
   "execution_count": 26,
   "metadata": {},
   "outputs": [
    {
     "name": "stdout",
     "output_type": "stream",
     "text": [
      "['h', 'i', 'j']\n"
     ]
    }
   ],
   "source": [
    "letters = [\"a\", \"b\", \"c\", \"d\", \"e\", \"f\", \"g\", \"h\", \"i\", \"j\"]\n",
    "print(letters[-3:10])"
   ]
  },
  {
   "cell_type": "markdown",
   "metadata": {},
   "source": [
    "**10. 完成代码，输出`['a', 'c', 'e', 'g', 'i']`。**"
   ]
  },
  {
   "cell_type": "code",
   "execution_count": 27,
   "metadata": {},
   "outputs": [
    {
     "name": "stdout",
     "output_type": "stream",
     "text": [
      "['a', 'c', 'e', 'g', 'i']\n"
     ]
    }
   ],
   "source": [
    "letters = [\"a\", \"b\", \"c\", \"d\", \"e\", \"f\", \"g\", \"h\", \"i\", \"j\"]\n",
    "print(letters[::2])"
   ]
  },
  {
   "cell_type": "markdown",
   "metadata": {},
   "source": [
    "**11. 新建数字列表1-20，不要一个一个数字填写，要求打印出来，每个数字用空格`\" \"`隔开。**"
   ]
  },
  {
   "cell_type": "code",
   "execution_count": 31,
   "metadata": {},
   "outputs": [
    {
     "name": "stdout",
     "output_type": "stream",
     "text": [
      "1 2 3 4 5 6 7 8 9 10 11 12 13 14 15 16 17 18 19 20 "
     ]
    }
   ],
   "source": [
    "a = list(range(1, 21))\n",
    "for i in a:\n",
    "    print(i, end=\" \")"
   ]
  },
  {
   "cell_type": "markdown",
   "metadata": {},
   "source": [
    "**12. 基于`range(1, 21)`生成列表`[10, 20, 30, 40, 50, 60, 70, 80, 90, 100, 110, 120, 130, 140, 150, 160, 170, 180, 190, 200]`。**\n",
    "* **写法1**："
   ]
  },
  {
   "cell_type": "code",
   "execution_count": 32,
   "metadata": {},
   "outputs": [
    {
     "name": "stdout",
     "output_type": "stream",
     "text": [
      "[10, 20, 30, 40, 50, 60, 70, 80, 90, 100, 110, 120, 130, 140, 150, 160, 170, 180, 190, 200]\n"
     ]
    }
   ],
   "source": [
    "a = list(range(10, 210, 10))\n",
    "print(a)"
   ]
  },
  {
   "cell_type": "markdown",
   "metadata": {},
   "source": [
    "* **写法2**："
   ]
  },
  {
   "cell_type": "code",
   "execution_count": 34,
   "metadata": {},
   "outputs": [
    {
     "name": "stdout",
     "output_type": "stream",
     "text": [
      "[10, 20, 30, 40, 50, 60, 70, 80, 90, 100, 110, 120, 130, 140, 150, 160, 170, 180, 190, 200]\n"
     ]
    }
   ],
   "source": [
    "a = list(range(1, 21))\n",
    "for i in range(len(a)):\n",
    "    a[i] = a[i] * 10\n",
    "print(a)"
   ]
  },
  {
   "cell_type": "markdown",
   "metadata": {},
   "source": [
    "**13. 基于`range(1, 21)`生成列表`[\"1\", \"2\", \"3\", \"4\", \"5\", \"6\", \"7\", \"8\", \"9\", \"10\", \"11\", \"12\", \"13\", \"14\", \"15\", \"16\", \"17\", \"18\", \"19\", \"20\"]`。**"
   ]
  },
  {
   "cell_type": "code",
   "execution_count": 43,
   "metadata": {},
   "outputs": [
    {
     "name": "stdout",
     "output_type": "stream",
     "text": [
      "['1', '2', '3', '4', '5', '6', '7', '8', '9', '10', '11', '12', '13', '14', '15', '16', '17', '18', '19', '20']\n"
     ]
    }
   ],
   "source": [
    "a = list(range(1, 21, 1))\n",
    "for i in range(len(a)):\n",
    "    a[i] = str(a[i])\n",
    "print(a)"
   ]
  },
  {
   "cell_type": "markdown",
   "metadata": {},
   "source": [
    "**14. 现有字符串`s = \"xydz\"`，编程输出`s`的逆序形式`\"zdyx\"`，请给出三种写法。**\n",
    "\n",
    "* **写法1**：切片"
   ]
  },
  {
   "cell_type": "code",
   "execution_count": 44,
   "metadata": {},
   "outputs": [
    {
     "name": "stdout",
     "output_type": "stream",
     "text": [
      "zdyx\n"
     ]
    }
   ],
   "source": [
    "s = \"xydz\"\n",
    "print(s[::-1])"
   ]
  },
  {
   "cell_type": "markdown",
   "metadata": {},
   "source": [
    "* **写法2**：循环倒序遍历"
   ]
  },
  {
   "cell_type": "code",
   "execution_count": 45,
   "metadata": {},
   "outputs": [
    {
     "name": "stdout",
     "output_type": "stream",
     "text": [
      "zdyx"
     ]
    }
   ],
   "source": [
    "s = \"xydz\"\n",
    "for i in range(len(s) - 1, -1, -1):\n",
    "    print(s[i], end=\"\")"
   ]
  },
  {
   "cell_type": "markdown",
   "metadata": {},
   "source": [
    "* **写法3**：递归"
   ]
  },
  {
   "cell_type": "code",
   "execution_count": 46,
   "metadata": {},
   "outputs": [
    {
     "name": "stdout",
     "output_type": "stream",
     "text": [
      "zdyx\n"
     ]
    }
   ],
   "source": [
    "s = \"xydz\"\n",
    "def reverse(a):\n",
    "    if a == \"\":\n",
    "        return a\n",
    "    else:\n",
    "        return reverse(a[1:]) + a[0]\n",
    "print(reverse(s))"
   ]
  },
  {
   "cell_type": "markdown",
   "metadata": {},
   "source": [
    "**15. 现有字符串`s = \"xyzwd\"`，编程输出`s`中奇数位置字符构成的字符串，位置编号从1开始。**\n",
    "* **写法1**：切片"
   ]
  },
  {
   "cell_type": "code",
   "execution_count": 47,
   "metadata": {},
   "outputs": [
    {
     "name": "stdout",
     "output_type": "stream",
     "text": [
      "xzd\n"
     ]
    }
   ],
   "source": [
    "s = \"xyzwd\"\n",
    "print(s[::2])"
   ]
  },
  {
   "cell_type": "markdown",
   "metadata": {},
   "source": [
    "* **写法2**：循环遍历"
   ]
  },
  {
   "cell_type": "code",
   "execution_count": 50,
   "metadata": {},
   "outputs": [
    {
     "name": "stdout",
     "output_type": "stream",
     "text": [
      "xzd"
     ]
    }
   ],
   "source": [
    "s = \"xyzwd\"\n",
    "for i in range(0, len(s), 2):\n",
    "    print(s[i], end=\"\")"
   ]
  },
  {
   "cell_type": "markdown",
   "metadata": {},
   "source": [
    "**16. 现有整数`a=7`，编程输出`a`在二进制表示下1的个数。**"
   ]
  },
  {
   "cell_type": "code",
   "execution_count": 53,
   "metadata": {},
   "outputs": [
    {
     "name": "stdout",
     "output_type": "stream",
     "text": [
      "3\n"
     ]
    }
   ],
   "source": [
    "a = 7\n",
    "print(bin(a).count(\"1\"))"
   ]
  },
  {
   "cell_type": "markdown",
   "metadata": {},
   "source": [
    "**17. 现有整数`a=24`，`b=36`，编程输出它们公约数的个数`n`。**"
   ]
  },
  {
   "cell_type": "code",
   "execution_count": 54,
   "metadata": {},
   "outputs": [
    {
     "name": "stdout",
     "output_type": "stream",
     "text": [
      "6\n"
     ]
    }
   ],
   "source": [
    "a = 24\n",
    "b = 36\n",
    "n = 0\n",
    "for i in range(1, max(a, b)):\n",
    "    if a % i == 0 and b % i == 0:\n",
    "        n = n + 1\n",
    "print(n)"
   ]
  },
  {
   "cell_type": "markdown",
   "metadata": {},
   "source": [
    "**18. 给定大写英文字符串`s=\"CAGY\"`和整数`a=3`，编程将`s`中的每个大写字符替换成字母表中比它大`a`的字母，这里将字母表的A和Z相连，如果超过了Z就回到A。**"
   ]
  },
  {
   "cell_type": "code",
   "execution_count": 56,
   "metadata": {},
   "outputs": [
    {
     "name": "stdout",
     "output_type": "stream",
     "text": [
      "FDJB"
     ]
    }
   ],
   "source": [
    "s = \"CAGY\"\n",
    "a = 3\n",
    "for i in s:\n",
    "    u = ord(i) + a\n",
    "    if u > ord(\"Z\"):\n",
    "        u = u - 26\n",
    "    print(chr(u), end=\"\")"
   ]
  },
  {
   "cell_type": "markdown",
   "metadata": {},
   "source": [
    "**19. 给你两个时间的字符串表示`st=\"00:01:00\"`和`et=\"14:32:51\"`，编程输出这两个时间间隔的秒数。**\n",
    "\n",
    "**写法1**：字符串处理"
   ]
  },
  {
   "cell_type": "code",
   "execution_count": 63,
   "metadata": {},
   "outputs": [
    {
     "name": "stdout",
     "output_type": "stream",
     "text": [
      "52311\n"
     ]
    }
   ],
   "source": [
    "st=\"00:01:00\"\n",
    "et=\"14:32:51\"\n",
    "st_list = st.split(\":\")\n",
    "et_list = et.split(\":\")\n",
    "st_list = [int(i) for i in st_list]\n",
    "et_list = [int(i) for i in et_list]\n",
    "st_second = st_list[0] * 3600 + st_list[1] * 60 + st_list[2]\n",
    "et_second = et_list[0] * 3600 + et_list[1] * 60 + et_list[2]\n",
    "print(et_second - st_second)"
   ]
  },
  {
   "cell_type": "markdown",
   "metadata": {},
   "source": [
    "**写法2**：使用datetime库"
   ]
  },
  {
   "cell_type": "code",
   "execution_count": 68,
   "metadata": {},
   "outputs": [
    {
     "name": "stdout",
     "output_type": "stream",
     "text": [
      "52311\n"
     ]
    }
   ],
   "source": [
    "import datetime\n",
    "st=\"00:01:00\"\n",
    "et=\"14:32:51\"\n",
    "st_dt = datetime.datetime.strptime(st, \"%H:%M:%S\")\n",
    "et_dt = datetime.datetime.strptime(et, \"%H:%M:%S\")\n",
    "print((et_dt - st_dt).seconds)"
   ]
  },
  {
   "cell_type": "markdown",
   "metadata": {},
   "source": [
    "**20. 如图所示，\n",
    "![sanjiaoxing](data:image/png;base64,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)\n",
    "对于$\\triangle ABC$，根据余弦定理可知，\n",
    "$$\n",
    "\\left\\{\\begin{matrix}\n",
    "c^{2} = a^{2} + b^{2} - 2ab\\cos\\gamma \\\\ \n",
    "b^{2} = c^{2} + a^{2} - 2ac\\cos\\beta \\\\ \n",
    "a^{2} = b^{2} + c^{2} - 2bc\\cos\\alpha \\\\\n",
    "\\end{matrix}\\right.\n",
    "$$\n",
    "现已知$a=3$、$b=5$和$c=7$，编写代码求$\\alpha$、$\\beta$和$\\gamma$的角度值并输出。**"
   ]
  },
  {
   "cell_type": "code",
   "execution_count": 73,
   "metadata": {},
   "outputs": [
    {
     "name": "stdout",
     "output_type": "stream",
     "text": [
      "21.78678929826181 38.21321070173819 120.00000000000001\n"
     ]
    }
   ],
   "source": [
    "import math\n",
    "a = 3\n",
    "b = 5\n",
    "c = 7\n",
    "gamma = math.degrees(math.acos((a ** 2 + b ** 2 - c ** 2) / (2 * a * b)))\n",
    "beta = math.degrees(math.acos((c ** 2 + a ** 2 - b ** 2) / (2 * a * c)))\n",
    "alpha = math.degrees(math.acos((b ** 2 + c ** 2 - a ** 2) / (2 * b * c)))\n",
    "print(alpha, beta, gamma)"
   ]
  },
  {
   "cell_type": "code",
   "execution_count": null,
   "metadata": {},
   "outputs": [],
   "source": []
  }
 ],
 "metadata": {
  "kernelspec": {
   "display_name": "Python 3",
   "language": "python",
   "name": "python3"
  },
  "language_info": {
   "codemirror_mode": {
    "name": "ipython",
    "version": 3
   },
   "file_extension": ".py",
   "mimetype": "text/x-python",
   "name": "python",
   "nbconvert_exporter": "python",
   "pygments_lexer": "ipython3",
   "version": "3.7.0"
  }
 },
 "nbformat": 4,
 "nbformat_minor": 2
}
